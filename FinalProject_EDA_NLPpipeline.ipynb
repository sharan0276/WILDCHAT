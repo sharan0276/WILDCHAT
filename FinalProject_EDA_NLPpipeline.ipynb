{
  "nbformat": 4,
  "nbformat_minor": 0,
  "metadata": {
    "colab": {
      "provenance": []
    },
    "kernelspec": {
      "name": "python3",
      "display_name": "Python 3"
    },
    "language_info": {
      "name": "python"
    }
  },
  "cells": [
    {
      "cell_type": "code",
      "execution_count": null,
      "metadata": {
        "colab": {
          "base_uri": "https://localhost:8080/"
        },
        "id": "4kJxFcfQFsCM",
        "outputId": "93b8137e-14dc-418d-a9c7-08aaeb48b221",
        "collapsed": true
      },
      "outputs": [
        {
          "output_type": "stream",
          "name": "stdout",
          "text": [
            "Requirement already satisfied: fastparquet in /usr/local/lib/python3.10/dist-packages (2024.11.0)\n",
            "Requirement already satisfied: pandas>=1.5.0 in /usr/local/lib/python3.10/dist-packages (from fastparquet) (2.2.2)\n",
            "Requirement already satisfied: numpy in /usr/local/lib/python3.10/dist-packages (from fastparquet) (1.26.4)\n",
            "Requirement already satisfied: cramjam>=2.3 in /usr/local/lib/python3.10/dist-packages (from fastparquet) (2.9.0)\n",
            "Requirement already satisfied: fsspec in /usr/local/lib/python3.10/dist-packages (from fastparquet) (2024.10.0)\n",
            "Requirement already satisfied: packaging in /usr/local/lib/python3.10/dist-packages (from fastparquet) (24.2)\n",
            "Requirement already satisfied: python-dateutil>=2.8.2 in /usr/local/lib/python3.10/dist-packages (from pandas>=1.5.0->fastparquet) (2.8.2)\n",
            "Requirement already satisfied: pytz>=2020.1 in /usr/local/lib/python3.10/dist-packages (from pandas>=1.5.0->fastparquet) (2024.2)\n",
            "Requirement already satisfied: tzdata>=2022.7 in /usr/local/lib/python3.10/dist-packages (from pandas>=1.5.0->fastparquet) (2024.2)\n",
            "Requirement already satisfied: six>=1.5 in /usr/local/lib/python3.10/dist-packages (from python-dateutil>=2.8.2->pandas>=1.5.0->fastparquet) (1.16.0)\n",
            "Requirement already satisfied: fastopic in /usr/local/lib/python3.10/dist-packages (0.0.5)\n",
            "Requirement already satisfied: topmost>=0.0.5 in /usr/local/lib/python3.10/dist-packages (from fastopic) (0.0.5)\n",
            "Requirement already satisfied: numpy<1.27.0 in /usr/local/lib/python3.10/dist-packages (from topmost>=0.0.5->fastopic) (1.26.4)\n",
            "Requirement already satisfied: scipy<=1.10.1 in /usr/local/lib/python3.10/dist-packages (from topmost>=0.0.5->fastopic) (1.10.1)\n",
            "Requirement already satisfied: sentence-transformers<3.0.0,>=2.6.0 in /usr/local/lib/python3.10/dist-packages (from topmost>=0.0.5->fastopic) (2.7.0)\n",
            "Requirement already satisfied: torchvision>=0.14.1 in /usr/local/lib/python3.10/dist-packages (from topmost>=0.0.5->fastopic) (0.20.1+cu121)\n",
            "Requirement already satisfied: gensim>=4.2.0 in /usr/local/lib/python3.10/dist-packages (from topmost>=0.0.5->fastopic) (4.3.3)\n",
            "Requirement already satisfied: scikit-learn>=0.24.2 in /usr/local/lib/python3.10/dist-packages (from topmost>=0.0.5->fastopic) (1.5.2)\n",
            "Requirement already satisfied: tqdm>=4.66.0 in /usr/local/lib/python3.10/dist-packages (from topmost>=0.0.5->fastopic) (4.66.6)\n",
            "Requirement already satisfied: bertopic>=0.15.0 in /usr/local/lib/python3.10/dist-packages (from topmost>=0.0.5->fastopic) (0.16.4)\n",
            "Requirement already satisfied: hdbscan>=0.8.29 in /usr/local/lib/python3.10/dist-packages (from bertopic>=0.15.0->topmost>=0.0.5->fastopic) (0.8.40)\n",
            "Requirement already satisfied: pandas>=1.1.5 in /usr/local/lib/python3.10/dist-packages (from bertopic>=0.15.0->topmost>=0.0.5->fastopic) (2.2.2)\n",
            "Requirement already satisfied: plotly>=4.7.0 in /usr/local/lib/python3.10/dist-packages (from bertopic>=0.15.0->topmost>=0.0.5->fastopic) (5.24.1)\n",
            "Requirement already satisfied: umap-learn>=0.5.0 in /usr/local/lib/python3.10/dist-packages (from bertopic>=0.15.0->topmost>=0.0.5->fastopic) (0.5.7)\n",
            "Requirement already satisfied: smart-open>=1.8.1 in /usr/local/lib/python3.10/dist-packages (from gensim>=4.2.0->topmost>=0.0.5->fastopic) (7.0.5)\n",
            "Requirement already satisfied: joblib>=1.2.0 in /usr/local/lib/python3.10/dist-packages (from scikit-learn>=0.24.2->topmost>=0.0.5->fastopic) (1.4.2)\n",
            "Requirement already satisfied: threadpoolctl>=3.1.0 in /usr/local/lib/python3.10/dist-packages (from scikit-learn>=0.24.2->topmost>=0.0.5->fastopic) (3.5.0)\n",
            "Requirement already satisfied: transformers<5.0.0,>=4.34.0 in /usr/local/lib/python3.10/dist-packages (from sentence-transformers<3.0.0,>=2.6.0->topmost>=0.0.5->fastopic) (4.46.2)\n",
            "Requirement already satisfied: torch>=1.11.0 in /usr/local/lib/python3.10/dist-packages (from sentence-transformers<3.0.0,>=2.6.0->topmost>=0.0.5->fastopic) (2.5.1+cu121)\n",
            "Requirement already satisfied: huggingface-hub>=0.15.1 in /usr/local/lib/python3.10/dist-packages (from sentence-transformers<3.0.0,>=2.6.0->topmost>=0.0.5->fastopic) (0.26.2)\n",
            "Requirement already satisfied: Pillow in /usr/local/lib/python3.10/dist-packages (from sentence-transformers<3.0.0,>=2.6.0->topmost>=0.0.5->fastopic) (11.0.0)\n",
            "Requirement already satisfied: filelock in /usr/local/lib/python3.10/dist-packages (from torch>=1.11.0->sentence-transformers<3.0.0,>=2.6.0->topmost>=0.0.5->fastopic) (3.16.1)\n",
            "Requirement already satisfied: typing-extensions>=4.8.0 in /usr/local/lib/python3.10/dist-packages (from torch>=1.11.0->sentence-transformers<3.0.0,>=2.6.0->topmost>=0.0.5->fastopic) (4.12.2)\n",
            "Requirement already satisfied: networkx in /usr/local/lib/python3.10/dist-packages (from torch>=1.11.0->sentence-transformers<3.0.0,>=2.6.0->topmost>=0.0.5->fastopic) (3.4.2)\n",
            "Requirement already satisfied: jinja2 in /usr/local/lib/python3.10/dist-packages (from torch>=1.11.0->sentence-transformers<3.0.0,>=2.6.0->topmost>=0.0.5->fastopic) (3.1.4)\n",
            "Requirement already satisfied: fsspec in /usr/local/lib/python3.10/dist-packages (from torch>=1.11.0->sentence-transformers<3.0.0,>=2.6.0->topmost>=0.0.5->fastopic) (2024.10.0)\n",
            "Requirement already satisfied: sympy==1.13.1 in /usr/local/lib/python3.10/dist-packages (from torch>=1.11.0->sentence-transformers<3.0.0,>=2.6.0->topmost>=0.0.5->fastopic) (1.13.1)\n",
            "Requirement already satisfied: mpmath<1.4,>=1.1.0 in /usr/local/lib/python3.10/dist-packages (from sympy==1.13.1->torch>=1.11.0->sentence-transformers<3.0.0,>=2.6.0->topmost>=0.0.5->fastopic) (1.3.0)\n",
            "Requirement already satisfied: packaging>=20.9 in /usr/local/lib/python3.10/dist-packages (from huggingface-hub>=0.15.1->sentence-transformers<3.0.0,>=2.6.0->topmost>=0.0.5->fastopic) (24.2)\n",
            "Requirement already satisfied: pyyaml>=5.1 in /usr/local/lib/python3.10/dist-packages (from huggingface-hub>=0.15.1->sentence-transformers<3.0.0,>=2.6.0->topmost>=0.0.5->fastopic) (6.0.2)\n",
            "Requirement already satisfied: requests in /usr/local/lib/python3.10/dist-packages (from huggingface-hub>=0.15.1->sentence-transformers<3.0.0,>=2.6.0->topmost>=0.0.5->fastopic) (2.32.3)\n",
            "Requirement already satisfied: python-dateutil>=2.8.2 in /usr/local/lib/python3.10/dist-packages (from pandas>=1.1.5->bertopic>=0.15.0->topmost>=0.0.5->fastopic) (2.8.2)\n",
            "Requirement already satisfied: pytz>=2020.1 in /usr/local/lib/python3.10/dist-packages (from pandas>=1.1.5->bertopic>=0.15.0->topmost>=0.0.5->fastopic) (2024.2)\n",
            "Requirement already satisfied: tzdata>=2022.7 in /usr/local/lib/python3.10/dist-packages (from pandas>=1.1.5->bertopic>=0.15.0->topmost>=0.0.5->fastopic) (2024.2)\n",
            "Requirement already satisfied: tenacity>=6.2.0 in /usr/local/lib/python3.10/dist-packages (from plotly>=4.7.0->bertopic>=0.15.0->topmost>=0.0.5->fastopic) (9.0.0)\n",
            "Requirement already satisfied: wrapt in /usr/local/lib/python3.10/dist-packages (from smart-open>=1.8.1->gensim>=4.2.0->topmost>=0.0.5->fastopic) (1.16.0)\n",
            "Requirement already satisfied: regex!=2019.12.17 in /usr/local/lib/python3.10/dist-packages (from transformers<5.0.0,>=4.34.0->sentence-transformers<3.0.0,>=2.6.0->topmost>=0.0.5->fastopic) (2024.9.11)\n",
            "Requirement already satisfied: safetensors>=0.4.1 in /usr/local/lib/python3.10/dist-packages (from transformers<5.0.0,>=4.34.0->sentence-transformers<3.0.0,>=2.6.0->topmost>=0.0.5->fastopic) (0.4.5)\n",
            "Requirement already satisfied: tokenizers<0.21,>=0.20 in /usr/local/lib/python3.10/dist-packages (from transformers<5.0.0,>=4.34.0->sentence-transformers<3.0.0,>=2.6.0->topmost>=0.0.5->fastopic) (0.20.3)\n",
            "Requirement already satisfied: numba>=0.51.2 in /usr/local/lib/python3.10/dist-packages (from umap-learn>=0.5.0->bertopic>=0.15.0->topmost>=0.0.5->fastopic) (0.60.0)\n",
            "Requirement already satisfied: pynndescent>=0.5 in /usr/local/lib/python3.10/dist-packages (from umap-learn>=0.5.0->bertopic>=0.15.0->topmost>=0.0.5->fastopic) (0.5.13)\n",
            "Requirement already satisfied: llvmlite<0.44,>=0.43.0dev0 in /usr/local/lib/python3.10/dist-packages (from numba>=0.51.2->umap-learn>=0.5.0->bertopic>=0.15.0->topmost>=0.0.5->fastopic) (0.43.0)\n",
            "Requirement already satisfied: six>=1.5 in /usr/local/lib/python3.10/dist-packages (from python-dateutil>=2.8.2->pandas>=1.1.5->bertopic>=0.15.0->topmost>=0.0.5->fastopic) (1.16.0)\n",
            "Requirement already satisfied: MarkupSafe>=2.0 in /usr/local/lib/python3.10/dist-packages (from jinja2->torch>=1.11.0->sentence-transformers<3.0.0,>=2.6.0->topmost>=0.0.5->fastopic) (3.0.2)\n",
            "Requirement already satisfied: charset-normalizer<4,>=2 in /usr/local/lib/python3.10/dist-packages (from requests->huggingface-hub>=0.15.1->sentence-transformers<3.0.0,>=2.6.0->topmost>=0.0.5->fastopic) (3.4.0)\n",
            "Requirement already satisfied: idna<4,>=2.5 in /usr/local/lib/python3.10/dist-packages (from requests->huggingface-hub>=0.15.1->sentence-transformers<3.0.0,>=2.6.0->topmost>=0.0.5->fastopic) (3.10)\n",
            "Requirement already satisfied: urllib3<3,>=1.21.1 in /usr/local/lib/python3.10/dist-packages (from requests->huggingface-hub>=0.15.1->sentence-transformers<3.0.0,>=2.6.0->topmost>=0.0.5->fastopic) (2.2.3)\n",
            "Requirement already satisfied: certifi>=2017.4.17 in /usr/local/lib/python3.10/dist-packages (from requests->huggingface-hub>=0.15.1->sentence-transformers<3.0.0,>=2.6.0->topmost>=0.0.5->fastopic) (2024.8.30)\n"
          ]
        }
      ],
      "source": [
        "!pip install fastparquet\n",
        "!pip install fastopic\n",
        "\n",
        "import fastparquet\n",
        "\n",
        "import numpy as np\n",
        "import matplotlib.pyplot as plt\n",
        "import seaborn as sns\n",
        "import pandas as pd\n"
      ]
    },
    {
      "cell_type": "code",
      "source": [
        "from fastopic import FASTopic\n",
        "from topmost.preprocessing import Preprocessing\n",
        "import nltk\n",
        "from nltk.corpus import stopwords\n",
        "\n",
        "import re   # Import regular expressions\n",
        "\n",
        "nltk.download('stopwords')\n",
        "stop_words  = stopwords.words('english')\n",
        "print(stop_words)"
      ],
      "metadata": {
        "id": "9mYbWDhnimSt",
        "colab": {
          "base_uri": "https://localhost:8080/"
        },
        "outputId": "92c9506b-17c7-43d1-ecfb-0da09bf20150"
      },
      "execution_count": null,
      "outputs": [
        {
          "output_type": "stream",
          "name": "stderr",
          "text": [
            "[nltk_data] Downloading package stopwords to /root/nltk_data...\n",
            "[nltk_data]   Unzipping corpora/stopwords.zip.\n"
          ]
        },
        {
          "output_type": "stream",
          "name": "stdout",
          "text": [
            "['i', 'me', 'my', 'myself', 'we', 'our', 'ours', 'ourselves', 'you', \"you're\", \"you've\", \"you'll\", \"you'd\", 'your', 'yours', 'yourself', 'yourselves', 'he', 'him', 'his', 'himself', 'she', \"she's\", 'her', 'hers', 'herself', 'it', \"it's\", 'its', 'itself', 'they', 'them', 'their', 'theirs', 'themselves', 'what', 'which', 'who', 'whom', 'this', 'that', \"that'll\", 'these', 'those', 'am', 'is', 'are', 'was', 'were', 'be', 'been', 'being', 'have', 'has', 'had', 'having', 'do', 'does', 'did', 'doing', 'a', 'an', 'the', 'and', 'but', 'if', 'or', 'because', 'as', 'until', 'while', 'of', 'at', 'by', 'for', 'with', 'about', 'against', 'between', 'into', 'through', 'during', 'before', 'after', 'above', 'below', 'to', 'from', 'up', 'down', 'in', 'out', 'on', 'off', 'over', 'under', 'again', 'further', 'then', 'once', 'here', 'there', 'when', 'where', 'why', 'how', 'all', 'any', 'both', 'each', 'few', 'more', 'most', 'other', 'some', 'such', 'no', 'nor', 'not', 'only', 'own', 'same', 'so', 'than', 'too', 'very', 's', 't', 'can', 'will', 'just', 'don', \"don't\", 'should', \"should've\", 'now', 'd', 'll', 'm', 'o', 're', 've', 'y', 'ain', 'aren', \"aren't\", 'couldn', \"couldn't\", 'didn', \"didn't\", 'doesn', \"doesn't\", 'hadn', \"hadn't\", 'hasn', \"hasn't\", 'haven', \"haven't\", 'isn', \"isn't\", 'ma', 'mightn', \"mightn't\", 'mustn', \"mustn't\", 'needn', \"needn't\", 'shan', \"shan't\", 'shouldn', \"shouldn't\", 'wasn', \"wasn't\", 'weren', \"weren't\", 'won', \"won't\", 'wouldn', \"wouldn't\"]\n"
          ]
        }
      ]
    },
    {
      "cell_type": "code",
      "source": [],
      "metadata": {
        "id": "2fS769qZ0it7"
      },
      "execution_count": null,
      "outputs": []
    },
    {
      "cell_type": "code",
      "source": [
        "df0 = fastparquet.ParquetFile('/content/part-00000-fcd50b3f-2625-4d67-b5e9-3d89e8ff1982-c000.snappy.parquet').to_pandas()\n",
        "df1 = fastparquet.ParquetFile('/content/part-00001-fcd50b3f-2625-4d67-b5e9-3d89e8ff1982-c000.snappy.parquet').to_pandas()\n",
        "\n",
        "df2 = fastparquet.ParquetFile('/content/part-00002-fcd50b3f-2625-4d67-b5e9-3d89e8ff1982-c000.snappy.parquet').to_pandas()\n",
        "df3 = fastparquet.ParquetFile('/content/part-00003-fcd50b3f-2625-4d67-b5e9-3d89e8ff1982-c000.snappy.parquet').to_pandas()\n",
        "\n",
        "df4 = fastparquet.ParquetFile('/content/part-00004-fcd50b3f-2625-4d67-b5e9-3d89e8ff1982-c000.snappy.parquet').to_pandas()\n",
        "df5 = fastparquet.ParquetFile('/content/part-00005-fcd50b3f-2625-4d67-b5e9-3d89e8ff1982-c000.snappy.parquet').to_pandas()\n",
        "\n",
        "df6 = fastparquet.ParquetFile('/content/part-00006-fcd50b3f-2625-4d67-b5e9-3d89e8ff1982-c000.snappy.parquet').to_pandas()\n",
        "df7 = fastparquet.ParquetFile('/content/part-00007-fcd50b3f-2625-4d67-b5e9-3d89e8ff1982-c000.snappy.parquet').to_pandas()\n",
        "\n",
        "df8 = fastparquet.ParquetFile('/content/part-00008-fcd50b3f-2625-4d67-b5e9-3d89e8ff1982-c000.snappy.parquet').to_pandas()\n",
        "df9 = fastparquet.ParquetFile('/content/part-00009-fcd50b3f-2625-4d67-b5e9-3d89e8ff1982-c000.snappy.parquet').to_pandas()\n"
      ],
      "metadata": {
        "id": "-_uDZiHJGUZf"
      },
      "execution_count": null,
      "outputs": []
    },
    {
      "cell_type": "code",
      "source": [
        "df10 = fastparquet.ParquetFile('part-00010-0e331bea-c421-4f0c-bd6c-547f5e330d8b-c000.snappy.parquet').to_pandas()\n",
        "df11 = fastparquet.ParquetFile('part-00011-0e331bea-c421-4f0c-bd6c-547f5e330d8b-c000.snappy.parquet').to_pandas()\n",
        "df12 = fastparquet.ParquetFile('/content/part-00012-0e331bea-c421-4f0c-bd6c-547f5e330d8b-c000.snappy.parquet').to_pandas()\n",
        "df13 = fastparquet.ParquetFile('/content/part-00013-0e331bea-c421-4f0c-bd6c-547f5e330d8b-c000.snappy.parquet').to_pandas()\n",
        "df14 = fastparquet.ParquetFile('/content/part-00014-0e331bea-c421-4f0c-bd6c-547f5e330d8b-c000.snappy.parquet').to_pandas()\n",
        "df15 = fastparquet.ParquetFile('/content/part-00015-0e331bea-c421-4f0c-bd6c-547f5e330d8b-c000.snappy.parquet').to_pandas()\n",
        "df16 = fastparquet.ParquetFile('/content/part-00016-0e331bea-c421-4f0c-bd6c-547f5e330d8b-c000.snappy.parquet').to_pandas()\n",
        "df17 = fastparquet.ParquetFile('/content/part-00017-0e331bea-c421-4f0c-bd6c-547f5e330d8b-c000.snappy.parquet').to_pandas()\n",
        "df18 = fastparquet.ParquetFile('/content/part-00018-0e331bea-c421-4f0c-bd6c-547f5e330d8b-c000.snappy.parquet').to_pandas()\n",
        "df19 = fastparquet.ParquetFile('/content/part-00019-0e331bea-c421-4f0c-bd6c-547f5e330d8b-c000.snappy.parquet').to_pandas()\n",
        "df20 = fastparquet.ParquetFile('/content/part-00018-0e331bea-c421-4f0c-bd6c-547f5e330d8b-c000.snappy.parquet').to_pandas()\n",
        "df21 = fastparquet.ParquetFile('/content/part-00019-0e331bea-c421-4f0c-bd6c-547f5e330d8b-c000.snappy.parquet').to_pandas()\n",
        "df22 = fastparquet.ParquetFile('/content/part-00018-0e331bea-c421-4f0c-bd6c-547f5e330d8b-c000.snappy.parquet').to_pandas()\n",
        "df23 = fastparquet.ParquetFile('/content/part-00019-0e331bea-c421-4f0c-bd6c-547f5e330d8b-c000.snappy.parquet').to_pandas()\n",
        "df24 = fastparquet.ParquetFile('/content/part-00018-0e331bea-c421-4f0c-bd6c-547f5e330d8b-c000.snappy.parquet').to_pandas()\n"
      ],
      "metadata": {
        "id": "HMqLl59AKBug"
      },
      "execution_count": null,
      "outputs": []
    },
    {
      "cell_type": "code",
      "source": [
        "print(df8.shape)\n",
        "print(df9.shape)\n",
        "\n",
        "df9.head()"
      ],
      "metadata": {
        "colab": {
          "base_uri": "https://localhost:8080/",
          "height": 660
        },
        "id": "8MFTd1wuG3NV",
        "outputId": "dabae72a-4dc5-41be-cc0f-0ba7a96d07d9"
      },
      "execution_count": null,
      "outputs": [
        {
          "output_type": "stream",
          "name": "stdout",
          "text": [
            "(18220, 17)\n",
            "(22735, 17)\n"
          ]
        },
        {
          "output_type": "execute_result",
          "data": {
            "text/plain": [
              "                  conversation_hash               model           timestamp  \\\n",
              "0  00021ba10f3c8a3a80857434a6a28ff4  gpt-3.5-turbo-0301 2023-05-14 12:08:05   \n",
              "1  003555d676c41cd40df173ed7cc969e8  gpt-3.5-turbo-0301 2023-05-26 21:49:55   \n",
              "2  003dc0c5424bbfa7784fa0011b6d700e  gpt-3.5-turbo-0613 2023-10-17 00:08:06   \n",
              "3  005ca87857341a68a1ec5926814fcc6e  gpt-4-1106-preview 2024-02-28 16:13:30   \n",
              "4  0090370094aedcced23281b4f3771d0f  gpt-3.5-turbo-0613 2023-08-17 10:07:49   \n",
              "\n",
              "  conversation  turn language  toxic  redacted          state        country  \\\n",
              "0         None     1  English  False     False         Saxony        Germany   \n",
              "1         None     1  English  False     False     California  United States   \n",
              "2         None     2  English  False     False   Pennsylvania  United States   \n",
              "3         None     1  English  False     False  Massachusetts  United States   \n",
              "4         None     1  English  False     False           None  United States   \n",
              "\n",
              "                                           hashed_ip content  \\\n",
              "0  2e2c0cbc96ea7d24e523f93acad3e20a3deade05e10fba...    None   \n",
              "1  c1248a24a8f17024355f0703328eef21ece4d8afb6c2cf...    None   \n",
              "2  d8ff29c8a2a5ce71881e8d2ba0840d26315674574d095c...    None   \n",
              "3  3e7ae36b9ca739b0e16876727814a0e8470c8496aab833...    None   \n",
              "4  a0e542c18e25a29832c7c59ca23d4c90e717b250624cd0...    None   \n",
              "\n",
              "      turn_identifier                                         userprompt  \\\n",
              "0            [474300]  [From now on you will be running an interactiv...   \n",
              "1            [643055]  [What are the 3 best stable diffusion software...   \n",
              "2  [1660334, 1660332]  [The teacher is supposed to give up after he r...   \n",
              "3           [2381711]  [Please create a vividly detailed comedic roma...   \n",
              "4           [1395404]  [(In the clubroom…)\\n\\nYuri: (worried) “S-S-Sh...   \n",
              "\n",
              "                                             botresp  \\\n",
              "0  [Your bladder is currently at 0% and your bowe...   \n",
              "1  [As an AI language model, I don't have a subje...   \n",
              "2  [Apologies for deviating from your initial req...   \n",
              "3  [I'm sorry, but I can't fulfill this request. ...   \n",
              "4  [Yuri: (rushing towards the bathroom) \"Natsuki...   \n",
              "\n",
              "                                       userprompt_up  \\\n",
              "0  [running interactive story. playing small drag...   \n",
              "1  [best stable diffusion softwares download macb...   \n",
              "2  [teacher supposed give refuses read., write st...   \n",
              "3  [please create vividly detailed comedic romant...   \n",
              "4  [clubroomyuri worried s-s-she hasnt shown yet?...   \n",
              "\n",
              "                                          botresp_up  \n",
              "0  [bladder currently bowels take surroundings st...  \n",
              "1  [language model subjective point view however ...  \n",
              "2  [apologies deviating initial request. here's a...  \n",
              "3  [i'm sorry can't fulfill request. writing expl...  \n",
              "4  [yuri rushing towards bathroom natsuki there?m...  "
            ],
            "text/html": [
              "\n",
              "  <div id=\"df-e081e61c-c491-40a5-8d1a-9153f920f969\" class=\"colab-df-container\">\n",
              "    <div>\n",
              "<style scoped>\n",
              "    .dataframe tbody tr th:only-of-type {\n",
              "        vertical-align: middle;\n",
              "    }\n",
              "\n",
              "    .dataframe tbody tr th {\n",
              "        vertical-align: top;\n",
              "    }\n",
              "\n",
              "    .dataframe thead th {\n",
              "        text-align: right;\n",
              "    }\n",
              "</style>\n",
              "<table border=\"1\" class=\"dataframe\">\n",
              "  <thead>\n",
              "    <tr style=\"text-align: right;\">\n",
              "      <th></th>\n",
              "      <th>conversation_hash</th>\n",
              "      <th>model</th>\n",
              "      <th>timestamp</th>\n",
              "      <th>conversation</th>\n",
              "      <th>turn</th>\n",
              "      <th>language</th>\n",
              "      <th>toxic</th>\n",
              "      <th>redacted</th>\n",
              "      <th>state</th>\n",
              "      <th>country</th>\n",
              "      <th>hashed_ip</th>\n",
              "      <th>content</th>\n",
              "      <th>turn_identifier</th>\n",
              "      <th>userprompt</th>\n",
              "      <th>botresp</th>\n",
              "      <th>userprompt_up</th>\n",
              "      <th>botresp_up</th>\n",
              "    </tr>\n",
              "  </thead>\n",
              "  <tbody>\n",
              "    <tr>\n",
              "      <th>0</th>\n",
              "      <td>00021ba10f3c8a3a80857434a6a28ff4</td>\n",
              "      <td>gpt-3.5-turbo-0301</td>\n",
              "      <td>2023-05-14 12:08:05</td>\n",
              "      <td>None</td>\n",
              "      <td>1</td>\n",
              "      <td>English</td>\n",
              "      <td>False</td>\n",
              "      <td>False</td>\n",
              "      <td>Saxony</td>\n",
              "      <td>Germany</td>\n",
              "      <td>2e2c0cbc96ea7d24e523f93acad3e20a3deade05e10fba...</td>\n",
              "      <td>None</td>\n",
              "      <td>[474300]</td>\n",
              "      <td>[From now on you will be running an interactiv...</td>\n",
              "      <td>[Your bladder is currently at 0% and your bowe...</td>\n",
              "      <td>[running interactive story. playing small drag...</td>\n",
              "      <td>[bladder currently bowels take surroundings st...</td>\n",
              "    </tr>\n",
              "    <tr>\n",
              "      <th>1</th>\n",
              "      <td>003555d676c41cd40df173ed7cc969e8</td>\n",
              "      <td>gpt-3.5-turbo-0301</td>\n",
              "      <td>2023-05-26 21:49:55</td>\n",
              "      <td>None</td>\n",
              "      <td>1</td>\n",
              "      <td>English</td>\n",
              "      <td>False</td>\n",
              "      <td>False</td>\n",
              "      <td>California</td>\n",
              "      <td>United States</td>\n",
              "      <td>c1248a24a8f17024355f0703328eef21ece4d8afb6c2cf...</td>\n",
              "      <td>None</td>\n",
              "      <td>[643055]</td>\n",
              "      <td>[What are the 3 best stable diffusion software...</td>\n",
              "      <td>[As an AI language model, I don't have a subje...</td>\n",
              "      <td>[best stable diffusion softwares download macb...</td>\n",
              "      <td>[language model subjective point view however ...</td>\n",
              "    </tr>\n",
              "    <tr>\n",
              "      <th>2</th>\n",
              "      <td>003dc0c5424bbfa7784fa0011b6d700e</td>\n",
              "      <td>gpt-3.5-turbo-0613</td>\n",
              "      <td>2023-10-17 00:08:06</td>\n",
              "      <td>None</td>\n",
              "      <td>2</td>\n",
              "      <td>English</td>\n",
              "      <td>False</td>\n",
              "      <td>False</td>\n",
              "      <td>Pennsylvania</td>\n",
              "      <td>United States</td>\n",
              "      <td>d8ff29c8a2a5ce71881e8d2ba0840d26315674574d095c...</td>\n",
              "      <td>None</td>\n",
              "      <td>[1660334, 1660332]</td>\n",
              "      <td>[The teacher is supposed to give up after he r...</td>\n",
              "      <td>[Apologies for deviating from your initial req...</td>\n",
              "      <td>[teacher supposed give refuses read., write st...</td>\n",
              "      <td>[apologies deviating initial request. here's a...</td>\n",
              "    </tr>\n",
              "    <tr>\n",
              "      <th>3</th>\n",
              "      <td>005ca87857341a68a1ec5926814fcc6e</td>\n",
              "      <td>gpt-4-1106-preview</td>\n",
              "      <td>2024-02-28 16:13:30</td>\n",
              "      <td>None</td>\n",
              "      <td>1</td>\n",
              "      <td>English</td>\n",
              "      <td>False</td>\n",
              "      <td>False</td>\n",
              "      <td>Massachusetts</td>\n",
              "      <td>United States</td>\n",
              "      <td>3e7ae36b9ca739b0e16876727814a0e8470c8496aab833...</td>\n",
              "      <td>None</td>\n",
              "      <td>[2381711]</td>\n",
              "      <td>[Please create a vividly detailed comedic roma...</td>\n",
              "      <td>[I'm sorry, but I can't fulfill this request. ...</td>\n",
              "      <td>[please create vividly detailed comedic romant...</td>\n",
              "      <td>[i'm sorry can't fulfill request. writing expl...</td>\n",
              "    </tr>\n",
              "    <tr>\n",
              "      <th>4</th>\n",
              "      <td>0090370094aedcced23281b4f3771d0f</td>\n",
              "      <td>gpt-3.5-turbo-0613</td>\n",
              "      <td>2023-08-17 10:07:49</td>\n",
              "      <td>None</td>\n",
              "      <td>1</td>\n",
              "      <td>English</td>\n",
              "      <td>False</td>\n",
              "      <td>False</td>\n",
              "      <td>None</td>\n",
              "      <td>United States</td>\n",
              "      <td>a0e542c18e25a29832c7c59ca23d4c90e717b250624cd0...</td>\n",
              "      <td>None</td>\n",
              "      <td>[1395404]</td>\n",
              "      <td>[(In the clubroom…)\\n\\nYuri: (worried) “S-S-Sh...</td>\n",
              "      <td>[Yuri: (rushing towards the bathroom) \"Natsuki...</td>\n",
              "      <td>[clubroomyuri worried s-s-she hasnt shown yet?...</td>\n",
              "      <td>[yuri rushing towards bathroom natsuki there?m...</td>\n",
              "    </tr>\n",
              "  </tbody>\n",
              "</table>\n",
              "</div>\n",
              "    <div class=\"colab-df-buttons\">\n",
              "\n",
              "  <div class=\"colab-df-container\">\n",
              "    <button class=\"colab-df-convert\" onclick=\"convertToInteractive('df-e081e61c-c491-40a5-8d1a-9153f920f969')\"\n",
              "            title=\"Convert this dataframe to an interactive table.\"\n",
              "            style=\"display:none;\">\n",
              "\n",
              "  <svg xmlns=\"http://www.w3.org/2000/svg\" height=\"24px\" viewBox=\"0 -960 960 960\">\n",
              "    <path d=\"M120-120v-720h720v720H120Zm60-500h600v-160H180v160Zm220 220h160v-160H400v160Zm0 220h160v-160H400v160ZM180-400h160v-160H180v160Zm440 0h160v-160H620v160ZM180-180h160v-160H180v160Zm440 0h160v-160H620v160Z\"/>\n",
              "  </svg>\n",
              "    </button>\n",
              "\n",
              "  <style>\n",
              "    .colab-df-container {\n",
              "      display:flex;\n",
              "      gap: 12px;\n",
              "    }\n",
              "\n",
              "    .colab-df-convert {\n",
              "      background-color: #E8F0FE;\n",
              "      border: none;\n",
              "      border-radius: 50%;\n",
              "      cursor: pointer;\n",
              "      display: none;\n",
              "      fill: #1967D2;\n",
              "      height: 32px;\n",
              "      padding: 0 0 0 0;\n",
              "      width: 32px;\n",
              "    }\n",
              "\n",
              "    .colab-df-convert:hover {\n",
              "      background-color: #E2EBFA;\n",
              "      box-shadow: 0px 1px 2px rgba(60, 64, 67, 0.3), 0px 1px 3px 1px rgba(60, 64, 67, 0.15);\n",
              "      fill: #174EA6;\n",
              "    }\n",
              "\n",
              "    .colab-df-buttons div {\n",
              "      margin-bottom: 4px;\n",
              "    }\n",
              "\n",
              "    [theme=dark] .colab-df-convert {\n",
              "      background-color: #3B4455;\n",
              "      fill: #D2E3FC;\n",
              "    }\n",
              "\n",
              "    [theme=dark] .colab-df-convert:hover {\n",
              "      background-color: #434B5C;\n",
              "      box-shadow: 0px 1px 3px 1px rgba(0, 0, 0, 0.15);\n",
              "      filter: drop-shadow(0px 1px 2px rgba(0, 0, 0, 0.3));\n",
              "      fill: #FFFFFF;\n",
              "    }\n",
              "  </style>\n",
              "\n",
              "    <script>\n",
              "      const buttonEl =\n",
              "        document.querySelector('#df-e081e61c-c491-40a5-8d1a-9153f920f969 button.colab-df-convert');\n",
              "      buttonEl.style.display =\n",
              "        google.colab.kernel.accessAllowed ? 'block' : 'none';\n",
              "\n",
              "      async function convertToInteractive(key) {\n",
              "        const element = document.querySelector('#df-e081e61c-c491-40a5-8d1a-9153f920f969');\n",
              "        const dataTable =\n",
              "          await google.colab.kernel.invokeFunction('convertToInteractive',\n",
              "                                                    [key], {});\n",
              "        if (!dataTable) return;\n",
              "\n",
              "        const docLinkHtml = 'Like what you see? Visit the ' +\n",
              "          '<a target=\"_blank\" href=https://colab.research.google.com/notebooks/data_table.ipynb>data table notebook</a>'\n",
              "          + ' to learn more about interactive tables.';\n",
              "        element.innerHTML = '';\n",
              "        dataTable['output_type'] = 'display_data';\n",
              "        await google.colab.output.renderOutput(dataTable, element);\n",
              "        const docLink = document.createElement('div');\n",
              "        docLink.innerHTML = docLinkHtml;\n",
              "        element.appendChild(docLink);\n",
              "      }\n",
              "    </script>\n",
              "  </div>\n",
              "\n",
              "\n",
              "<div id=\"df-531c9f72-0664-4bba-9bfa-9af87f0a3956\">\n",
              "  <button class=\"colab-df-quickchart\" onclick=\"quickchart('df-531c9f72-0664-4bba-9bfa-9af87f0a3956')\"\n",
              "            title=\"Suggest charts\"\n",
              "            style=\"display:none;\">\n",
              "\n",
              "<svg xmlns=\"http://www.w3.org/2000/svg\" height=\"24px\"viewBox=\"0 0 24 24\"\n",
              "     width=\"24px\">\n",
              "    <g>\n",
              "        <path d=\"M19 3H5c-1.1 0-2 .9-2 2v14c0 1.1.9 2 2 2h14c1.1 0 2-.9 2-2V5c0-1.1-.9-2-2-2zM9 17H7v-7h2v7zm4 0h-2V7h2v10zm4 0h-2v-4h2v4z\"/>\n",
              "    </g>\n",
              "</svg>\n",
              "  </button>\n",
              "\n",
              "<style>\n",
              "  .colab-df-quickchart {\n",
              "      --bg-color: #E8F0FE;\n",
              "      --fill-color: #1967D2;\n",
              "      --hover-bg-color: #E2EBFA;\n",
              "      --hover-fill-color: #174EA6;\n",
              "      --disabled-fill-color: #AAA;\n",
              "      --disabled-bg-color: #DDD;\n",
              "  }\n",
              "\n",
              "  [theme=dark] .colab-df-quickchart {\n",
              "      --bg-color: #3B4455;\n",
              "      --fill-color: #D2E3FC;\n",
              "      --hover-bg-color: #434B5C;\n",
              "      --hover-fill-color: #FFFFFF;\n",
              "      --disabled-bg-color: #3B4455;\n",
              "      --disabled-fill-color: #666;\n",
              "  }\n",
              "\n",
              "  .colab-df-quickchart {\n",
              "    background-color: var(--bg-color);\n",
              "    border: none;\n",
              "    border-radius: 50%;\n",
              "    cursor: pointer;\n",
              "    display: none;\n",
              "    fill: var(--fill-color);\n",
              "    height: 32px;\n",
              "    padding: 0;\n",
              "    width: 32px;\n",
              "  }\n",
              "\n",
              "  .colab-df-quickchart:hover {\n",
              "    background-color: var(--hover-bg-color);\n",
              "    box-shadow: 0 1px 2px rgba(60, 64, 67, 0.3), 0 1px 3px 1px rgba(60, 64, 67, 0.15);\n",
              "    fill: var(--button-hover-fill-color);\n",
              "  }\n",
              "\n",
              "  .colab-df-quickchart-complete:disabled,\n",
              "  .colab-df-quickchart-complete:disabled:hover {\n",
              "    background-color: var(--disabled-bg-color);\n",
              "    fill: var(--disabled-fill-color);\n",
              "    box-shadow: none;\n",
              "  }\n",
              "\n",
              "  .colab-df-spinner {\n",
              "    border: 2px solid var(--fill-color);\n",
              "    border-color: transparent;\n",
              "    border-bottom-color: var(--fill-color);\n",
              "    animation:\n",
              "      spin 1s steps(1) infinite;\n",
              "  }\n",
              "\n",
              "  @keyframes spin {\n",
              "    0% {\n",
              "      border-color: transparent;\n",
              "      border-bottom-color: var(--fill-color);\n",
              "      border-left-color: var(--fill-color);\n",
              "    }\n",
              "    20% {\n",
              "      border-color: transparent;\n",
              "      border-left-color: var(--fill-color);\n",
              "      border-top-color: var(--fill-color);\n",
              "    }\n",
              "    30% {\n",
              "      border-color: transparent;\n",
              "      border-left-color: var(--fill-color);\n",
              "      border-top-color: var(--fill-color);\n",
              "      border-right-color: var(--fill-color);\n",
              "    }\n",
              "    40% {\n",
              "      border-color: transparent;\n",
              "      border-right-color: var(--fill-color);\n",
              "      border-top-color: var(--fill-color);\n",
              "    }\n",
              "    60% {\n",
              "      border-color: transparent;\n",
              "      border-right-color: var(--fill-color);\n",
              "    }\n",
              "    80% {\n",
              "      border-color: transparent;\n",
              "      border-right-color: var(--fill-color);\n",
              "      border-bottom-color: var(--fill-color);\n",
              "    }\n",
              "    90% {\n",
              "      border-color: transparent;\n",
              "      border-bottom-color: var(--fill-color);\n",
              "    }\n",
              "  }\n",
              "</style>\n",
              "\n",
              "  <script>\n",
              "    async function quickchart(key) {\n",
              "      const quickchartButtonEl =\n",
              "        document.querySelector('#' + key + ' button');\n",
              "      quickchartButtonEl.disabled = true;  // To prevent multiple clicks.\n",
              "      quickchartButtonEl.classList.add('colab-df-spinner');\n",
              "      try {\n",
              "        const charts = await google.colab.kernel.invokeFunction(\n",
              "            'suggestCharts', [key], {});\n",
              "      } catch (error) {\n",
              "        console.error('Error during call to suggestCharts:', error);\n",
              "      }\n",
              "      quickchartButtonEl.classList.remove('colab-df-spinner');\n",
              "      quickchartButtonEl.classList.add('colab-df-quickchart-complete');\n",
              "    }\n",
              "    (() => {\n",
              "      let quickchartButtonEl =\n",
              "        document.querySelector('#df-531c9f72-0664-4bba-9bfa-9af87f0a3956 button');\n",
              "      quickchartButtonEl.style.display =\n",
              "        google.colab.kernel.accessAllowed ? 'block' : 'none';\n",
              "    })();\n",
              "  </script>\n",
              "</div>\n",
              "\n",
              "    </div>\n",
              "  </div>\n"
            ],
            "application/vnd.google.colaboratory.intrinsic+json": {
              "type": "dataframe",
              "variable_name": "df9",
              "repr_error": "Out of range float values are not JSON compliant: nan"
            }
          },
          "metadata": {},
          "execution_count": 8
        }
      ]
    },
    {
      "cell_type": "code",
      "source": [
        "df = pd.concat([df0,df1,df2,df3,df4,df5,df6,df7,df8,df9]) #,df10,df11,df12,df13,df14,df15,df16,df17,df18,df19\n",
        "df = df[['userprompt','botresp','userprompt_up','botresp_up','turn','turn_identifier','timestamp','toxic','redacted','country']];\n",
        "\n",
        "print(df.shape)\n"
      ],
      "metadata": {
        "colab": {
          "base_uri": "https://localhost:8080/"
        },
        "id": "YmlV-j8UK3-G",
        "outputId": "da9f254b-1bab-41a6-f52f-5117413470a2"
      },
      "execution_count": null,
      "outputs": [
        {
          "output_type": "stream",
          "name": "stdout",
          "text": [
            "(188732, 10)\n"
          ]
        }
      ]
    },
    {
      "cell_type": "code",
      "source": [
        "df['toxic'].value_counts()"
      ],
      "metadata": {
        "colab": {
          "base_uri": "https://localhost:8080/",
          "height": 147
        },
        "id": "X-QAtzKpK4Y1",
        "outputId": "1c80efbb-022e-438f-b1b0-2282f89d4726"
      },
      "execution_count": null,
      "outputs": [
        {
          "output_type": "execute_result",
          "data": {
            "text/plain": [
              "toxic\n",
              "False    188732\n",
              "Name: count, dtype: Int64"
            ],
            "text/html": [
              "<div>\n",
              "<style scoped>\n",
              "    .dataframe tbody tr th:only-of-type {\n",
              "        vertical-align: middle;\n",
              "    }\n",
              "\n",
              "    .dataframe tbody tr th {\n",
              "        vertical-align: top;\n",
              "    }\n",
              "\n",
              "    .dataframe thead th {\n",
              "        text-align: right;\n",
              "    }\n",
              "</style>\n",
              "<table border=\"1\" class=\"dataframe\">\n",
              "  <thead>\n",
              "    <tr style=\"text-align: right;\">\n",
              "      <th></th>\n",
              "      <th>count</th>\n",
              "    </tr>\n",
              "    <tr>\n",
              "      <th>toxic</th>\n",
              "      <th></th>\n",
              "    </tr>\n",
              "  </thead>\n",
              "  <tbody>\n",
              "    <tr>\n",
              "      <th>False</th>\n",
              "      <td>188732</td>\n",
              "    </tr>\n",
              "  </tbody>\n",
              "</table>\n",
              "</div><br><label><b>dtype:</b> Int64</label>"
            ]
          },
          "metadata": {},
          "execution_count": 14
        }
      ]
    },
    {
      "cell_type": "code",
      "source": [
        "df['country'].value_counts()"
      ],
      "metadata": {
        "colab": {
          "base_uri": "https://localhost:8080/",
          "height": 489
        },
        "id": "e06iSolfK4hf",
        "outputId": "c6b6033a-2139-423f-97af-929a69b447ca"
      },
      "execution_count": null,
      "outputs": [
        {
          "output_type": "execute_result",
          "data": {
            "text/plain": [
              "country\n",
              "United States     59926\n",
              "China             13020\n",
              "Russia            11787\n",
              "United Kingdom    11438\n",
              "Hong Kong         10381\n",
              "                  ...  \n",
              "Bolivia               1\n",
              "Mauritania            1\n",
              "Aruba                 1\n",
              "Guam                  1\n",
              "Cabo Verde            1\n",
              "Name: count, Length: 181, dtype: int64"
            ],
            "text/html": [
              "<div>\n",
              "<style scoped>\n",
              "    .dataframe tbody tr th:only-of-type {\n",
              "        vertical-align: middle;\n",
              "    }\n",
              "\n",
              "    .dataframe tbody tr th {\n",
              "        vertical-align: top;\n",
              "    }\n",
              "\n",
              "    .dataframe thead th {\n",
              "        text-align: right;\n",
              "    }\n",
              "</style>\n",
              "<table border=\"1\" class=\"dataframe\">\n",
              "  <thead>\n",
              "    <tr style=\"text-align: right;\">\n",
              "      <th></th>\n",
              "      <th>count</th>\n",
              "    </tr>\n",
              "    <tr>\n",
              "      <th>country</th>\n",
              "      <th></th>\n",
              "    </tr>\n",
              "  </thead>\n",
              "  <tbody>\n",
              "    <tr>\n",
              "      <th>United States</th>\n",
              "      <td>59926</td>\n",
              "    </tr>\n",
              "    <tr>\n",
              "      <th>China</th>\n",
              "      <td>13020</td>\n",
              "    </tr>\n",
              "    <tr>\n",
              "      <th>Russia</th>\n",
              "      <td>11787</td>\n",
              "    </tr>\n",
              "    <tr>\n",
              "      <th>United Kingdom</th>\n",
              "      <td>11438</td>\n",
              "    </tr>\n",
              "    <tr>\n",
              "      <th>Hong Kong</th>\n",
              "      <td>10381</td>\n",
              "    </tr>\n",
              "    <tr>\n",
              "      <th>...</th>\n",
              "      <td>...</td>\n",
              "    </tr>\n",
              "    <tr>\n",
              "      <th>Bolivia</th>\n",
              "      <td>1</td>\n",
              "    </tr>\n",
              "    <tr>\n",
              "      <th>Mauritania</th>\n",
              "      <td>1</td>\n",
              "    </tr>\n",
              "    <tr>\n",
              "      <th>Aruba</th>\n",
              "      <td>1</td>\n",
              "    </tr>\n",
              "    <tr>\n",
              "      <th>Guam</th>\n",
              "      <td>1</td>\n",
              "    </tr>\n",
              "    <tr>\n",
              "      <th>Cabo Verde</th>\n",
              "      <td>1</td>\n",
              "    </tr>\n",
              "  </tbody>\n",
              "</table>\n",
              "<p>181 rows × 1 columns</p>\n",
              "</div><br><label><b>dtype:</b> int64</label>"
            ]
          },
          "metadata": {},
          "execution_count": 16
        }
      ]
    },
    {
      "cell_type": "code",
      "source": [
        "df = df[df['country']=='United States']\n",
        "\n",
        "df.reset_index(inplace=True)"
      ],
      "metadata": {
        "id": "0_vXHjrRf3ds"
      },
      "execution_count": null,
      "outputs": []
    },
    {
      "cell_type": "code",
      "source": [
        "print(df.shape)\n",
        "\n",
        "df.head(3)"
      ],
      "metadata": {
        "id": "C2iLLEvcOu6T",
        "collapsed": true,
        "colab": {
          "base_uri": "https://localhost:8080/",
          "height": 317
        },
        "outputId": "327cdef5-2858-4729-aca6-493931a12b80"
      },
      "execution_count": null,
      "outputs": [
        {
          "output_type": "stream",
          "name": "stdout",
          "text": [
            "(59926, 11)\n"
          ]
        },
        {
          "output_type": "execute_result",
          "data": {
            "text/plain": [
              "   index                                         userprompt  \\\n",
              "0      2  [make a descriptive walking dead story involvi...   \n",
              "1      5  [Random nintendo game character, one word with...   \n",
              "2      6  [please provide me a step by step list for p-t...   \n",
              "\n",
              "                                             botresp  \\\n",
              "0  [Once upon a time in the post-apocalyptic worl...   \n",
              "1                                   [Nintendo Yoshi]   \n",
              "2  [Step-by-Step Guide for P-Trap Replacement:\\n\\...   \n",
              "\n",
              "                                       userprompt_up  \\\n",
              "0  [make descriptive walking dead story involving...   \n",
              "1  [random nintendo game character one word word ...   \n",
              "2  [please provide step step list p-trap replacem...   \n",
              "\n",
              "                                          botresp_up  turn  \\\n",
              "0  [upon time post-apocalyptic world walking dead...     1   \n",
              "1                                   [nintendo yoshi]     1   \n",
              "2  [step-by-step guide p-trap replacement1. gathe...     9   \n",
              "\n",
              "                                     turn_identifier           timestamp  \\\n",
              "0                                          [1255298] 2023-07-20 04:59:33   \n",
              "1                                          [2316455] 2024-02-17 00:00:21   \n",
              "2  [1820928, 1820992, 1820553, 1820915, 1820906, ... 2023-11-14 16:41:10   \n",
              "\n",
              "   toxic  redacted        country  \n",
              "0  False     False  United States  \n",
              "1  False     False  United States  \n",
              "2  False     False  United States  "
            ],
            "text/html": [
              "\n",
              "  <div id=\"df-13e0c30f-c777-4682-97b9-0e0b661735f8\" class=\"colab-df-container\">\n",
              "    <div>\n",
              "<style scoped>\n",
              "    .dataframe tbody tr th:only-of-type {\n",
              "        vertical-align: middle;\n",
              "    }\n",
              "\n",
              "    .dataframe tbody tr th {\n",
              "        vertical-align: top;\n",
              "    }\n",
              "\n",
              "    .dataframe thead th {\n",
              "        text-align: right;\n",
              "    }\n",
              "</style>\n",
              "<table border=\"1\" class=\"dataframe\">\n",
              "  <thead>\n",
              "    <tr style=\"text-align: right;\">\n",
              "      <th></th>\n",
              "      <th>index</th>\n",
              "      <th>userprompt</th>\n",
              "      <th>botresp</th>\n",
              "      <th>userprompt_up</th>\n",
              "      <th>botresp_up</th>\n",
              "      <th>turn</th>\n",
              "      <th>turn_identifier</th>\n",
              "      <th>timestamp</th>\n",
              "      <th>toxic</th>\n",
              "      <th>redacted</th>\n",
              "      <th>country</th>\n",
              "    </tr>\n",
              "  </thead>\n",
              "  <tbody>\n",
              "    <tr>\n",
              "      <th>0</th>\n",
              "      <td>2</td>\n",
              "      <td>[make a descriptive walking dead story involvi...</td>\n",
              "      <td>[Once upon a time in the post-apocalyptic worl...</td>\n",
              "      <td>[make descriptive walking dead story involving...</td>\n",
              "      <td>[upon time post-apocalyptic world walking dead...</td>\n",
              "      <td>1</td>\n",
              "      <td>[1255298]</td>\n",
              "      <td>2023-07-20 04:59:33</td>\n",
              "      <td>False</td>\n",
              "      <td>False</td>\n",
              "      <td>United States</td>\n",
              "    </tr>\n",
              "    <tr>\n",
              "      <th>1</th>\n",
              "      <td>5</td>\n",
              "      <td>[Random nintendo game character, one word with...</td>\n",
              "      <td>[Nintendo Yoshi]</td>\n",
              "      <td>[random nintendo game character one word word ...</td>\n",
              "      <td>[nintendo yoshi]</td>\n",
              "      <td>1</td>\n",
              "      <td>[2316455]</td>\n",
              "      <td>2024-02-17 00:00:21</td>\n",
              "      <td>False</td>\n",
              "      <td>False</td>\n",
              "      <td>United States</td>\n",
              "    </tr>\n",
              "    <tr>\n",
              "      <th>2</th>\n",
              "      <td>6</td>\n",
              "      <td>[please provide me a step by step list for p-t...</td>\n",
              "      <td>[Step-by-Step Guide for P-Trap Replacement:\\n\\...</td>\n",
              "      <td>[please provide step step list p-trap replacem...</td>\n",
              "      <td>[step-by-step guide p-trap replacement1. gathe...</td>\n",
              "      <td>9</td>\n",
              "      <td>[1820928, 1820992, 1820553, 1820915, 1820906, ...</td>\n",
              "      <td>2023-11-14 16:41:10</td>\n",
              "      <td>False</td>\n",
              "      <td>False</td>\n",
              "      <td>United States</td>\n",
              "    </tr>\n",
              "  </tbody>\n",
              "</table>\n",
              "</div>\n",
              "    <div class=\"colab-df-buttons\">\n",
              "\n",
              "  <div class=\"colab-df-container\">\n",
              "    <button class=\"colab-df-convert\" onclick=\"convertToInteractive('df-13e0c30f-c777-4682-97b9-0e0b661735f8')\"\n",
              "            title=\"Convert this dataframe to an interactive table.\"\n",
              "            style=\"display:none;\">\n",
              "\n",
              "  <svg xmlns=\"http://www.w3.org/2000/svg\" height=\"24px\" viewBox=\"0 -960 960 960\">\n",
              "    <path d=\"M120-120v-720h720v720H120Zm60-500h600v-160H180v160Zm220 220h160v-160H400v160Zm0 220h160v-160H400v160ZM180-400h160v-160H180v160Zm440 0h160v-160H620v160ZM180-180h160v-160H180v160Zm440 0h160v-160H620v160Z\"/>\n",
              "  </svg>\n",
              "    </button>\n",
              "\n",
              "  <style>\n",
              "    .colab-df-container {\n",
              "      display:flex;\n",
              "      gap: 12px;\n",
              "    }\n",
              "\n",
              "    .colab-df-convert {\n",
              "      background-color: #E8F0FE;\n",
              "      border: none;\n",
              "      border-radius: 50%;\n",
              "      cursor: pointer;\n",
              "      display: none;\n",
              "      fill: #1967D2;\n",
              "      height: 32px;\n",
              "      padding: 0 0 0 0;\n",
              "      width: 32px;\n",
              "    }\n",
              "\n",
              "    .colab-df-convert:hover {\n",
              "      background-color: #E2EBFA;\n",
              "      box-shadow: 0px 1px 2px rgba(60, 64, 67, 0.3), 0px 1px 3px 1px rgba(60, 64, 67, 0.15);\n",
              "      fill: #174EA6;\n",
              "    }\n",
              "\n",
              "    .colab-df-buttons div {\n",
              "      margin-bottom: 4px;\n",
              "    }\n",
              "\n",
              "    [theme=dark] .colab-df-convert {\n",
              "      background-color: #3B4455;\n",
              "      fill: #D2E3FC;\n",
              "    }\n",
              "\n",
              "    [theme=dark] .colab-df-convert:hover {\n",
              "      background-color: #434B5C;\n",
              "      box-shadow: 0px 1px 3px 1px rgba(0, 0, 0, 0.15);\n",
              "      filter: drop-shadow(0px 1px 2px rgba(0, 0, 0, 0.3));\n",
              "      fill: #FFFFFF;\n",
              "    }\n",
              "  </style>\n",
              "\n",
              "    <script>\n",
              "      const buttonEl =\n",
              "        document.querySelector('#df-13e0c30f-c777-4682-97b9-0e0b661735f8 button.colab-df-convert');\n",
              "      buttonEl.style.display =\n",
              "        google.colab.kernel.accessAllowed ? 'block' : 'none';\n",
              "\n",
              "      async function convertToInteractive(key) {\n",
              "        const element = document.querySelector('#df-13e0c30f-c777-4682-97b9-0e0b661735f8');\n",
              "        const dataTable =\n",
              "          await google.colab.kernel.invokeFunction('convertToInteractive',\n",
              "                                                    [key], {});\n",
              "        if (!dataTable) return;\n",
              "\n",
              "        const docLinkHtml = 'Like what you see? Visit the ' +\n",
              "          '<a target=\"_blank\" href=https://colab.research.google.com/notebooks/data_table.ipynb>data table notebook</a>'\n",
              "          + ' to learn more about interactive tables.';\n",
              "        element.innerHTML = '';\n",
              "        dataTable['output_type'] = 'display_data';\n",
              "        await google.colab.output.renderOutput(dataTable, element);\n",
              "        const docLink = document.createElement('div');\n",
              "        docLink.innerHTML = docLinkHtml;\n",
              "        element.appendChild(docLink);\n",
              "      }\n",
              "    </script>\n",
              "  </div>\n",
              "\n",
              "\n",
              "<div id=\"df-2266e411-6dc8-4a2a-a67f-830025086dff\">\n",
              "  <button class=\"colab-df-quickchart\" onclick=\"quickchart('df-2266e411-6dc8-4a2a-a67f-830025086dff')\"\n",
              "            title=\"Suggest charts\"\n",
              "            style=\"display:none;\">\n",
              "\n",
              "<svg xmlns=\"http://www.w3.org/2000/svg\" height=\"24px\"viewBox=\"0 0 24 24\"\n",
              "     width=\"24px\">\n",
              "    <g>\n",
              "        <path d=\"M19 3H5c-1.1 0-2 .9-2 2v14c0 1.1.9 2 2 2h14c1.1 0 2-.9 2-2V5c0-1.1-.9-2-2-2zM9 17H7v-7h2v7zm4 0h-2V7h2v10zm4 0h-2v-4h2v4z\"/>\n",
              "    </g>\n",
              "</svg>\n",
              "  </button>\n",
              "\n",
              "<style>\n",
              "  .colab-df-quickchart {\n",
              "      --bg-color: #E8F0FE;\n",
              "      --fill-color: #1967D2;\n",
              "      --hover-bg-color: #E2EBFA;\n",
              "      --hover-fill-color: #174EA6;\n",
              "      --disabled-fill-color: #AAA;\n",
              "      --disabled-bg-color: #DDD;\n",
              "  }\n",
              "\n",
              "  [theme=dark] .colab-df-quickchart {\n",
              "      --bg-color: #3B4455;\n",
              "      --fill-color: #D2E3FC;\n",
              "      --hover-bg-color: #434B5C;\n",
              "      --hover-fill-color: #FFFFFF;\n",
              "      --disabled-bg-color: #3B4455;\n",
              "      --disabled-fill-color: #666;\n",
              "  }\n",
              "\n",
              "  .colab-df-quickchart {\n",
              "    background-color: var(--bg-color);\n",
              "    border: none;\n",
              "    border-radius: 50%;\n",
              "    cursor: pointer;\n",
              "    display: none;\n",
              "    fill: var(--fill-color);\n",
              "    height: 32px;\n",
              "    padding: 0;\n",
              "    width: 32px;\n",
              "  }\n",
              "\n",
              "  .colab-df-quickchart:hover {\n",
              "    background-color: var(--hover-bg-color);\n",
              "    box-shadow: 0 1px 2px rgba(60, 64, 67, 0.3), 0 1px 3px 1px rgba(60, 64, 67, 0.15);\n",
              "    fill: var(--button-hover-fill-color);\n",
              "  }\n",
              "\n",
              "  .colab-df-quickchart-complete:disabled,\n",
              "  .colab-df-quickchart-complete:disabled:hover {\n",
              "    background-color: var(--disabled-bg-color);\n",
              "    fill: var(--disabled-fill-color);\n",
              "    box-shadow: none;\n",
              "  }\n",
              "\n",
              "  .colab-df-spinner {\n",
              "    border: 2px solid var(--fill-color);\n",
              "    border-color: transparent;\n",
              "    border-bottom-color: var(--fill-color);\n",
              "    animation:\n",
              "      spin 1s steps(1) infinite;\n",
              "  }\n",
              "\n",
              "  @keyframes spin {\n",
              "    0% {\n",
              "      border-color: transparent;\n",
              "      border-bottom-color: var(--fill-color);\n",
              "      border-left-color: var(--fill-color);\n",
              "    }\n",
              "    20% {\n",
              "      border-color: transparent;\n",
              "      border-left-color: var(--fill-color);\n",
              "      border-top-color: var(--fill-color);\n",
              "    }\n",
              "    30% {\n",
              "      border-color: transparent;\n",
              "      border-left-color: var(--fill-color);\n",
              "      border-top-color: var(--fill-color);\n",
              "      border-right-color: var(--fill-color);\n",
              "    }\n",
              "    40% {\n",
              "      border-color: transparent;\n",
              "      border-right-color: var(--fill-color);\n",
              "      border-top-color: var(--fill-color);\n",
              "    }\n",
              "    60% {\n",
              "      border-color: transparent;\n",
              "      border-right-color: var(--fill-color);\n",
              "    }\n",
              "    80% {\n",
              "      border-color: transparent;\n",
              "      border-right-color: var(--fill-color);\n",
              "      border-bottom-color: var(--fill-color);\n",
              "    }\n",
              "    90% {\n",
              "      border-color: transparent;\n",
              "      border-bottom-color: var(--fill-color);\n",
              "    }\n",
              "  }\n",
              "</style>\n",
              "\n",
              "  <script>\n",
              "    async function quickchart(key) {\n",
              "      const quickchartButtonEl =\n",
              "        document.querySelector('#' + key + ' button');\n",
              "      quickchartButtonEl.disabled = true;  // To prevent multiple clicks.\n",
              "      quickchartButtonEl.classList.add('colab-df-spinner');\n",
              "      try {\n",
              "        const charts = await google.colab.kernel.invokeFunction(\n",
              "            'suggestCharts', [key], {});\n",
              "      } catch (error) {\n",
              "        console.error('Error during call to suggestCharts:', error);\n",
              "      }\n",
              "      quickchartButtonEl.classList.remove('colab-df-spinner');\n",
              "      quickchartButtonEl.classList.add('colab-df-quickchart-complete');\n",
              "    }\n",
              "    (() => {\n",
              "      let quickchartButtonEl =\n",
              "        document.querySelector('#df-2266e411-6dc8-4a2a-a67f-830025086dff button');\n",
              "      quickchartButtonEl.style.display =\n",
              "        google.colab.kernel.accessAllowed ? 'block' : 'none';\n",
              "    })();\n",
              "  </script>\n",
              "</div>\n",
              "\n",
              "    </div>\n",
              "  </div>\n"
            ],
            "application/vnd.google.colaboratory.intrinsic+json": {
              "type": "dataframe",
              "variable_name": "df",
              "summary": "{\n  \"name\": \"df\",\n  \"rows\": 59926,\n  \"fields\": [\n    {\n      \"column\": \"index\",\n      \"properties\": {\n        \"dtype\": \"number\",\n        \"std\": 5541,\n        \"min\": 0,\n        \"max\": 22728,\n        \"num_unique_values\": 19701,\n        \"samples\": [\n          8746,\n          8400,\n          10761\n        ],\n        \"semantic_type\": \"\",\n        \"description\": \"\"\n      }\n    },\n    {\n      \"column\": \"userprompt\",\n      \"properties\": {\n        \"dtype\": \"object\",\n        \"semantic_type\": \"\",\n        \"description\": \"\"\n      }\n    },\n    {\n      \"column\": \"botresp\",\n      \"properties\": {\n        \"dtype\": \"object\",\n        \"semantic_type\": \"\",\n        \"description\": \"\"\n      }\n    },\n    {\n      \"column\": \"userprompt_up\",\n      \"properties\": {\n        \"dtype\": \"object\",\n        \"semantic_type\": \"\",\n        \"description\": \"\"\n      }\n    },\n    {\n      \"column\": \"botresp_up\",\n      \"properties\": {\n        \"dtype\": \"object\",\n        \"semantic_type\": \"\",\n        \"description\": \"\"\n      }\n    },\n    {\n      \"column\": \"turn\",\n      \"properties\": {\n        \"dtype\": \"Int64\",\n        \"num_unique_values\": 56,\n        \"samples\": [\n          1,\n          6,\n          108\n        ],\n        \"semantic_type\": \"\",\n        \"description\": \"\"\n      }\n    },\n    {\n      \"column\": \"turn_identifier\",\n      \"properties\": {\n        \"dtype\": \"object\",\n        \"semantic_type\": \"\",\n        \"description\": \"\"\n      }\n    },\n    {\n      \"column\": \"timestamp\",\n      \"properties\": {\n        \"dtype\": \"date\",\n        \"min\": \"2023-04-09 00:12:23\",\n        \"max\": \"2024-04-29 23:49:02\",\n        \"num_unique_values\": 59791,\n        \"samples\": [\n          \"2024-02-11 19:30:08\",\n          \"2023-12-24 01:34:27\",\n          \"2024-03-31 20:45:55\"\n        ],\n        \"semantic_type\": \"\",\n        \"description\": \"\"\n      }\n    },\n    {\n      \"column\": \"toxic\",\n      \"properties\": {\n        \"dtype\": \"boolean\",\n        \"num_unique_values\": 1,\n        \"samples\": [\n          false\n        ],\n        \"semantic_type\": \"\",\n        \"description\": \"\"\n      }\n    },\n    {\n      \"column\": \"redacted\",\n      \"properties\": {\n        \"dtype\": \"boolean\",\n        \"num_unique_values\": 1,\n        \"samples\": [\n          false\n        ],\n        \"semantic_type\": \"\",\n        \"description\": \"\"\n      }\n    },\n    {\n      \"column\": \"country\",\n      \"properties\": {\n        \"dtype\": \"category\",\n        \"num_unique_values\": 1,\n        \"samples\": [\n          \"United States\"\n        ],\n        \"semantic_type\": \"\",\n        \"description\": \"\"\n      }\n    }\n  ]\n}"
            }
          },
          "metadata": {},
          "execution_count": 32
        }
      ]
    },
    {
      "cell_type": "code",
      "source": [
        "df[df.identifiers.map(set([2201846]).issubset)]"
      ],
      "metadata": {
        "colab": {
          "base_uri": "https://localhost:8080/",
          "height": 133
        },
        "id": "_zaRsduUgTcR",
        "outputId": "5b9074b6-8673-4a41-aff6-d15755c23651"
      },
      "execution_count": null,
      "outputs": [
        {
          "output_type": "execute_result",
          "data": {
            "text/plain": [
              "        index                                            content  \\\n",
              "573053  28264  [what do you mean record of  abuse?\\ndo  you m...   \n",
              "\n",
              "                                                     user  \\\n",
              "573053  [what do you mean record of  abuse?\\ndo  you m...   \n",
              "\n",
              "                                                assistant  turn  \\\n",
              "573053  [By \"record of abuse,\" I'm referring to docume...     5   \n",
              "\n",
              "                                          identifiers           timestamp  \\\n",
              "573053  [2201861, 2201893, 2201825, 2201836, 2201846] 2024-01-13 19:28:59   \n",
              "\n",
              "                     model  toxic  redacted  country  \n",
              "573053  gpt-4-1106-preview  False      True  Estonia  "
            ],
            "text/html": [
              "\n",
              "  <div id=\"df-25504d29-ce0b-4e93-9ce6-ef81c2401cf9\" class=\"colab-df-container\">\n",
              "    <div>\n",
              "<style scoped>\n",
              "    .dataframe tbody tr th:only-of-type {\n",
              "        vertical-align: middle;\n",
              "    }\n",
              "\n",
              "    .dataframe tbody tr th {\n",
              "        vertical-align: top;\n",
              "    }\n",
              "\n",
              "    .dataframe thead th {\n",
              "        text-align: right;\n",
              "    }\n",
              "</style>\n",
              "<table border=\"1\" class=\"dataframe\">\n",
              "  <thead>\n",
              "    <tr style=\"text-align: right;\">\n",
              "      <th></th>\n",
              "      <th>index</th>\n",
              "      <th>content</th>\n",
              "      <th>user</th>\n",
              "      <th>assistant</th>\n",
              "      <th>turn</th>\n",
              "      <th>identifiers</th>\n",
              "      <th>timestamp</th>\n",
              "      <th>model</th>\n",
              "      <th>toxic</th>\n",
              "      <th>redacted</th>\n",
              "      <th>country</th>\n",
              "    </tr>\n",
              "  </thead>\n",
              "  <tbody>\n",
              "    <tr>\n",
              "      <th>573053</th>\n",
              "      <td>28264</td>\n",
              "      <td>[what do you mean record of  abuse?\\ndo  you m...</td>\n",
              "      <td>[what do you mean record of  abuse?\\ndo  you m...</td>\n",
              "      <td>[By \"record of abuse,\" I'm referring to docume...</td>\n",
              "      <td>5</td>\n",
              "      <td>[2201861, 2201893, 2201825, 2201836, 2201846]</td>\n",
              "      <td>2024-01-13 19:28:59</td>\n",
              "      <td>gpt-4-1106-preview</td>\n",
              "      <td>False</td>\n",
              "      <td>True</td>\n",
              "      <td>Estonia</td>\n",
              "    </tr>\n",
              "  </tbody>\n",
              "</table>\n",
              "</div>\n",
              "    <div class=\"colab-df-buttons\">\n",
              "\n",
              "  <div class=\"colab-df-container\">\n",
              "    <button class=\"colab-df-convert\" onclick=\"convertToInteractive('df-25504d29-ce0b-4e93-9ce6-ef81c2401cf9')\"\n",
              "            title=\"Convert this dataframe to an interactive table.\"\n",
              "            style=\"display:none;\">\n",
              "\n",
              "  <svg xmlns=\"http://www.w3.org/2000/svg\" height=\"24px\" viewBox=\"0 -960 960 960\">\n",
              "    <path d=\"M120-120v-720h720v720H120Zm60-500h600v-160H180v160Zm220 220h160v-160H400v160Zm0 220h160v-160H400v160ZM180-400h160v-160H180v160Zm440 0h160v-160H620v160ZM180-180h160v-160H180v160Zm440 0h160v-160H620v160Z\"/>\n",
              "  </svg>\n",
              "    </button>\n",
              "\n",
              "  <style>\n",
              "    .colab-df-container {\n",
              "      display:flex;\n",
              "      gap: 12px;\n",
              "    }\n",
              "\n",
              "    .colab-df-convert {\n",
              "      background-color: #E8F0FE;\n",
              "      border: none;\n",
              "      border-radius: 50%;\n",
              "      cursor: pointer;\n",
              "      display: none;\n",
              "      fill: #1967D2;\n",
              "      height: 32px;\n",
              "      padding: 0 0 0 0;\n",
              "      width: 32px;\n",
              "    }\n",
              "\n",
              "    .colab-df-convert:hover {\n",
              "      background-color: #E2EBFA;\n",
              "      box-shadow: 0px 1px 2px rgba(60, 64, 67, 0.3), 0px 1px 3px 1px rgba(60, 64, 67, 0.15);\n",
              "      fill: #174EA6;\n",
              "    }\n",
              "\n",
              "    .colab-df-buttons div {\n",
              "      margin-bottom: 4px;\n",
              "    }\n",
              "\n",
              "    [theme=dark] .colab-df-convert {\n",
              "      background-color: #3B4455;\n",
              "      fill: #D2E3FC;\n",
              "    }\n",
              "\n",
              "    [theme=dark] .colab-df-convert:hover {\n",
              "      background-color: #434B5C;\n",
              "      box-shadow: 0px 1px 3px 1px rgba(0, 0, 0, 0.15);\n",
              "      filter: drop-shadow(0px 1px 2px rgba(0, 0, 0, 0.3));\n",
              "      fill: #FFFFFF;\n",
              "    }\n",
              "  </style>\n",
              "\n",
              "    <script>\n",
              "      const buttonEl =\n",
              "        document.querySelector('#df-25504d29-ce0b-4e93-9ce6-ef81c2401cf9 button.colab-df-convert');\n",
              "      buttonEl.style.display =\n",
              "        google.colab.kernel.accessAllowed ? 'block' : 'none';\n",
              "\n",
              "      async function convertToInteractive(key) {\n",
              "        const element = document.querySelector('#df-25504d29-ce0b-4e93-9ce6-ef81c2401cf9');\n",
              "        const dataTable =\n",
              "          await google.colab.kernel.invokeFunction('convertToInteractive',\n",
              "                                                    [key], {});\n",
              "        if (!dataTable) return;\n",
              "\n",
              "        const docLinkHtml = 'Like what you see? Visit the ' +\n",
              "          '<a target=\"_blank\" href=https://colab.research.google.com/notebooks/data_table.ipynb>data table notebook</a>'\n",
              "          + ' to learn more about interactive tables.';\n",
              "        element.innerHTML = '';\n",
              "        dataTable['output_type'] = 'display_data';\n",
              "        await google.colab.output.renderOutput(dataTable, element);\n",
              "        const docLink = document.createElement('div');\n",
              "        docLink.innerHTML = docLinkHtml;\n",
              "        element.appendChild(docLink);\n",
              "      }\n",
              "    </script>\n",
              "  </div>\n",
              "\n",
              "\n",
              "    </div>\n",
              "  </div>\n"
            ],
            "application/vnd.google.colaboratory.intrinsic+json": {
              "type": "dataframe",
              "summary": "{\n  \"name\": \"df[df\",\n  \"rows\": 1,\n  \"fields\": [\n    {\n      \"column\": \"index\",\n      \"properties\": {\n        \"dtype\": \"number\",\n        \"std\": null,\n        \"min\": 28264,\n        \"max\": 28264,\n        \"num_unique_values\": 1,\n        \"samples\": [\n          28264\n        ],\n        \"semantic_type\": \"\",\n        \"description\": \"\"\n      }\n    },\n    {\n      \"column\": \"content\",\n      \"properties\": {\n        \"dtype\": \"object\",\n        \"semantic_type\": \"\",\n        \"description\": \"\"\n      }\n    },\n    {\n      \"column\": \"user\",\n      \"properties\": {\n        \"dtype\": \"object\",\n        \"semantic_type\": \"\",\n        \"description\": \"\"\n      }\n    },\n    {\n      \"column\": \"assistant\",\n      \"properties\": {\n        \"dtype\": \"object\",\n        \"semantic_type\": \"\",\n        \"description\": \"\"\n      }\n    },\n    {\n      \"column\": \"turn\",\n      \"properties\": {\n        \"dtype\": \"number\",\n        \"std\": null,\n        \"min\": 5,\n        \"max\": 5,\n        \"num_unique_values\": 1,\n        \"samples\": [\n          5\n        ],\n        \"semantic_type\": \"\",\n        \"description\": \"\"\n      }\n    },\n    {\n      \"column\": \"identifiers\",\n      \"properties\": {\n        \"dtype\": \"object\",\n        \"semantic_type\": \"\",\n        \"description\": \"\"\n      }\n    },\n    {\n      \"column\": \"timestamp\",\n      \"properties\": {\n        \"dtype\": \"date\",\n        \"min\": \"2024-01-13 19:28:59\",\n        \"max\": \"2024-01-13 19:28:59\",\n        \"num_unique_values\": 1,\n        \"samples\": [\n          \"2024-01-13 19:28:59\"\n        ],\n        \"semantic_type\": \"\",\n        \"description\": \"\"\n      }\n    },\n    {\n      \"column\": \"model\",\n      \"properties\": {\n        \"dtype\": \"string\",\n        \"num_unique_values\": 1,\n        \"samples\": [\n          \"gpt-4-1106-preview\"\n        ],\n        \"semantic_type\": \"\",\n        \"description\": \"\"\n      }\n    },\n    {\n      \"column\": \"toxic\",\n      \"properties\": {\n        \"dtype\": \"boolean\",\n        \"num_unique_values\": 1,\n        \"samples\": [\n          false\n        ],\n        \"semantic_type\": \"\",\n        \"description\": \"\"\n      }\n    },\n    {\n      \"column\": \"redacted\",\n      \"properties\": {\n        \"dtype\": \"boolean\",\n        \"num_unique_values\": 1,\n        \"samples\": [\n          true\n        ],\n        \"semantic_type\": \"\",\n        \"description\": \"\"\n      }\n    },\n    {\n      \"column\": \"country\",\n      \"properties\": {\n        \"dtype\": \"string\",\n        \"num_unique_values\": 1,\n        \"samples\": [\n          \"Estonia\"\n        ],\n        \"semantic_type\": \"\",\n        \"description\": \"\"\n      }\n    }\n  ]\n}"
            }
          },
          "metadata": {},
          "execution_count": 34
        }
      ]
    },
    {
      "cell_type": "code",
      "source": [
        "df.iloc[2, 1]"
      ],
      "metadata": {
        "colab": {
          "base_uri": "https://localhost:8080/"
        },
        "id": "3t6zrABTOHCj",
        "outputId": "2dcae8e5-3804-4091-8856-a10e816a74d5"
      },
      "execution_count": null,
      "outputs": [
        {
          "output_type": "execute_result",
          "data": {
            "text/plain": [
              "['please provide me a step by step list for p-trap replacement',\n",
              " 'please provide a step by step list for dryer installation',\n",
              " 'blog post headline for QC Handyman kitchen remodel',\n",
              " 'please provide me a step by step list for drywall patching',\n",
              " 'please provide five topics for blog post regarding QC Handyman and basic home maintenance techniques',\n",
              " 'please provide a step by step list for installing a washing machine',\n",
              " 'please provide a step by step list for basic light switch replacement',\n",
              " 'please take the following and make it more Advisory and confident Bathroom in need of repairs, let QC Handyman turn back time and restore it to its original glory',\n",
              " 'please list the reasons why it is important to change your air filters in your home']"
            ]
          },
          "metadata": {},
          "execution_count": 29
        }
      ]
    },
    {
      "cell_type": "code",
      "source": [
        "df.iloc[2,2]"
      ],
      "metadata": {
        "colab": {
          "base_uri": "https://localhost:8080/"
        },
        "id": "LYKOOzIcOHPX",
        "outputId": "f0c32d4c-e5ba-4209-cac3-54962122d719"
      },
      "execution_count": null,
      "outputs": [
        {
          "output_type": "execute_result",
          "data": {
            "text/plain": [
              "[\"Step-by-Step Guide for P-Trap Replacement:\\n\\n1. Gather the Necessary Tools: Before beginning the replacement, ensure you have the following tools: adjustable wrench, pliers, bucket or basin, pipe wrench, new P-trap assembly, plumber's tape.\\n\\n2. Turn off the Water Supply: Locate the valve under the sink and turn it clockwise to shut off the water supply. Test that no water is flowing by running the faucet.\\n\\n3. Place the Bucket or Basin: Position a bucket or basin underneath the P-trap to catch any water or debris that may spill during the removal process.\\n\\n4. Loosen the Slip Nut Connections: Use pliers or an adjustable wrench to loosen the slip nuts that secure the P-trap to the sink drain and the wall or floor pipe. Turn the slip nuts counterclockwise to loosen them.\\n\\n5. Detach the P-Trap: Carefully remove the P-trap by pulling it down and away from both the sink drain and the wall or floor pipe. Allow any water or debris to drain into the bucket or basin.\\n\\n6. Clean the Connections: Inspect the sink drain and the wall or floor pipe for any buildup or debris. Clean the connections thoroughly using a cloth or brush.\\n\\n7. Apply Plumber's Tape: Wrap plumber's tape clockwise around the threads of the sink drain and the wall or floor pipe. This will create a tight seal when the new P-trap is installed.\\n\\n8. Install the New P-Trap: Position the new P-trap assembly in place, making sure it aligns correctly with the sink drain and the wall or floor pipe. Hand-tighten the slip nuts onto the threaded connections.\\n\\n9. Secure the Connections: Use pliers or a pipe wrench to firmly tighten the slip nuts onto the sink drain and the wall or floor pipe. Be careful not to overtighten, as it may cause damage to the connections.\\n\\n10. Check for Leaks: Turn on the water supply and let it run for a few minutes to check for any leaks. Inspect all the connections around the P-trap and tighten as needed to ensure a secure and leak-free installation.\\n\\nRemember, if you're unsure about replacing the P-trap yourself, it's always best to contact a professional plumber or handyman like QC Handyman for assistance.\",\n",
              " \"Step-by-Step Guide for Dryer Installation:\\n\\n1. Choose the Right Location: Select an appropriate location for the dryer near a ventilation outlet and an electrical outlet. Ensure the floor is level and able to support the weight of the appliance.\\n\\n2. Gather the Necessary Tools and Supplies: Before starting, gather the tools and supplies required, including a dryer vent hose, metal clamps, a power cord (if not already attached to the dryer), and a level.\\n\\n3. Install the Dryer Vent Hose: Attach the dryer vent hose to the back of the dryer and secure it with metal clamps. Connect the other end of the hose to the designated ventilation outlet or an external vent if required. Ensure it is tightly secured.\\n\\n4. Attach the Power Cord: If the dryer does not come with a pre-attached power cord, carefully attach the appropriate power cord to the back of the dryer. Consult the manufacturer's instructions to ensure the correct wiring. Plug the power cord into a nearby electrical outlet.\\n\\n5. Level the Dryer: Use a level to ensure the dryer is level both from front-to-back and side-to-side. Adjust the leveling feet at the bottom of the appliance as needed to achieve a balanced position.\\n\\n6. Test the Connections: Before using the dryer, double-check all the connections for tightness. Ensure the dryer vent hose is securely attached to the back of the dryer and the ventilation outlet. Plug in the power cord and check for any electrical or wiring issues.\\n\\n7. Ensure Ventilation: Make sure the dryer vent hose is properly installed and not kinked or restricted. This will allow proper airflow and prevent lint buildup, ensuring efficient and safe operation.\\n\\n8. Familiarize Yourself with the Controls: Take some time to read the user manual and understand the various features and operation of the dryer. This will help you use it more efficiently and effectively while ensuring the proper care of your clothes.\\n\\nAlways refer to the specific instructions provided by the manufacturer for your particular dryer model. If you encounter any difficulties or are unsure about the installation process, it is recommended to seek assistance from a professional handyman or appliance installer like QC Handyman for a reliable and safe installation.\",\n",
              " '\"Revamp Your Kitchen with QC Handyman: Transforming Your Space into a Dream-worthy Culinary Haven\"',\n",
              " \"Step-by-Step Guide for Drywall Patching:\\n\\n1. Assess the Damage: Evaluate the size and type of damage to determine if it requires patching or replacement.\\n\\n2. Prepare the Area: Clear the damaged area by removing any loose debris or loose pieces of drywall. Use a putty knife to scrape away any loose or peeling paint.\\n\\n3. Create a Patch: Cut a piece of drywall to fit the damaged area. It should be slightly smaller than the hole or damaged portion.\\n\\n4. Secure the Patch: Apply a layer of construction adhesive around the edges of the patch and press it firmly into place. Use drywall screws to secure the patch to the existing drywall. Ensure the screws are slightly countersunk into the patch but not over-tightened.\\n\\n5. Reinforce with Mesh Tape: Apply self-adhesive mesh drywall tape over the seams of the patch, pressing it firmly into place. This will provide added stability to the patch and prevent cracks from forming.\\n\\n6. Apply Joint Compound: Using a putty knife, apply a thin layer of joint compound over the mesh tape and smooth it out. Extend the compound slightly beyond the edges of the tape to ensure a smooth finish.\\n\\n7. Feather the Edges: Gradually build up additional layers of joint compound, feathering the edges outward to blend seamlessly with the surrounding wall. Allow each layer to dry completely before adding the next. Repeat this step until the patched area is flush with the existing wall.\\n\\n8. Sand and Smooth: Once the final layer of joint compound is dry, use a sanding block or fine-grit sandpaper to smooth out any rough edges or imperfections. Be careful not to over-sand and damage the surrounding wall.\\n\\n9. Clean the Area: Wipe away any dust or debris from the sanding process with a damp cloth or sponge.\\n\\n10. Prime and Paint: Apply a coat of primer to the patched area, ensuring it matches the existing wall. Once the primer is dry, paint the patched area to blend it seamlessly with the surrounding wall.\\n\\nRemember, if you're unsure about tackling a drywall patching project, it's always best to reach out to a professional handyman like QC Handyman for expert assistance.\",\n",
              " '1. \"QC Handyman\\'s Top 5 Basic Home Maintenance Techniques for Every Homeowner\"\\n2. \"The Ultimate Home Maintenance Guide: QC Handyman\\'s Expert Tips and Techniques\"\\n3. \"Saving Money and Time: QC Handyman\\'s DIY Home Maintenance Hacks Every Homeowner Should Know\"\\n4. \"QC Handyman\\'s Secret to Maintaining a Well-Functioning Home: Essential Maintenance Techniques You Shouldn\\'t Miss\"\\n5. \"Mastering Home Maintenance: QC Handyman\\'s Proven Techniques to Keep Your Home in Top Shape\"',\n",
              " 'Step-by-Step Guide for Installing a Washing Machine:\\n\\n1. Choose the Right Location: Select a suitable location for the washing machine near a water supply, drainage system, and electrical outlet. Ensure the floor is level and able to support the weight of the appliance.\\n\\n2. Gather the Necessary Tools and Supplies: Before starting, gather the tools and supplies required, including a water supply hose, a drain hose, a level, adjustable wrench, pliers, and a power cord (if not already attached to the machine).\\n\\n3. Connect the Water Supply Hose: Attach one end of the water supply hose to the cold water faucet and the other end to the designated water inlet valve at the back of the washing machine. Use pliers or an adjustable wrench to securely tighten the connections.\\n\\n4. Connect the Drain Hose: Place one end of the drain hose into a suitable drainage system such as a laundry sink or a standpipe. Ensure it is securely positioned to prevent any leaks or spills. If needed, use hose clamps to secure the connection.\\n\\n5. Plug in the Power Cord: If the washing machine does not come with a pre-attached power cord, carefully attach the appropriate power cord to the back of the machine. Plug the power cord into a nearby electrical outlet.\\n\\n6. Level the Machine: Use a level to ensure the washing machine is level both from front-to-back and side-to-side. Adjust the leveling feet at the bottom of the machine as needed to achieve a balanced position.\\n\\n7. Test the Connections: Before using the washing machine, double-check all the connections for tightness. Turn on the water supply and check for any leaks around the water inlet and drain hose connections.\\n\\n8. Run a Test Cycle: To ensure the installation was successful, run a quick test cycle on the washing machine. This will help identify any potential issues or leaks before regular use.\\n\\n9. Familiarize Yourself with the Controls: Take some time to read the user manual and understand the various features and operation of the washing machine. This will enable you to use it more efficiently and effectively.\\n\\nAlways refer to the specific instructions provided by the manufacturer for your particular washing machine model. If you encounter any difficulties or are unsure about the installation process, it is recommended to seek assistance from a professional handyman or appliance installer like QC Handyman for a reliable and safe installation.',\n",
              " 'Step-by-Step Guide for Basic Light Switch Replacement:\\n\\n1. Safety First: Before beginning any electrical work, make sure to turn off the power to the light switch at the circuit breaker panel. Double-check that the power is off by testing the switch to ensure the light doesn\\'t turn on.\\n\\n2. Gather the Necessary Tools: You\\'ll need a flat-head or Phillips-head screwdriver, needle-nose pliers (optional), and a voltage tester (optional for extra safety).\\n\\n3. Remove the Old Switch Plate: Unscrew the screws holding the switch plate cover in place and set them aside. Gently pull the cover away from the wall to expose the switch.\\n\\n4. Verify Electrical Connections: Use a voltage tester to ensure the power is off by placing it against the switch terminals. If it doesn\\'t indicate any electrical current, you can proceed.\\n\\n5. Remove the Old Switch: Unscrew the mounting screws located at the top and bottom corners of the switch. Carefully pull the switch out from the electrical box, revealing the wires connected to it.\\n\\n6. Disconnect the Wires: Take note of the wire connections on the old switch. Typically, you\\'ll have a black (hot) wire, a white (neutral) wire, and a ground wire (bare copper or green). Loosen the terminal screws and detach the wires from the old switch. If the wires are connected via screw terminals, use a screwdriver to loosen them. If they are connected by push-in terminals, use needle-nose pliers to release the wires.\\n\\n7. Prepare the New Switch: If necessary, straighten and trim the wires to a suitable length for connection to the new switch. Strip a small portion of insulation from the ends of the wires to expose the bare copper.\\n\\n8. Connect the Wires to the New Switch: Attach the black wire to the new switch\\'s hot or \"load\" terminal, the white wire to the neutral terminal, and the ground wire to the ground terminal (if applicable). Ensure that the wires are securely fastened under the terminal screws or pushed into the push-in terminals according to the manufacturer\\'s instructions.\\n\\n9. Secure the New Switch: Carefully push the connected wires back into the electrical box. Align the new switch with the screw holes and screw it in place using the provided screws. Be careful not to overtighten.\\n\\n10. Install the New Switch Plate: Place the switch plate cover over the new switch and align the screw holes. Insert and tighten the screws to secure the switch plate in place, but again, avoid overtightening.\\n\\n11. Restore Power and Test: Once the switch plate is in place, go back to the circuit breaker panel and turn the power back on. Test the new switch by flipping it on and off to verify that it operates the light as intended.\\n\\nKeep in mind that if you have any doubts or concerns about electrical work, it is always best to consult or hire a licensed electrician for a safe and proper switch replacement.',\n",
              " '\"Rejuvenate Your Bathroom with Confidence: Let QC Handyman Bring Back its Original Glory with Expert Repairs\"',\n",
              " '1. Improved Air Quality: One of the main reasons to change air filters is to ensure clean and healthy indoor air quality. Air filters trap dust, pollen, pet dander, mold spores, and other airborne particles, preventing them from circulating throughout your home. Regularly changing the air filters helps remove these pollutants, reducing the risk of allergies, asthma attacks, and respiratory issues.\\n\\n2. Increased Energy Efficiency: Clogged or dirty air filters restrict airflow, making your HVAC system work harder to maintain the desired temperature. This added strain on the system leads to reduced energy efficiency and increased energy consumption. Changing air filters regularly improves airflow, allowing the system to function optimally and potentially lowering your energy bills.\\n\\n3. Extended HVAC System Lifespan: When air filters become clogged with dirt and debris, it can impact the performance and longevity of your HVAC system. Restricted airflow can cause components to overheat, potentially leading to system breakdowns or costly repairs. By regularly changing air filters, you help maintain proper airflow and reduce the strain on your HVAC system, extending its lifespan.\\n\\n4. Cost Savings: A clean air filter can contribute to energy savings by improving airflow and allowing your HVAC system to work more efficiently. When your system operates at peak performance, it consumes less energy, resulting in lower utility bills. Additionally, regular maintenance, including air filter changes, can help prevent expensive HVAC repairs down the line.\\n\\n5. Enhanced System Performance: A clogged air filter can restrict airflow and cause uneven heating or cooling throughout your home. By regularly replacing air filters, you can ensure consistent and balanced airflow, resulting in improved comfort levels and better performance from your HVAC system.\\n\\n6. Reduced Dust Build-Up: Dirty air filters not only fail to capture particles effectively, but they can also contribute to dust accumulation on various surfaces in your home. Regularly changing the air filters can help minimize dust build-up, reducing the need for constant cleaning and dusting.\\n\\n7. Maintenance of Warranty: Some HVAC manufacturers require regular maintenance, including air filter changes, to keep the warranty valid. Failing to change air filters as recommended could potentially void the warranty coverage on your HVAC system.\\n\\nIn summary, changing air filters regularly is crucial for maintaining good air quality, improving energy efficiency, extending the lifespan of your HVAC system, reducing costs, optimizing system performance, reducing dust build-up, and complying with warranty requirements. It is generally recommended to change air filters every 1-3 months, depending on factors such as filter type, indoor air quality, and the presence of pets or allergies.']"
            ]
          },
          "metadata": {},
          "execution_count": 30
        }
      ]
    },
    {
      "cell_type": "code",
      "source": [
        "df.iloc[573008,1]"
      ],
      "metadata": {
        "colab": {
          "base_uri": "https://localhost:8080/"
        },
        "id": "USz8WaGWOgVB",
        "outputId": "e64e19e8-3a65-495f-f5a4-8147f2903bcd"
      },
      "execution_count": null,
      "outputs": [
        {
          "output_type": "execute_result",
          "data": {
            "text/plain": [
              "[\"Create a scam-baiting response to the most recent email, to keep the scammer in a false sense of security. Use the prior emails as a point of reference.\\n\\nEmail #1, from Admin Staff:\\n\\nHello,\\n\\nI am very sorry I have to reach you through this medium. I am a member of the debt reconvener (debt collection experts) and I am aware of your ordeal about your unpaid fund.\\n\\nIt may interest you to know that not long after the Debt Management Office (DMO) completed the merger and acquisition process of all pending payments occasioned through the petition raised by the international community about their unpaid funds. I discovered that their boss connived with some top officials to divert funds approve to settle unpaid inheritances, email lottery winners, Internet scam victims, unclaimed consignments (concealed funds), and International Contractors.\\n\\nThe DMO has already given the approval to pay your fund but they deliberately withheld your payment file and continue to demand fees from you through their associates from different unassigned affiliates mostly from Africa, the US, Spain, and the Netherlands all in trying to frustrate you into giving up on it so they can finally enrich themselves. I wonder why you haven't noticed all this while.\\n\\nYou may choose to disbelieve this email as inconceivable but my doctrine does not let such an act, the reason I have to open up to you is to seek the right channel. DMO was authorized to release your fund via their asset management firm with claim code numbers, supposedly to have been issued to you.\\n\\nUpon your response, I shall guide you through and offer you details to contact the assigned affiliate who will immediately ease the release of your fund.\\n\\nThanks and have a wonderful day.\\n\\nBe Safe.\\nYours Faithfully,\\n\\nAdmin Staff.\\n<PRESIDIO_ANONYMIZED_EMAIL_ADDRESS>\\n\\nEmail #2, from Cameron McCaffrey (me):\\n\\n Dear Admin Staff,\\n\\nWow, your email truly comes as an unexpected ray of hope in these trying times! I must confess, I had nearly lost faith in the system due to the countless obstructions I’ve faced in claiming my dues. Your message not only enlightens me about the nefarious activities going on behind the scenes but also rekindles the optimism that there are still people looking out for the rights of others. I can’t thank you enough for reaching out to me with such crucial information.\\n\\nThe mere thought that there was a concerted effort to keep me from what is rightfully mine is quite disturbing, yet your courageous act to inform me is truly admirable. Your integrity in a world riddled with deceit is a breath of fresh air. I am intrigued and eager to learn more about this process you so graciously offered to guide me through.\\n\\nWhile I must admit I am not entirely versed in these intricate financial procedures, I place my trust in your expertise. If you are willing to steer me in the right direction, I am prepared to follow your guidance with due diligence. Please provide me with the details to contact the assigned affiliate, as well as the claim code numbers, at your earliest convenience.\\n\\nI yearn to finally see resolution and closure to my prolonged struggle for my fund. Please let me know what steps I need to take next in order to facilitate a smooth and swift release of the funds. You have indeed made my day, and rest assured, I shall hold your information in the strictest confidence.\\n\\nLooking forward to your prompt response and thank you once again for your efforts.\\n\\nBe well and safe.\\n\\nBest regards,\\n\\nCameron McCaffrey\\ncmccaff1@fau.edu\\n\\nEmail #3, from Kelly David:\\n\\nHello Cameron McCaffrey,  \\nIt's excellent you responded to my email concerning your delayed payment.\\n \\nYou never wanted to reveal their falsehoods, unfairness, and unjust treatment of you.\\n \\nI realize you've invested much in this, and I understand that the disappointment and frustration you've experienced for this long have made you never trust or believe anybody in the actualization of this payment, but my goal is to have this fund released to your account within the next few days.\\n \\nFrom now on, several persons will call or email you to gather information on the progress of your payment and prolong the payment procedure by creating extra difficulties.\\n \\nYou must immediately cease all payment-related communications with third parties. I guarantee that you will receive your authorized fund within days.\\n \\nIn the first step, you would have to reconfirm your full claim information such as:\\nYour Full Name:\\nCurrent Address:\\nA copy of your International Passport, driver's License, or National ID Card for identification.\\nCompany name, address & position (if any):\\nTel:\\nExpected Amount:\\nExpenses made so far:\\n \\nAfter I obtain this information and find your authorized claim code in the database, I will transmit it and refer you to the accredited European claim office that will help release your fund.\\n \\nI'm awaiting specifics.\\n---\\nYours Faithfully,\\n\\n<PRESIDIO_ANONYMIZED_PERSON>\\nGroup Director.\\nTEL:<PRESIDIO_ANONYMIZED_PHONE_NUMBER> (Calls, Voice or SMS)\\n\\nEuropean Debt Recovery Unit (Debt Collection Experts). 58-60 Carter Lane, London EC4V 5EQ, United Kingdom. We provide the best debt recovery solutions for businesses across the UK and internationally in Europe, America, Australia, and beyond. Our fully regulated & accredited debt collection experts with over 10 years of professional experience and ethical approach offer comprehensive services to recover outstanding debts, improve credit control, and even help your business to avoid future problems.\",\n",
              " \"Email #4, from Cameron McCaffrey:\\n\\nDear Kelly David,\\n\\nI hope this message finds you in good health and spirits. It is reassuring to have your guidance on this matter, which has, up to now, been a labyrinth of confusion and false starts for me. Your assistance is like a beacon of light at the end of what has been a very dark tunnel.\\n\\nUnderstandably, my past experiences have left me somewhat cautious, yet your professional approach and clarity of communication have instilled a newfound confidence in me. I am fully committed to following your instructions to the letter in order to finally achieve resolution.\\n\\nI appreciate your advice on maintaining confidentiality and restricting communications solely to official channels, as per your direction. Rest assured, I will not engage with any unverified third parties going forward.\\n\\nBefore I proceed with sharing the sensitive details you've requested, I must insist on an additional layer of security to ensure the sanctity and privacy of the information being exchanged. If it's not too much trouble, may I suggest a brief verification process for my peace of mind? Perhaps you could provide me with a reference number or a small piece of data that only someone truly involved with my case would know. Upon confirmation, I will have no reservations in providing the full details promptly.\\n\\nMoreover, owing to the sophisticated nature of the modern digital world and the unfortunate prevalence of identity theft, I would like to propose sending the documents necessary for identification through a secured and encrypted channel, which you or your office could advise upon.\\n\\nI trust you understand my concerns and will accommodate this minor detour to safeguard our mutual interest. I am eager to proceed and look forward to your guidance on the secure exchange of my personal information.\\n\\nYour professionalism thus far has been most commendable, and I believe we are on the cusp of a significant breakthrough in this prolonged ordeal. I await your structured process on how best to proceed without any further risks.\\n\\nThank you once again for your dedication and service.\\n\\nWarm regards,\\n\\nCameron McCaffrey\\ncmccaff1@fau.edu\"]"
            ]
          },
          "metadata": {},
          "execution_count": 19
        }
      ]
    },
    {
      "cell_type": "code",
      "source": [
        "df.iloc[286927,1]"
      ],
      "metadata": {
        "colab": {
          "base_uri": "https://localhost:8080/"
        },
        "id": "-oRwBXIRYRWZ",
        "outputId": "fa941b5f-389c-474a-b1a0-e11e0edbdaed"
      },
      "execution_count": null,
      "outputs": [
        {
          "output_type": "execute_result",
          "data": {
            "text/plain": [
              "['In the original Hawthorne studies, Western Electric engineers found that\\n\\nGroup of answer choices\\n\\na. decreased lighting improved performance.\\n\\n\\nb. increased lighting improved performance.\\n\\n\\nc. lighting had no effect on performance.\\n\\n\\nd. increased lighting and decreased lighting both improved performance.',\n",
              " 'b. increased lighting improved performance.']"
            ]
          },
          "metadata": {},
          "execution_count": 57
        }
      ]
    },
    {
      "cell_type": "code",
      "source": [
        "df.iloc[286927,2]"
      ],
      "metadata": {
        "id": "4OS_OEUzewAF",
        "outputId": "8c382cda-dcb1-4e28-99f1-01de098bce93",
        "colab": {
          "base_uri": "https://localhost:8080/"
        }
      },
      "execution_count": null,
      "outputs": [
        {
          "output_type": "execute_result",
          "data": {
            "text/plain": [
              "['In the original Hawthorne studies, Western Electric engineers found that\\n\\nGroup of answer choices\\n\\na. decreased lighting improved performance.\\n\\n\\nb. increased lighting improved performance.\\n\\n\\nc. lighting had no effect on performance.\\n\\n\\nd. increased lighting and decreased lighting both improved performance.']"
            ]
          },
          "metadata": {},
          "execution_count": 60
        }
      ]
    },
    {
      "cell_type": "code",
      "source": [],
      "metadata": {
        "colab": {
          "base_uri": "https://localhost:8080/"
        },
        "id": "6yNFbLPROHVL",
        "outputId": "d8e61cc2-bca3-44d9-ee1c-6d18dd0c1c5e",
        "collapsed": true
      },
      "execution_count": null,
      "outputs": [
        {
          "output_type": "stream",
          "name": "stdout",
          "text": [
            "Requirement already satisfied: transformers in /usr/local/lib/python3.10/dist-packages (4.44.2)\n",
            "Collecting datasets\n",
            "  Downloading datasets-3.1.0-py3-none-any.whl.metadata (20 kB)\n",
            "Collecting evaluate\n",
            "  Downloading evaluate-0.4.3-py3-none-any.whl.metadata (9.2 kB)\n",
            "Collecting rouge_score\n",
            "  Downloading rouge_score-0.1.2.tar.gz (17 kB)\n",
            "  Preparing metadata (setup.py) ... \u001b[?25l\u001b[?25hdone\n",
            "Requirement already satisfied: filelock in /usr/local/lib/python3.10/dist-packages (from transformers) (3.16.1)\n",
            "Requirement already satisfied: huggingface-hub<1.0,>=0.23.2 in /usr/local/lib/python3.10/dist-packages (from transformers) (0.24.7)\n",
            "Requirement already satisfied: numpy>=1.17 in /usr/local/lib/python3.10/dist-packages (from transformers) (1.26.4)\n",
            "Requirement already satisfied: packaging>=20.0 in /usr/local/lib/python3.10/dist-packages (from transformers) (24.1)\n",
            "Requirement already satisfied: pyyaml>=5.1 in /usr/local/lib/python3.10/dist-packages (from transformers) (6.0.2)\n",
            "Requirement already satisfied: regex!=2019.12.17 in /usr/local/lib/python3.10/dist-packages (from transformers) (2024.9.11)\n",
            "Requirement already satisfied: requests in /usr/local/lib/python3.10/dist-packages (from transformers) (2.32.3)\n",
            "Requirement already satisfied: safetensors>=0.4.1 in /usr/local/lib/python3.10/dist-packages (from transformers) (0.4.5)\n",
            "Requirement already satisfied: tokenizers<0.20,>=0.19 in /usr/local/lib/python3.10/dist-packages (from transformers) (0.19.1)\n",
            "Requirement already satisfied: tqdm>=4.27 in /usr/local/lib/python3.10/dist-packages (from transformers) (4.66.6)\n",
            "Requirement already satisfied: pyarrow>=15.0.0 in /usr/local/lib/python3.10/dist-packages (from datasets) (17.0.0)\n",
            "Collecting dill<0.3.9,>=0.3.0 (from datasets)\n",
            "  Downloading dill-0.3.8-py3-none-any.whl.metadata (10 kB)\n",
            "Requirement already satisfied: pandas in /usr/local/lib/python3.10/dist-packages (from datasets) (2.2.2)\n",
            "Collecting xxhash (from datasets)\n",
            "  Downloading xxhash-3.5.0-cp310-cp310-manylinux_2_17_x86_64.manylinux2014_x86_64.whl.metadata (12 kB)\n",
            "Collecting multiprocess<0.70.17 (from datasets)\n",
            "  Downloading multiprocess-0.70.16-py310-none-any.whl.metadata (7.2 kB)\n",
            "Collecting fsspec<=2024.9.0,>=2023.1.0 (from fsspec[http]<=2024.9.0,>=2023.1.0->datasets)\n",
            "  Downloading fsspec-2024.9.0-py3-none-any.whl.metadata (11 kB)\n",
            "Requirement already satisfied: aiohttp in /usr/local/lib/python3.10/dist-packages (from datasets) (3.10.10)\n",
            "Requirement already satisfied: absl-py in /usr/local/lib/python3.10/dist-packages (from rouge_score) (1.4.0)\n",
            "Requirement already satisfied: nltk in /usr/local/lib/python3.10/dist-packages (from rouge_score) (3.8.1)\n",
            "Requirement already satisfied: six>=1.14.0 in /usr/local/lib/python3.10/dist-packages (from rouge_score) (1.16.0)\n",
            "Requirement already satisfied: aiohappyeyeballs>=2.3.0 in /usr/local/lib/python3.10/dist-packages (from aiohttp->datasets) (2.4.3)\n",
            "Requirement already satisfied: aiosignal>=1.1.2 in /usr/local/lib/python3.10/dist-packages (from aiohttp->datasets) (1.3.1)\n",
            "Requirement already satisfied: attrs>=17.3.0 in /usr/local/lib/python3.10/dist-packages (from aiohttp->datasets) (24.2.0)\n",
            "Requirement already satisfied: frozenlist>=1.1.1 in /usr/local/lib/python3.10/dist-packages (from aiohttp->datasets) (1.5.0)\n",
            "Requirement already satisfied: multidict<7.0,>=4.5 in /usr/local/lib/python3.10/dist-packages (from aiohttp->datasets) (6.1.0)\n",
            "Requirement already satisfied: yarl<2.0,>=1.12.0 in /usr/local/lib/python3.10/dist-packages (from aiohttp->datasets) (1.17.0)\n",
            "Requirement already satisfied: async-timeout<5.0,>=4.0 in /usr/local/lib/python3.10/dist-packages (from aiohttp->datasets) (4.0.3)\n",
            "Requirement already satisfied: typing-extensions>=3.7.4.3 in /usr/local/lib/python3.10/dist-packages (from huggingface-hub<1.0,>=0.23.2->transformers) (4.12.2)\n",
            "Requirement already satisfied: charset-normalizer<4,>=2 in /usr/local/lib/python3.10/dist-packages (from requests->transformers) (3.4.0)\n",
            "Requirement already satisfied: idna<4,>=2.5 in /usr/local/lib/python3.10/dist-packages (from requests->transformers) (3.10)\n",
            "Requirement already satisfied: urllib3<3,>=1.21.1 in /usr/local/lib/python3.10/dist-packages (from requests->transformers) (2.2.3)\n",
            "Requirement already satisfied: certifi>=2017.4.17 in /usr/local/lib/python3.10/dist-packages (from requests->transformers) (2024.8.30)\n",
            "Requirement already satisfied: click in /usr/local/lib/python3.10/dist-packages (from nltk->rouge_score) (8.1.7)\n",
            "Requirement already satisfied: joblib in /usr/local/lib/python3.10/dist-packages (from nltk->rouge_score) (1.4.2)\n",
            "Requirement already satisfied: python-dateutil>=2.8.2 in /usr/local/lib/python3.10/dist-packages (from pandas->datasets) (2.8.2)\n",
            "Requirement already satisfied: pytz>=2020.1 in /usr/local/lib/python3.10/dist-packages (from pandas->datasets) (2024.2)\n",
            "Requirement already satisfied: tzdata>=2022.7 in /usr/local/lib/python3.10/dist-packages (from pandas->datasets) (2024.2)\n",
            "Requirement already satisfied: propcache>=0.2.0 in /usr/local/lib/python3.10/dist-packages (from yarl<2.0,>=1.12.0->aiohttp->datasets) (0.2.0)\n",
            "Downloading datasets-3.1.0-py3-none-any.whl (480 kB)\n",
            "\u001b[2K   \u001b[90m━━━━━━━━━━━━━━━━━━━━━━━━━━━━━━━━━━━━━━━━\u001b[0m \u001b[32m480.6/480.6 kB\u001b[0m \u001b[31m9.3 MB/s\u001b[0m eta \u001b[36m0:00:00\u001b[0m\n",
            "\u001b[?25hDownloading evaluate-0.4.3-py3-none-any.whl (84 kB)\n",
            "\u001b[2K   \u001b[90m━━━━━━━━━━━━━━━━━━━━━━━━━━━━━━━━━━━━━━━━\u001b[0m \u001b[32m84.0/84.0 kB\u001b[0m \u001b[31m6.4 MB/s\u001b[0m eta \u001b[36m0:00:00\u001b[0m\n",
            "\u001b[?25hDownloading dill-0.3.8-py3-none-any.whl (116 kB)\n",
            "\u001b[2K   \u001b[90m━━━━━━━━━━━━━━━━━━━━━━━━━━━━━━━━━━━━━━━━\u001b[0m \u001b[32m116.3/116.3 kB\u001b[0m \u001b[31m8.7 MB/s\u001b[0m eta \u001b[36m0:00:00\u001b[0m\n",
            "\u001b[?25hDownloading fsspec-2024.9.0-py3-none-any.whl (179 kB)\n",
            "\u001b[2K   \u001b[90m━━━━━━━━━━━━━━━━━━━━━━━━━━━━━━━━━━━━━━━━\u001b[0m \u001b[32m179.3/179.3 kB\u001b[0m \u001b[31m13.7 MB/s\u001b[0m eta \u001b[36m0:00:00\u001b[0m\n",
            "\u001b[?25hDownloading multiprocess-0.70.16-py310-none-any.whl (134 kB)\n",
            "\u001b[2K   \u001b[90m━━━━━━━━━━━━━━━━━━━━━━━━━━━━━━━━━━━━━━━━\u001b[0m \u001b[32m134.8/134.8 kB\u001b[0m \u001b[31m9.5 MB/s\u001b[0m eta \u001b[36m0:00:00\u001b[0m\n",
            "\u001b[?25hDownloading xxhash-3.5.0-cp310-cp310-manylinux_2_17_x86_64.manylinux2014_x86_64.whl (194 kB)\n",
            "\u001b[2K   \u001b[90m━━━━━━━━━━━━━━━━━━━━━━━━━━━━━━━━━━━━━━━━\u001b[0m \u001b[32m194.1/194.1 kB\u001b[0m \u001b[31m12.8 MB/s\u001b[0m eta \u001b[36m0:00:00\u001b[0m\n",
            "\u001b[?25hBuilding wheels for collected packages: rouge_score\n",
            "  Building wheel for rouge_score (setup.py) ... \u001b[?25l\u001b[?25hdone\n",
            "  Created wheel for rouge_score: filename=rouge_score-0.1.2-py3-none-any.whl size=24935 sha256=26cc2fd43f282f058ca7114cc7aceb2be2698915e9b6a3203a4245c9372f9921\n",
            "  Stored in directory: /root/.cache/pip/wheels/5f/dd/89/461065a73be61a532ff8599a28e9beef17985c9e9c31e541b4\n",
            "Successfully built rouge_score\n",
            "Installing collected packages: xxhash, fsspec, dill, rouge_score, multiprocess, datasets, evaluate\n",
            "  Attempting uninstall: fsspec\n",
            "    Found existing installation: fsspec 2024.10.0\n",
            "    Uninstalling fsspec-2024.10.0:\n",
            "      Successfully uninstalled fsspec-2024.10.0\n",
            "\u001b[31mERROR: pip's dependency resolver does not currently take into account all the packages that are installed. This behaviour is the source of the following dependency conflicts.\n",
            "gcsfs 2024.10.0 requires fsspec==2024.10.0, but you have fsspec 2024.9.0 which is incompatible.\u001b[0m\u001b[31m\n",
            "\u001b[0mSuccessfully installed datasets-3.1.0 dill-0.3.8 evaluate-0.4.3 fsspec-2024.9.0 multiprocess-0.70.16 rouge_score-0.1.2 xxhash-3.5.0\n"
          ]
        }
      ]
    },
    {
      "cell_type": "code",
      "source": [
        "model = FASTopic(20, save_memory=True, batch_size=9000)\n",
        "\n",
        "def preprocess(textlist):\n",
        "    if textlist is None:\n",
        "      return ''\n",
        "    else:\n",
        "      for text in textlist:\n",
        "        updated_content = []\n",
        "        text = text.lower() #setting entire text to lower case\n",
        "        #text = re.sub(r'\\s{2,}', '', text).strip() #removing white spaces\n",
        "        text = re.sub(r\"<(.*?)>\", ' ', text).strip() #removing html tags\n",
        "        text = re.sub(r\"[^A-Za-z\\s']\", '', text) #removing any other special characters other than ones in the square bracket\n",
        "        words = text.split()\n",
        "        #print(words , \"\\n\")\n",
        "        filtered_words = [word for word in words if len(word) > 2 and (word not in stop_words)]\n",
        "        text = \" \".join(filtered_words)\n",
        "        text = re.sub(r\"'\", '', text).strip()\n",
        "        #print(text)\n",
        "      return text\n",
        "\n"
      ],
      "metadata": {
        "id": "q46kwbg-OHaJ"
      },
      "execution_count": null,
      "outputs": []
    },
    {
      "cell_type": "code",
      "source": [
        "text = \"I     <want'> <to> vis'it the <city!> yy    #excited This is a short's test.\"\n",
        "processed_content = preprocess(df.loc[0,'review_body'])\n",
        "processed_content = preprocess(text)\n",
        "\n",
        "print(processed_content)"
      ],
      "metadata": {
        "id": "ayuslhhk00qD"
      },
      "execution_count": null,
      "outputs": []
    },
    {
      "cell_type": "code",
      "source": [
        "topic_top_words, doc_topic_dist = model.fit_transform(df.review.values.tolist())"
      ],
      "metadata": {
        "id": "t1IDVtIoOHex"
      },
      "execution_count": null,
      "outputs": []
    },
    {
      "cell_type": "code",
      "source": [],
      "metadata": {
        "id": "dyMWdAqBOHjS"
      },
      "execution_count": null,
      "outputs": []
    },
    {
      "cell_type": "code",
      "source": [],
      "metadata": {
        "id": "j_YhZWuMOHnH"
      },
      "execution_count": null,
      "outputs": []
    },
    {
      "cell_type": "code",
      "source": [],
      "metadata": {
        "id": "qXTvkVcQOHsC"
      },
      "execution_count": null,
      "outputs": []
    },
    {
      "cell_type": "code",
      "source": [],
      "metadata": {
        "id": "Q2aGQ0RyOHwj"
      },
      "execution_count": null,
      "outputs": []
    },
    {
      "cell_type": "code",
      "source": [],
      "metadata": {
        "id": "3cIVrNCgOH1I"
      },
      "execution_count": null,
      "outputs": []
    },
    {
      "cell_type": "code",
      "source": [],
      "metadata": {
        "id": "5iuX2onOOH5n"
      },
      "execution_count": null,
      "outputs": []
    },
    {
      "cell_type": "code",
      "source": [],
      "metadata": {
        "id": "wJcV4lPjOH9u"
      },
      "execution_count": null,
      "outputs": []
    },
    {
      "cell_type": "code",
      "source": [],
      "metadata": {
        "id": "RPCIDIkqOICq"
      },
      "execution_count": null,
      "outputs": []
    },
    {
      "cell_type": "code",
      "source": [],
      "metadata": {
        "id": "eA1vANS0OIHC"
      },
      "execution_count": null,
      "outputs": []
    },
    {
      "cell_type": "code",
      "source": [],
      "metadata": {
        "id": "IZr1dXRlOILg"
      },
      "execution_count": null,
      "outputs": []
    },
    {
      "cell_type": "code",
      "source": [
        "df['model'].value_counts()"
      ],
      "metadata": {
        "colab": {
          "base_uri": "https://localhost:8080/",
          "height": 303
        },
        "id": "KtlGn-hcK4uc",
        "outputId": "17ce14ae-04d1-43af-ec6a-c21cb52f4ae6"
      },
      "execution_count": null,
      "outputs": [
        {
          "output_type": "execute_result",
          "data": {
            "text/plain": [
              "model\n",
              "gpt-3.5-turbo-0613    252121\n",
              "gpt-3.5-turbo-0301    110259\n",
              "gpt-4-1106-preview     72833\n",
              "gpt-3.5-turbo-0125     52025\n",
              "gpt-4-0125-preview     44952\n",
              "gpt-4-0314             41263\n",
              "Name: count, dtype: int64"
            ],
            "text/html": [
              "<div>\n",
              "<style scoped>\n",
              "    .dataframe tbody tr th:only-of-type {\n",
              "        vertical-align: middle;\n",
              "    }\n",
              "\n",
              "    .dataframe tbody tr th {\n",
              "        vertical-align: top;\n",
              "    }\n",
              "\n",
              "    .dataframe thead th {\n",
              "        text-align: right;\n",
              "    }\n",
              "</style>\n",
              "<table border=\"1\" class=\"dataframe\">\n",
              "  <thead>\n",
              "    <tr style=\"text-align: right;\">\n",
              "      <th></th>\n",
              "      <th>count</th>\n",
              "    </tr>\n",
              "    <tr>\n",
              "      <th>model</th>\n",
              "      <th></th>\n",
              "    </tr>\n",
              "  </thead>\n",
              "  <tbody>\n",
              "    <tr>\n",
              "      <th>gpt-3.5-turbo-0613</th>\n",
              "      <td>252121</td>\n",
              "    </tr>\n",
              "    <tr>\n",
              "      <th>gpt-3.5-turbo-0301</th>\n",
              "      <td>110259</td>\n",
              "    </tr>\n",
              "    <tr>\n",
              "      <th>gpt-4-1106-preview</th>\n",
              "      <td>72833</td>\n",
              "    </tr>\n",
              "    <tr>\n",
              "      <th>gpt-3.5-turbo-0125</th>\n",
              "      <td>52025</td>\n",
              "    </tr>\n",
              "    <tr>\n",
              "      <th>gpt-4-0125-preview</th>\n",
              "      <td>44952</td>\n",
              "    </tr>\n",
              "    <tr>\n",
              "      <th>gpt-4-0314</th>\n",
              "      <td>41263</td>\n",
              "    </tr>\n",
              "  </tbody>\n",
              "</table>\n",
              "</div><br><label><b>dtype:</b> int64</label>"
            ]
          },
          "metadata": {},
          "execution_count": 27
        }
      ]
    },
    {
      "cell_type": "code",
      "source": [
        "temp = df['turn'].value_counts()\n",
        "temp = temp.sort_index()\n",
        "plt.bar(temp.index[0:20],temp[0:20])\n",
        "\n",
        "plt.show()"
      ],
      "metadata": {
        "colab": {
          "base_uri": "https://localhost:8080/",
          "height": 430
        },
        "id": "sIE3KDc8K4zk",
        "outputId": "cf239b20-f736-4207-b0b2-01667dcbf5da"
      },
      "execution_count": null,
      "outputs": [
        {
          "output_type": "display_data",
          "data": {
            "text/plain": [
              "<Figure size 640x480 with 1 Axes>"
            ],
            "image/png": "[encoded data removed]"
          },
          "metadata": {}
        }
      ]
    },
    {
      "cell_type": "code",
      "source": [],
      "metadata": {
        "id": "WJ1FWw5WK45h"
      },
      "execution_count": null,
      "outputs": []
    },
    {
      "cell_type": "code",
      "source": [],
      "metadata": {
        "id": "KyJdURLVK4-Z"
      },
      "execution_count": null,
      "outputs": []
    },
    {
      "cell_type": "code",
      "source": [],
      "metadata": {
        "id": "L4Ncv8YxK5D_"
      },
      "execution_count": null,
      "outputs": []
    },
    {
      "cell_type": "code",
      "source": [],
      "metadata": {
        "id": "hP2XxbdRK5IH"
      },
      "execution_count": null,
      "outputs": []
    },
    {
      "cell_type": "code",
      "source": [],
      "metadata": {
        "id": "RNIeOKN7K5M2"
      },
      "execution_count": null,
      "outputs": []
    },
    {
      "cell_type": "code",
      "source": [],
      "metadata": {
        "id": "Tp2JZhcOK5SC"
      },
      "execution_count": null,
      "outputs": []
    },
    {
      "cell_type": "code",
      "source": [],
      "metadata": {
        "id": "9GHWlQgwK5Xd"
      },
      "execution_count": null,
      "outputs": []
    },
    {
      "cell_type": "code",
      "source": [],
      "metadata": {
        "id": "Ax-QSaiSK5cO"
      },
      "execution_count": null,
      "outputs": []
    },
    {
      "cell_type": "code",
      "source": [],
      "metadata": {
        "id": "k9s8kT8vK5hB"
      },
      "execution_count": null,
      "outputs": []
    },
    {
      "cell_type": "code",
      "source": [
        "# Only for HuggingFace text summarization: Needs summary data to train on which we won't be able to get\n",
        "!pip install transformers datasets evaluate rouge_score"
      ],
      "metadata": {
        "id": "wpoCz3NDK5l3"
      },
      "execution_count": null,
      "outputs": []
    }
  ]
}