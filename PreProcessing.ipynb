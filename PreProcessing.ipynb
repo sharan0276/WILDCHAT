{
 "cells": [
  {
   "cell_type": "markdown",
   "id": "f1f27384-474c-488c-8e77-337269086559",
   "metadata": {},
   "source": [
    "# 1M WILDCHAT DATASET PREPROCESSING :\n",
    "This jupyter notebook details the preprocessing of 1M WILDCHAT Dataset to suit the requirements of the project. The pre-precossing is performed using PySpark."
   ]
  },
  {
   "cell_type": "code",
   "execution_count": 1,
   "id": "2dff58de-3f14-4071-8db5-1fd4223d832c",
   "metadata": {},
   "outputs": [
    {
     "data": {
      "text/plain": [
       "'/opt/anaconda3/lib/python3.12/site-packages/pyspark'"
      ]
     },
     "execution_count": 1,
     "metadata": {},
     "output_type": "execute_result"
    }
   ],
   "source": [
    "import findspark\n",
    "findspark.init()\n",
    "findspark.find()"
   ]
  },
  {
   "cell_type": "code",
   "execution_count": 3,
   "id": "10b979e7-468d-4af0-8c6b-530379061beb",
   "metadata": {},
   "outputs": [],
   "source": [
    "#importing all essentail libraries for the processing \n",
    "from pyspark.sql import SparkSession\n",
    "from pyspark.sql import functions as F\n",
    "from pyspark.context import SparkContext\n",
    "from pyspark.sql.types import ArrayType, StringType, BooleanType"
   ]
  },
  {
   "cell_type": "code",
   "execution_count": 5,
   "id": "e675dbb5-bc71-420d-80c7-99d6feb17c43",
   "metadata": {},
   "outputs": [
    {
     "name": "stderr",
     "output_type": "stream",
     "text": [
      "24/11/10 00:50:02 WARN Utils: Your hostname, Sharans-MacBook-Pro.local resolves to a loopback address: 127.0.0.1; using 10.0.0.30 instead (on interface en0)\n",
      "24/11/10 00:50:02 WARN Utils: Set SPARK_LOCAL_IP if you need to bind to another address\n",
      "Setting default log level to \"WARN\".\n",
      "To adjust logging level use sc.setLogLevel(newLevel). For SparkR, use setLogLevel(newLevel).\n",
      "24/11/10 00:50:02 WARN NativeCodeLoader: Unable to load native-hadoop library for your platform... using builtin-java classes where applicable\n"
     ]
    }
   ],
   "source": [
    "spark = SparkSession.builder.appName('WildCHAT1M').config(\"spark.driver.memory\", \"24g\").config(\"spark.executor.memory\", \"8g\").config(\"spark.sql.debug.maxToStringFields\", 1000).config(\"spark.executor.extraJavaOptions\", \"-XX:+UseG1GC\").config(\"spark.executor.cores\", \"4\").getOrCreate()\n",
    "\n",
    "#Added more driver memory to help with chat aggregations and increased the Sql String Length to accomodate the larger chat and response strings."
   ]
  },
  {
   "cell_type": "code",
   "execution_count": 7,
   "id": "cc4d6038-bbac-40ea-8528-a29fb1d9ed58",
   "metadata": {},
   "outputs": [
    {
     "data": {
      "text/html": [
       "\n",
       "            <div>\n",
       "                <p><b>SparkSession - in-memory</b></p>\n",
       "                \n",
       "        <div>\n",
       "            <p><b>SparkContext</b></p>\n",
       "\n",
       "            <p><a href=\"http://10.0.0.30:4040\">Spark UI</a></p>\n",
       "\n",
       "            <dl>\n",
       "              <dt>Version</dt>\n",
       "                <dd><code>v3.5.3</code></dd>\n",
       "              <dt>Master</dt>\n",
       "                <dd><code>local[*]</code></dd>\n",
       "              <dt>AppName</dt>\n",
       "                <dd><code>WildCHAT1M</code></dd>\n",
       "            </dl>\n",
       "        </div>\n",
       "        \n",
       "            </div>\n",
       "        "
      ],
      "text/plain": [
       "<pyspark.sql.session.SparkSession at 0x13f730fb0>"
      ]
     },
     "execution_count": 7,
     "metadata": {},
     "output_type": "execute_result"
    }
   ],
   "source": [
    "spark"
   ]
  },
  {
   "cell_type": "code",
   "execution_count": 9,
   "id": "9a99c2a9-f22f-4f74-822b-e94d4c877f86",
   "metadata": {},
   "outputs": [],
   "source": [
    "spark_df = spark.read.parquet(\"/Users/sharan/Desktop/IDMP Data/*.parquet\")"
   ]
  },
  {
   "cell_type": "code",
   "execution_count": 11,
   "id": "01b25529-d7de-4cc8-ae7a-2d2332feb2f1",
   "metadata": {},
   "outputs": [
    {
     "name": "stdout",
     "output_type": "stream",
     "text": [
      "+--------------------+----------+-------------------+--------------------+----+--------+--------------------+--------------------+-----+--------+------------+-------------+--------------------+--------------------+\n",
      "|   conversation_hash|     model|          timestamp|        conversation|turn|language|   openai_moderation| detoxify_moderation|toxic|redacted|       state|      country|           hashed_ip|              header|\n",
      "+--------------------+----------+-------------------+--------------------+----+--------+--------------------+--------------------+-----+--------+------------+-------------+--------------------+--------------------+\n",
      "|698e02bae74e1ca4e...|gpt-4-0314|2023-04-08 20:01:06|[{POUVEZ VOUS ME ...|   1|  French|[{{false, false, ...|[{0.0120244864374...| true|   false|       Dakar|      Senegal|cc4eb1e4234c16afc...|{fr,fr-FR;q=0.9,e...|\n",
      "|c9ec5b440fbdd2a26...|gpt-4-0314|2023-04-08 20:02:53|[{Hey there! Are ...|   1| English|[{{false, false, ...|[{2.0589135237969...|false|   false|       Texas|United States|22fd87ba9b98f3d37...|{en-US,en;q=0.9,e...|\n",
      "|34f1581760df304d5...|gpt-4-0314|2023-04-08 20:03:20|[{Crea una imagen...|   2| Spanish|[{{false, false, ...|[{0.0071708634495...|false|   false|    A Coruña|        Spain|58369722cd0bdf7fc...|{es-ES,es;q=0.9,e...|\n",
      "|cf1267ca6b2f6fccc...|gpt-4-0314|2023-04-08 20:04:52|[{Old age PT hx o...|   1| English|[{{false, false, ...|[{2.2580225777346...|false|   false|Mecca Region| Saudi Arabia|8133108d1c433c180...|{en-US,en;q=0.9, ...|\n",
      "|72b6aa90f180f51aa...|gpt-4-0314|2023-04-08 20:06:12|[{I want you to a...|   1| English|[{{false, false, ...|[{4.1892222361639...| true|   false|   Kyiv City|      Ukraine|f15615c3792532468...|{ru-UA,ru;q=0.9, ...|\n",
      "+--------------------+----------+-------------------+--------------------+----+--------+--------------------+--------------------+-----+--------+------------+-------------+--------------------+--------------------+\n",
      "\n"
     ]
    }
   ],
   "source": [
    "#Displaying the first 5 interactions from the dataset.\n",
    "spark_df.limit(5).show()"
   ]
  },
  {
   "cell_type": "code",
   "execution_count": 13,
   "id": "3de3b5cf-2883-4261-9889-a75dddde4e79",
   "metadata": {},
   "outputs": [],
   "source": [
    "spark_df = spark_df.filter(F.col('redacted') == False).filter(F.col('toxic') == False).filter(F.col('language') == 'English')\n",
    "#Saving records that are of English Language, do not contain any redacted information and are non - toxic."
   ]
  },
  {
   "cell_type": "code",
   "execution_count": 15,
   "id": "3c1b958e-6200-4b0e-9d6a-f7136b7b5a33",
   "metadata": {},
   "outputs": [
    {
     "data": {
      "text/plain": [
       "473265"
      ]
     },
     "execution_count": 15,
     "metadata": {},
     "output_type": "execute_result"
    }
   ],
   "source": [
    "spark_df.count()"
   ]
  },
  {
   "cell_type": "code",
   "execution_count": 17,
   "id": "c54a6b50-234d-4aa3-887f-a738ffa28e23",
   "metadata": {},
   "outputs": [
    {
     "data": {
      "text/plain": [
       "[Row(language='English')]"
      ]
     },
     "execution_count": 17,
     "metadata": {},
     "output_type": "execute_result"
    }
   ],
   "source": [
    "spark_df.select('language').distinct().collect()  #Confirming only English language interactions are available "
   ]
  },
  {
   "cell_type": "code",
   "execution_count": 19,
   "id": "285cc064-477e-480e-b296-c93dd3a77c53",
   "metadata": {},
   "outputs": [
    {
     "data": {
      "text/plain": [
       "[Row(redacted=False)]"
      ]
     },
     "execution_count": 19,
     "metadata": {},
     "output_type": "execute_result"
    }
   ],
   "source": [
    "spark_df.select('redacted').distinct().collect() #Confirming only non - redacted interactions are available "
   ]
  },
  {
   "cell_type": "code",
   "execution_count": 21,
   "id": "3f5a28ce-d6ef-4e3d-8a19-47fb924fe506",
   "metadata": {},
   "outputs": [
    {
     "data": {
      "text/plain": [
       "[Row(toxic=False)]"
      ]
     },
     "execution_count": 21,
     "metadata": {},
     "output_type": "execute_result"
    }
   ],
   "source": [
    "spark_df.select('toxic').distinct().collect()   #Confirming only non - toxic interactions are available "
   ]
  },
  {
   "cell_type": "code",
   "execution_count": 23,
   "id": "5639772a-9acc-465e-a356-5d5044ff2f4d",
   "metadata": {},
   "outputs": [
    {
     "name": "stdout",
     "output_type": "stream",
     "text": [
      "root\n",
      " |-- conversation_hash: string (nullable = true)\n",
      " |-- model: string (nullable = true)\n",
      " |-- timestamp: timestamp (nullable = true)\n",
      " |-- conversation: array (nullable = true)\n",
      " |    |-- element: struct (containsNull = true)\n",
      " |    |    |-- content: string (nullable = true)\n",
      " |    |    |-- country: string (nullable = true)\n",
      " |    |    |-- hashed_ip: string (nullable = true)\n",
      " |    |    |-- header: struct (nullable = true)\n",
      " |    |    |    |-- accept-language: string (nullable = true)\n",
      " |    |    |    |-- user-agent: string (nullable = true)\n",
      " |    |    |-- language: string (nullable = true)\n",
      " |    |    |-- redacted: boolean (nullable = true)\n",
      " |    |    |-- role: string (nullable = true)\n",
      " |    |    |-- state: string (nullable = true)\n",
      " |    |    |-- timestamp: timestamp (nullable = true)\n",
      " |    |    |-- toxic: boolean (nullable = true)\n",
      " |    |    |-- turn_identifier: long (nullable = true)\n",
      " |-- turn: long (nullable = true)\n",
      " |-- language: string (nullable = true)\n",
      " |-- openai_moderation: array (nullable = true)\n",
      " |    |-- element: struct (containsNull = true)\n",
      " |    |    |-- categories: struct (nullable = true)\n",
      " |    |    |    |-- harassment: boolean (nullable = true)\n",
      " |    |    |    |-- harassment/threatening: boolean (nullable = true)\n",
      " |    |    |    |-- harassment_threatening: boolean (nullable = true)\n",
      " |    |    |    |-- hate: boolean (nullable = true)\n",
      " |    |    |    |-- hate/threatening: boolean (nullable = true)\n",
      " |    |    |    |-- hate_threatening: boolean (nullable = true)\n",
      " |    |    |    |-- self-harm: boolean (nullable = true)\n",
      " |    |    |    |-- self-harm/instructions: boolean (nullable = true)\n",
      " |    |    |    |-- self-harm/intent: boolean (nullable = true)\n",
      " |    |    |    |-- self_harm: boolean (nullable = true)\n",
      " |    |    |    |-- self_harm_instructions: boolean (nullable = true)\n",
      " |    |    |    |-- self_harm_intent: boolean (nullable = true)\n",
      " |    |    |    |-- sexual: boolean (nullable = true)\n",
      " |    |    |    |-- sexual/minors: boolean (nullable = true)\n",
      " |    |    |    |-- sexual_minors: boolean (nullable = true)\n",
      " |    |    |    |-- violence: boolean (nullable = true)\n",
      " |    |    |    |-- violence/graphic: boolean (nullable = true)\n",
      " |    |    |    |-- violence_graphic: boolean (nullable = true)\n",
      " |    |    |-- category_scores: struct (nullable = true)\n",
      " |    |    |    |-- harassment: double (nullable = true)\n",
      " |    |    |    |-- harassment/threatening: double (nullable = true)\n",
      " |    |    |    |-- harassment_threatening: double (nullable = true)\n",
      " |    |    |    |-- hate: double (nullable = true)\n",
      " |    |    |    |-- hate/threatening: double (nullable = true)\n",
      " |    |    |    |-- hate_threatening: double (nullable = true)\n",
      " |    |    |    |-- self-harm: double (nullable = true)\n",
      " |    |    |    |-- self-harm/instructions: double (nullable = true)\n",
      " |    |    |    |-- self-harm/intent: double (nullable = true)\n",
      " |    |    |    |-- self_harm: double (nullable = true)\n",
      " |    |    |    |-- self_harm_instructions: double (nullable = true)\n",
      " |    |    |    |-- self_harm_intent: double (nullable = true)\n",
      " |    |    |    |-- sexual: double (nullable = true)\n",
      " |    |    |    |-- sexual/minors: double (nullable = true)\n",
      " |    |    |    |-- sexual_minors: double (nullable = true)\n",
      " |    |    |    |-- violence: double (nullable = true)\n",
      " |    |    |    |-- violence/graphic: double (nullable = true)\n",
      " |    |    |    |-- violence_graphic: double (nullable = true)\n",
      " |    |    |-- flagged: boolean (nullable = true)\n",
      " |-- detoxify_moderation: array (nullable = true)\n",
      " |    |-- element: struct (containsNull = true)\n",
      " |    |    |-- identity_attack: double (nullable = true)\n",
      " |    |    |-- insult: double (nullable = true)\n",
      " |    |    |-- obscene: double (nullable = true)\n",
      " |    |    |-- severe_toxicity: double (nullable = true)\n",
      " |    |    |-- sexual_explicit: double (nullable = true)\n",
      " |    |    |-- threat: double (nullable = true)\n",
      " |    |    |-- toxicity: double (nullable = true)\n",
      " |-- toxic: boolean (nullable = true)\n",
      " |-- redacted: boolean (nullable = true)\n",
      " |-- state: string (nullable = true)\n",
      " |-- country: string (nullable = true)\n",
      " |-- hashed_ip: string (nullable = true)\n",
      " |-- header: struct (nullable = true)\n",
      " |    |-- accept-language: string (nullable = true)\n",
      " |    |-- user-agent: string (nullable = true)\n",
      "\n"
     ]
    }
   ],
   "source": [
    "spark_df.printSchema()"
   ]
  },
  {
   "cell_type": "code",
   "execution_count": 25,
   "id": "950e5e6a-340f-49d9-9b96-fd8e72921153",
   "metadata": {},
   "outputs": [],
   "source": [
    "#Dropping columns openai_moderation, detoxify_moderation, and header for cleaner schema.\n",
    "spark_df = spark_df.drop(\"openai_moderation\", \"detoxify_moderation\", \"header\")"
   ]
  },
  {
   "cell_type": "code",
   "execution_count": 27,
   "id": "fa663cec-6873-43f5-895f-19ea8e3fda4f",
   "metadata": {},
   "outputs": [
    {
     "name": "stdout",
     "output_type": "stream",
     "text": [
      "root\n",
      " |-- conversation_hash: string (nullable = true)\n",
      " |-- model: string (nullable = true)\n",
      " |-- timestamp: timestamp (nullable = true)\n",
      " |-- conversation: array (nullable = true)\n",
      " |    |-- element: struct (containsNull = true)\n",
      " |    |    |-- content: string (nullable = true)\n",
      " |    |    |-- country: string (nullable = true)\n",
      " |    |    |-- hashed_ip: string (nullable = true)\n",
      " |    |    |-- header: struct (nullable = true)\n",
      " |    |    |    |-- accept-language: string (nullable = true)\n",
      " |    |    |    |-- user-agent: string (nullable = true)\n",
      " |    |    |-- language: string (nullable = true)\n",
      " |    |    |-- redacted: boolean (nullable = true)\n",
      " |    |    |-- role: string (nullable = true)\n",
      " |    |    |-- state: string (nullable = true)\n",
      " |    |    |-- timestamp: timestamp (nullable = true)\n",
      " |    |    |-- toxic: boolean (nullable = true)\n",
      " |    |    |-- turn_identifier: long (nullable = true)\n",
      " |-- turn: long (nullable = true)\n",
      " |-- language: string (nullable = true)\n",
      " |-- toxic: boolean (nullable = true)\n",
      " |-- redacted: boolean (nullable = true)\n",
      " |-- state: string (nullable = true)\n",
      " |-- country: string (nullable = true)\n",
      " |-- hashed_ip: string (nullable = true)\n",
      "\n"
     ]
    }
   ],
   "source": [
    "spark_df.printSchema()"
   ]
  },
  {
   "cell_type": "code",
   "execution_count": 29,
   "id": "2d2af35e-813d-48ba-a665-8dfc3a25c3a0",
   "metadata": {},
   "outputs": [
    {
     "name": "stdout",
     "output_type": "stream",
     "text": [
      "root\n",
      " |-- conversation: array (nullable = true)\n",
      " |    |-- element: struct (containsNull = true)\n",
      " |    |    |-- content: string (nullable = true)\n",
      " |    |    |-- country: string (nullable = true)\n",
      " |    |    |-- hashed_ip: string (nullable = true)\n",
      " |    |    |-- header: struct (nullable = true)\n",
      " |    |    |    |-- accept-language: string (nullable = true)\n",
      " |    |    |    |-- user-agent: string (nullable = true)\n",
      " |    |    |-- language: string (nullable = true)\n",
      " |    |    |-- redacted: boolean (nullable = true)\n",
      " |    |    |-- role: string (nullable = true)\n",
      " |    |    |-- state: string (nullable = true)\n",
      " |    |    |-- timestamp: timestamp (nullable = true)\n",
      " |    |    |-- toxic: boolean (nullable = true)\n",
      " |    |    |-- turn_identifier: long (nullable = true)\n",
      "\n"
     ]
    }
   ],
   "source": [
    "spark_df.select('conversation').printSchema()"
   ]
  },
  {
   "cell_type": "markdown",
   "id": "63680a0e-1567-4eea-b665-d9edbf3b8850",
   "metadata": {},
   "source": [
    "Schema for Conversation Field is made up of an array of structures, where each structure contains each user - bot interaction. The individual details of each interaction is printed in the schema above: \n",
    " * <b> content </b> contains the prompt / response\n",
    " * <b> role </b> specifies if the content present is generated from the user or by the bot\n",
    " * <b> turn_identifier </b> specifies an identifying value to isolate a specific chat interaction.\n",
    "\n",
    "Exploding the conversation field to seperate the user prompts, bot responses."
   ]
  },
  {
   "cell_type": "code",
   "execution_count": 31,
   "id": "e1682002-d1d7-4f62-8e04-f56a15824e50",
   "metadata": {},
   "outputs": [],
   "source": [
    "main_df = spark_df"
   ]
  },
  {
   "cell_type": "code",
   "execution_count": 33,
   "id": "6a9d54f7-73f0-4c82-8b35-788cda748f58",
   "metadata": {},
   "outputs": [],
   "source": [
    "#Isolating just the content and turn_identifier from each structure.\n",
    "spark_df = spark_df.withColumn('exploded_conversation', F.explode(F.col('conversation'))).withColumn(\"content\", F.col(\"exploded_conversation.content\")).withColumn(\"turn_identifier\",F.col(\"exploded_conversation.turn_identifier\"))\n"
   ]
  },
  {
   "cell_type": "code",
   "execution_count": 35,
   "id": "f61887d4-9317-451c-bed0-4d6bcfb80712",
   "metadata": {},
   "outputs": [
    {
     "name": "stdout",
     "output_type": "stream",
     "text": [
      "+--------------------+----------+-------------------+--------------------+----+--------+-----+--------+--------+-----------+--------------------+---------------------+--------------------+---------------+\n",
      "|   conversation_hash|     model|          timestamp|        conversation|turn|language|toxic|redacted|   state|    country|           hashed_ip|exploded_conversation|             content|turn_identifier|\n",
      "+--------------------+----------+-------------------+--------------------+----+--------+-----+--------+--------+-----------+--------------------+---------------------+--------------------+---------------+\n",
      "|bac147235b8a766c1...|gpt-4-0314|2023-04-08 20:36:45|[{Write a ‘Simple...|   2| English|false|   false|Auckland|New Zealand|0ef4c4d5ec3b79928...| {Write a ‘Simple ...|Write a ‘Simple m...|         101104|\n",
      "|bac147235b8a766c1...|gpt-4-0314|2023-04-08 20:36:45|[{Write a ‘Simple...|   2| English|false|   false|Auckland|New Zealand|0ef4c4d5ec3b79928...| {Arya, I've been ...|Arya, I've been w...|         101104|\n",
      "|bac147235b8a766c1...|gpt-4-0314|2023-04-08 20:36:45|[{Write a ‘Simple...|   2| English|false|   false|Auckland|New Zealand|0ef4c4d5ec3b79928...| {No turn this int...|No turn this into...|         101117|\n",
      "|bac147235b8a766c1...|gpt-4-0314|2023-04-08 20:36:45|[{Write a ‘Simple...|   2| English|false|   false|Auckland|New Zealand|0ef4c4d5ec3b79928...| {Gendry: Arya, I'...|Gendry: Arya, I'v...|         101117|\n",
      "+--------------------+----------+-------------------+--------------------+----+--------+-----+--------+--------+-----------+--------------------+---------------------+--------------------+---------------+\n",
      "\n"
     ]
    }
   ],
   "source": [
    "spark_df.filter(F.col('turn') == 2).limit(4).show()"
   ]
  },
  {
   "cell_type": "code",
   "execution_count": 37,
   "id": "688ba2ed-672b-421f-8d7a-5a07fd20b2e1",
   "metadata": {},
   "outputs": [],
   "source": [
    "spark_df = spark_df.drop(\"exploded_conversation\")"
   ]
  },
  {
   "cell_type": "code",
   "execution_count": 39,
   "id": "b36480f4-ca34-4745-8318-d93c9b894374",
   "metadata": {},
   "outputs": [
    {
     "data": {
      "text/plain": [
       "['conversation_hash',\n",
       " 'model',\n",
       " 'timestamp',\n",
       " 'conversation',\n",
       " 'turn',\n",
       " 'language',\n",
       " 'toxic',\n",
       " 'redacted',\n",
       " 'state',\n",
       " 'country',\n",
       " 'hashed_ip',\n",
       " 'turn_identifier']"
      ]
     },
     "execution_count": 39,
     "metadata": {},
     "output_type": "execute_result"
    }
   ],
   "source": [
    "#Combining prompt and response based on turn_idenfier\n",
    "#Recording the list of columns except for prompt to group rows based on other field values\n",
    "group_cols = [col for col in spark_df.columns if col != 'content']\n",
    "group_cols"
   ]
  },
  {
   "cell_type": "code",
   "execution_count": 41,
   "id": "b0c7b706-f542-49fa-b7b9-27938daad294",
   "metadata": {},
   "outputs": [],
   "source": [
    "spark_df = spark_df.groupBy(group_cols).agg(F.collect_list('content').alias('content'))"
   ]
  },
  {
   "cell_type": "code",
   "execution_count": 43,
   "id": "3533496c-4445-4b3e-88b2-410f7597b979",
   "metadata": {},
   "outputs": [
    {
     "data": {
      "text/plain": [
       "['conversation_hash',\n",
       " 'model',\n",
       " 'timestamp',\n",
       " 'conversation',\n",
       " 'turn',\n",
       " 'language',\n",
       " 'toxic',\n",
       " 'redacted',\n",
       " 'state',\n",
       " 'country',\n",
       " 'hashed_ip']"
      ]
     },
     "execution_count": 43,
     "metadata": {},
     "output_type": "execute_result"
    }
   ],
   "source": [
    "group_cols.remove('turn_identifier')\n",
    "group_cols"
   ]
  },
  {
   "cell_type": "code",
   "execution_count": 45,
   "id": "85a84f7a-cbbb-4a65-9873-01793558ae1e",
   "metadata": {},
   "outputs": [
    {
     "name": "stdout",
     "output_type": "stream",
     "text": [
      "Requirement already satisfied: langid in /opt/anaconda3/lib/python3.12/site-packages (1.1.6)\n",
      "Requirement already satisfied: numpy in /opt/anaconda3/lib/python3.12/site-packages (from langid) (1.26.4)\n",
      "Note: you may need to restart the kernel to use updated packages.\n"
     ]
    }
   ],
   "source": [
    "pip install langid"
   ]
  },
  {
   "cell_type": "code",
   "execution_count": 47,
   "id": "224d1be7-9996-44e7-9c72-5abd3af7bc08",
   "metadata": {},
   "outputs": [],
   "source": [
    "import langid"
   ]
  },
  {
   "cell_type": "code",
   "execution_count": null,
   "id": "5b0fc518-e388-4dd3-8af3-7ea714b51b66",
   "metadata": {},
   "outputs": [],
   "source": [
    "# To save content with just english texts and not anything else check using \n",
    "# import langid \n",
    "# langid.classify(text)\n",
    "# later apply spark filter to filter out interactions that do not belong to English language."
   ]
  },
  {
   "cell_type": "code",
   "execution_count": 49,
   "id": "cedb27fa-687d-4c89-a70e-ae0c8ca05cb6",
   "metadata": {},
   "outputs": [],
   "source": [
    "@F.udf(BooleanType())\n",
    "def languageCheck(list):\n",
    "    if list:\n",
    "        lang, cnfLvl =  langid.classify(list[0])\n",
    "        return lang == 'en'\n",
    "    return False"
   ]
  },
  {
   "cell_type": "code",
   "execution_count": 51,
   "id": "ec276cdd-06ab-4973-a7b3-1c6dc09dab2a",
   "metadata": {
    "scrolled": true
   },
   "outputs": [
    {
     "data": {
      "text/plain": [
       "DataFrame[conversation_hash: string, model: string, timestamp: timestamp, conversation: array<struct<content:string,country:string,hashed_ip:string,header:struct<accept-language:string,user-agent:string>,language:string,redacted:boolean,role:string,state:string,timestamp:timestamp,toxic:boolean,turn_identifier:bigint>>, turn: bigint, language: string, toxic: boolean, redacted: boolean, state: string, country: string, hashed_ip: string, turn_identifier: bigint, content: array<string>]"
      ]
     },
     "execution_count": 51,
     "metadata": {},
     "output_type": "execute_result"
    }
   ],
   "source": [
    "spark_df.persist()"
   ]
  },
  {
   "cell_type": "code",
   "execution_count": 53,
   "id": "3aac4d59-6410-4c7c-98e2-aa2a39a11cd5",
   "metadata": {
    "scrolled": true
   },
   "outputs": [
    {
     "name": "stderr",
     "output_type": "stream",
     "text": [
      "24/11/10 01:02:50 WARN MemoryStore: Not enough space to cache rdd_46_128 in memory! (computed 68.3 MiB so far)\n",
      "24/11/10 01:02:50 WARN BlockManager: Persisting block rdd_46_128 to disk instead.\n",
      "24/11/10 01:02:51 WARN MemoryStore: Not enough space to cache rdd_46_137 in memory! (computed 68.4 MiB so far)\n",
      "24/11/10 01:02:54 WARN BlockManager: Persisting block rdd_46_137 to disk instead.\n",
      "24/11/10 01:02:54 WARN MemoryStore: Not enough space to cache rdd_46_138 in memory! (computed 68.3 MiB so far)\n",
      "24/11/10 01:02:54 WARN BlockManager: Persisting block rdd_46_138 to disk instead.\n",
      "24/11/10 01:02:55 WARN MemoryStore: Not enough space to cache rdd_46_143 in memory! (computed 68.7 MiB so far)\n",
      "24/11/10 01:02:55 WARN BlockManager: Persisting block rdd_46_143 to disk instead.\n",
      "24/11/10 01:02:55 WARN MemoryStore: Not enough space to cache rdd_46_141 in memory! (computed 68.4 MiB so far)\n",
      "24/11/10 01:02:55 WARN BlockManager: Persisting block rdd_46_141 to disk instead.\n",
      "24/11/10 01:02:55 WARN MemoryStore: Not enough space to cache rdd_46_142 in memory! (computed 68.4 MiB so far)\n",
      "24/11/10 01:02:55 WARN BlockManager: Persisting block rdd_46_142 to disk instead.\n",
      "24/11/10 01:02:55 WARN MemoryStore: Not enough space to cache rdd_46_145 in memory! (computed 68.5 MiB so far)\n",
      "24/11/10 01:02:55 WARN MemoryStore: Not enough space to cache rdd_46_140 in memory! (computed 68.2 MiB so far)\n",
      "24/11/10 01:02:55 WARN MemoryStore: Not enough space to cache rdd_46_146 in memory! (computed 68.3 MiB so far)\n",
      "24/11/10 01:02:55 WARN BlockManager: Persisting block rdd_46_146 to disk instead.\n",
      "24/11/10 01:02:55 WARN BlockManager: Persisting block rdd_46_145 to disk instead.\n",
      "24/11/10 01:02:55 WARN BlockManager: Persisting block rdd_46_140 to disk instead.\n",
      "24/11/10 01:03:01 WARN MemoryStore: Not enough space to cache rdd_46_151 in memory! (computed 68.4 MiB so far)\n",
      "24/11/10 01:03:04 WARN BlockManager: Persisting block rdd_46_151 to disk instead.\n",
      "24/11/10 01:03:05 WARN MemoryStore: Not enough space to cache rdd_46_152 in memory! (computed 68.2 MiB so far)\n",
      "24/11/10 01:03:05 WARN BlockManager: Persisting block rdd_46_152 to disk instead.\n",
      "24/11/10 01:03:05 WARN MemoryStore: Not enough space to cache rdd_46_154 in memory! (computed 68.4 MiB so far)\n",
      "24/11/10 01:03:05 WARN BlockManager: Persisting block rdd_46_154 to disk instead.\n",
      "24/11/10 01:03:05 WARN MemoryStore: Not enough space to cache rdd_46_153 in memory! (computed 68.7 MiB so far)\n",
      "24/11/10 01:03:05 WARN BlockManager: Persisting block rdd_46_153 to disk instead.\n",
      "24/11/10 01:03:20 WARN MemoryStore: Not enough space to cache rdd_46_168 in memory! (computed 68.6 MiB so far)\n",
      "24/11/10 01:03:20 WARN BlockManager: Persisting block rdd_46_168 to disk instead.\n",
      "24/11/10 01:03:20 WARN MemoryStore: Not enough space to cache rdd_46_163 in memory! (computed 4.0 MiB so far)\n",
      "24/11/10 01:03:20 WARN MemoryStore: Not enough space to cache rdd_46_166 in memory! (computed 4.0 MiB so far)\n",
      "24/11/10 01:03:20 WARN BlockManager: Persisting block rdd_46_163 to disk instead.\n",
      "24/11/10 01:03:20 WARN MemoryStore: Not enough space to cache rdd_46_162 in memory! (computed 4.0 MiB so far)\n",
      "24/11/10 01:03:20 WARN BlockManager: Persisting block rdd_46_162 to disk instead.\n",
      "24/11/10 01:03:20 WARN BlockManager: Persisting block rdd_46_166 to disk instead.\n",
      "24/11/10 01:03:21 WARN MemoryStore: Not enough space to cache rdd_46_170 in memory! (computed 68.9 MiB so far)\n",
      "24/11/10 01:03:21 WARN BlockManager: Persisting block rdd_46_170 to disk instead.\n",
      "24/11/10 01:03:21 WARN MemoryStore: Not enough space to cache rdd_46_165 in memory! (computed 68.2 MiB so far)\n",
      "24/11/10 01:03:21 WARN BlockManager: Persisting block rdd_46_165 to disk instead.\n",
      "24/11/10 01:03:21 WARN MemoryStore: Not enough space to cache rdd_46_167 in memory! (computed 68.2 MiB so far)\n",
      "24/11/10 01:03:21 WARN BlockManager: Persisting block rdd_46_167 to disk instead.\n",
      "24/11/10 01:03:21 WARN MemoryStore: Not enough space to cache rdd_46_169 in memory! (computed 68.6 MiB so far)\n",
      "24/11/10 01:03:21 WARN BlockManager: Persisting block rdd_46_169 to disk instead.\n",
      "24/11/10 01:03:25 WARN MemoryStore: Not enough space to cache rdd_46_172 in memory! (computed 68.1 MiB so far)\n",
      "24/11/10 01:03:26 WARN MemoryStore: Not enough space to cache rdd_46_174 in memory! (computed 68.6 MiB so far)\n",
      "24/11/10 01:03:26 WARN BlockManager: Persisting block rdd_46_172 to disk instead.\n",
      "24/11/10 01:03:26 WARN BlockManager: Persisting block rdd_46_174 to disk instead.\n",
      "24/11/10 01:03:27 WARN MemoryStore: Not enough space to cache rdd_46_164 in memory! (computed 68.6 MiB so far)\n",
      "24/11/10 01:03:27 WARN BlockManager: Persisting block rdd_46_164 to disk instead.\n",
      "24/11/10 01:03:27 WARN MemoryStore: Not enough space to cache rdd_46_173 in memory! (computed 68.3 MiB so far)\n",
      "24/11/10 01:03:27 WARN MemoryStore: Not enough space to cache rdd_46_175 in memory! (computed 68.7 MiB so far)\n",
      "24/11/10 01:03:27 WARN BlockManager: Persisting block rdd_46_173 to disk instead.\n",
      "24/11/10 01:03:27 WARN BlockManager: Persisting block rdd_46_175 to disk instead.\n",
      "24/11/10 01:03:38 WARN MemoryStore: Not enough space to cache rdd_46_183 in memory! (computed 4.0 MiB so far)\n",
      "24/11/10 01:03:38 WARN MemoryStore: Not enough space to cache rdd_46_191 in memory! (computed 4.0 MiB so far)\n",
      "24/11/10 01:03:38 WARN BlockManager: Persisting block rdd_46_183 to disk instead.\n",
      "24/11/10 01:03:38 WARN BlockManager: Persisting block rdd_46_191 to disk instead.\n",
      "24/11/10 01:03:38 WARN MemoryStore: Not enough space to cache rdd_46_189 in memory! (computed 4.0 MiB so far)\n",
      "24/11/10 01:03:38 WARN BlockManager: Persisting block rdd_46_189 to disk instead.\n",
      "24/11/10 01:03:46 WARN MemoryStore: Not enough space to cache rdd_46_192 in memory! (computed 68.2 MiB so far)\n",
      "24/11/10 01:03:46 WARN BlockManager: Persisting block rdd_46_192 to disk instead.\n",
      "24/11/10 01:03:47 WARN MemoryStore: Not enough space to cache rdd_46_194 in memory! (computed 68.1 MiB so far)\n",
      "24/11/10 01:03:47 WARN BlockManager: Persisting block rdd_46_194 to disk instead.\n",
      "24/11/10 01:03:47 WARN MemoryStore: Not enough space to cache rdd_46_199 in memory! (computed 68.1 MiB so far)\n",
      "24/11/10 01:03:47 WARN BlockManager: Persisting block rdd_46_199 to disk instead.\n",
      "24/11/10 01:03:47 WARN MemoryStore: Not enough space to cache rdd_46_192 in memory! (computed 68.2 MiB so far)\n",
      "24/11/10 01:03:57 WARN MemoryStore: Not enough space to cache rdd_46_12 in memory! (computed 68.6 MiB so far)\n",
      "24/11/10 01:03:57 WARN MemoryStore: Not enough space to cache rdd_46_13 in memory! (computed 68.0 MiB so far)\n",
      "24/11/10 01:03:59 WARN MemoryStore: Not enough space to cache rdd_46_15 in memory! (computed 68.2 MiB so far)\n",
      "24/11/10 01:04:01 WARN MemoryStore: Not enough space to cache rdd_46_16 in memory! (computed 68.1 MiB so far)\n",
      "24/11/10 01:04:02 WARN MemoryStore: Not enough space to cache rdd_46_17 in memory! (computed 68.1 MiB so far)\n",
      "24/11/10 01:04:05 WARN MemoryStore: Not enough space to cache rdd_46_18 in memory! (computed 68.4 MiB so far)\n",
      "24/11/10 01:04:05 WARN MemoryStore: Not enough space to cache rdd_46_19 in memory! (computed 68.7 MiB so far)\n",
      "24/11/10 01:04:06 WARN MemoryStore: Not enough space to cache rdd_46_20 in memory! (computed 68.8 MiB so far)\n",
      "24/11/10 01:04:10 WARN MemoryStore: Not enough space to cache rdd_46_26 in memory! (computed 68.2 MiB so far)\n",
      "24/11/10 01:04:16 WARN MemoryStore: Not enough space to cache rdd_46_31 in memory! (computed 68.5 MiB so far)\n",
      "24/11/10 01:04:16 WARN MemoryStore: Not enough space to cache rdd_46_30 in memory! (computed 68.3 MiB so far)\n",
      "24/11/10 01:04:16 WARN MemoryStore: Not enough space to cache rdd_46_29 in memory! (computed 68.4 MiB so far)\n",
      "24/11/10 01:04:16 WARN MemoryStore: Not enough space to cache rdd_46_33 in memory! (computed 68.3 MiB so far)\n",
      "24/11/10 01:04:16 WARN MemoryStore: Not enough space to cache rdd_46_32 in memory! (computed 68.4 MiB so far)\n",
      "24/11/10 01:04:20 WARN MemoryStore: Not enough space to cache rdd_46_34 in memory! (computed 68.2 MiB so far)\n",
      "24/11/10 01:04:23 WARN MemoryStore: Not enough space to cache rdd_46_39 in memory! (computed 68.4 MiB so far)\n",
      "24/11/10 01:04:25 WARN MemoryStore: Not enough space to cache rdd_46_42 in memory! (computed 68.1 MiB so far)\n",
      "24/11/10 01:04:26 WARN MemoryStore: Not enough space to cache rdd_46_44 in memory! (computed 68.3 MiB so far)\n",
      "24/11/10 01:04:26 WARN MemoryStore: Not enough space to cache rdd_46_43 in memory! (computed 68.6 MiB so far)\n",
      "24/11/10 01:04:28 WARN MemoryStore: Not enough space to cache rdd_46_45 in memory! (computed 68.9 MiB so far)\n",
      "24/11/10 01:04:30 WARN MemoryStore: Not enough space to cache rdd_46_47 in memory! (computed 68.8 MiB so far)\n",
      "24/11/10 01:04:30 WARN MemoryStore: Not enough space to cache rdd_46_48 in memory! (computed 68.2 MiB so far)\n",
      "24/11/10 01:04:33 WARN MemoryStore: Not enough space to cache rdd_46_51 in memory! (computed 68.1 MiB so far)\n",
      "24/11/10 01:04:35 WARN MemoryStore: Not enough space to cache rdd_46_53 in memory! (computed 68.3 MiB so far)\n",
      "24/11/10 01:04:37 WARN MemoryStore: Not enough space to cache rdd_46_54 in memory! (computed 68.5 MiB so far)\n",
      "24/11/10 01:04:38 WARN MemoryStore: Not enough space to cache rdd_46_57 in memory! (computed 68.5 MiB so far)\n",
      "24/11/10 01:04:38 WARN MemoryStore: Not enough space to cache rdd_46_56 in memory! (computed 68.1 MiB so far)\n",
      "24/11/10 01:04:42 WARN MemoryStore: Not enough space to cache rdd_46_59 in memory! (computed 68.1 MiB so far)\n",
      "24/11/10 01:04:42 WARN MemoryStore: Not enough space to cache rdd_46_60 in memory! (computed 68.9 MiB so far)\n",
      "24/11/10 01:04:48 WARN MemoryStore: Not enough space to cache rdd_46_66 in memory! (computed 68.9 MiB so far)\n",
      "24/11/10 01:04:50 WARN MemoryStore: Not enough space to cache rdd_46_69 in memory! (computed 68.2 MiB so far)\n",
      "24/11/10 01:04:50 WARN MemoryStore: Not enough space to cache rdd_46_68 in memory! (computed 68.3 MiB so far)\n",
      "24/11/10 01:04:54 WARN MemoryStore: Not enough space to cache rdd_46_72 in memory! (computed 68.2 MiB so far)\n",
      "24/11/10 01:04:55 WARN MemoryStore: Not enough space to cache rdd_46_73 in memory! (computed 68.9 MiB so far)\n",
      "24/11/10 01:04:55 WARN MemoryStore: Not enough space to cache rdd_46_74 in memory! (computed 68.3 MiB so far)\n",
      "24/11/10 01:04:57 WARN MemoryStore: Not enough space to cache rdd_46_77 in memory! (computed 68.3 MiB so far)\n",
      "24/11/10 01:04:57 WARN MemoryStore: Not enough space to cache rdd_46_78 in memory! (computed 68.6 MiB so far)\n",
      "24/11/10 01:04:58 WARN MemoryStore: Not enough space to cache rdd_46_79 in memory! (computed 68.5 MiB so far)\n",
      "24/11/10 01:04:59 WARN MemoryStore: Not enough space to cache rdd_46_80 in memory! (computed 68.1 MiB so far)\n",
      "24/11/10 01:05:01 WARN MemoryStore: Not enough space to cache rdd_46_82 in memory! (computed 68.4 MiB so far)\n",
      "24/11/10 01:05:03 WARN MemoryStore: Not enough space to cache rdd_46_84 in memory! (computed 68.4 MiB so far)\n",
      "24/11/10 01:05:04 WARN MemoryStore: Not enough space to cache rdd_46_86 in memory! (computed 69.3 MiB so far)\n",
      "24/11/10 01:05:05 WARN MemoryStore: Not enough space to cache rdd_46_87 in memory! (computed 68.5 MiB so far)\n",
      "24/11/10 01:05:07 WARN MemoryStore: Not enough space to cache rdd_46_90 in memory! (computed 68.4 MiB so far)\n",
      "24/11/10 01:05:07 WARN MemoryStore: Not enough space to cache rdd_46_91 in memory! (computed 68.5 MiB so far)\n",
      "24/11/10 01:06:18 WARN MemoryStore: Not enough space to cache rdd_46_192 in memory! (computed 68.2 MiB so far)\n",
      "                                                                                \r"
     ]
    },
    {
     "data": {
      "text/plain": [
       "924611"
      ]
     },
     "execution_count": 53,
     "metadata": {},
     "output_type": "execute_result"
    }
   ],
   "source": [
    "spark_df.filter(languageCheck(F.col('content')) == True).count()"
   ]
  },
  {
   "cell_type": "code",
   "execution_count": 55,
   "id": "0b1c757a-95ff-4333-857d-a969e079801a",
   "metadata": {},
   "outputs": [],
   "source": [
    "spark_df = spark_df.filter(languageCheck(F.col('content')) == True)"
   ]
  },
  {
   "cell_type": "code",
   "execution_count": 57,
   "id": "0ec0ac14-0a10-47c0-b59a-d49130d5ea8f",
   "metadata": {},
   "outputs": [],
   "source": [
    "#Combining interactions from single user\n",
    "#Removing turn_identifier from group_cols to combine user interactions in prompt field and save turn identifiers.\n",
    "spark_df = spark_df.groupBy(group_cols).agg(F.collect_list('content').alias('content'), F.collect_list('turn_identifier').alias('turn_identifier'))\n"
   ]
  },
  {
   "cell_type": "code",
   "execution_count": 59,
   "id": "47302ad4-6523-447f-acc7-0ed2d3a7f6ba",
   "metadata": {},
   "outputs": [],
   "source": [
    "#Defining user-defined Function to isolate user prompt\n",
    "@F.udf(ArrayType(StringType()))\n",
    "def get_user_prompt(list):\n",
    "    if list:\n",
    "        return [prompt for turn,conversation in enumerate(list) for interaction_turn, prompt in enumerate(conversation) if interaction_turn == 0]\n",
    "    return []"
   ]
  },
  {
   "cell_type": "code",
   "execution_count": 61,
   "id": "8468cdc7-c5fb-4853-a330-af4bfd0ee163",
   "metadata": {},
   "outputs": [],
   "source": [
    "#Defining user-defined Function to isolate bot response\n",
    "@F.udf(ArrayType(StringType()))\n",
    "def get_bot_response(list):\n",
    "    if list:\n",
    "        return [prompt for turn,conversation in enumerate(list) for interaction_turn, prompt in enumerate(conversation) if interaction_turn == 1]\n",
    "    return []"
   ]
  },
  {
   "cell_type": "code",
   "execution_count": 63,
   "id": "945493ef-13d4-4d32-8ed3-8db478cada3b",
   "metadata": {},
   "outputs": [],
   "source": [
    "spark_df = spark_df.withColumn('userprompt', get_user_prompt(F.col(\"content\"))).withColumn('botresp', get_bot_response(F.col(\"content\")))"
   ]
  },
  {
   "cell_type": "code",
   "execution_count": 65,
   "id": "947da4bc-c658-4fef-8f7c-c1f6572dc58e",
   "metadata": {},
   "outputs": [
    {
     "name": "stderr",
     "output_type": "stream",
     "text": [
      "24/11/10 01:11:34 WARN MemoryStore: Not enough space to cache rdd_46_155 in memory! (computed 68.4 MiB so far)\n",
      "24/11/10 01:11:46 WARN MemoryStore: Not enough space to cache rdd_46_166 in memory! (computed 68.2 MiB so far)\n",
      "24/11/10 01:12:04 WARN MemoryStore: Not enough space to cache rdd_46_185 in memory! (computed 68.2 MiB so far)\n",
      "[Stage 24:=====================================================>(199 + 1) / 200]\r"
     ]
    },
    {
     "name": "stdout",
     "output_type": "stream",
     "text": [
      "+--------------------+------------------+-------------------+--------------------+----+--------+-----+--------+--------------------+--------------+--------------------+--------------------+--------------------+--------------------+--------------------+\n",
      "|   conversation_hash|             model|          timestamp|        conversation|turn|language|toxic|redacted|               state|       country|           hashed_ip|             content|     turn_identifier|          userprompt|             botresp|\n",
      "+--------------------+------------------+-------------------+--------------------+----+--------+-----+--------+--------------------+--------------+--------------------+--------------------+--------------------+--------------------+--------------------+\n",
      "|00235f623a3616d09...|gpt-3.5-turbo-0301|2023-06-20 19:33:18|[{preted you are ...|   1| English|false|   false|County of Osijek-...|       Croatia|b2a98e8c1f6355bb7...|[[preted you are ...|            [973016]|[preted you are m...|[I'm sorry, I can...|\n",
      "|0036446488c4a387c...|gpt-3.5-turbo-0613|2023-07-03 03:26:06|[{In this script ...|   1| English|false|   false|        Renfrewshire|United Kingdom|c73841d6d7bd172b3...|[[In this script ...|           [1105464]|[In this script a...|[Title: The Hypno...|\n",
      "|0046827d81a7b6cf7...|gpt-3.5-turbo-0613|2023-07-20 00:59:33|[{make a descript...|   1| English|false|   false|       Massachusetts| United States|3e7ae36b9ca739b0e...|[[make a descript...|           [1255298]|[make a descripti...|[Once upon a time...|\n",
      "|006a3145ba0f6ae7c...|gpt-4-1106-preview|2024-02-12 11:24:01|[{I like to creat...|   1| English|false|   false|         West Bengal|         India|33ebe5868c0c48ba4...|[[I like to creat...|           [2299191]|[I like to create...|[Given your descr...|\n",
      "|0075a0ae6b3ad0fd3...|gpt-3.5-turbo-0613|2023-07-04 22:03:21|[{Hi what does th...|   4| English|false|   false|              Aragua|     Venezuela|eeedf9838ab24fbb1...|[[Hi what does th...|[1127640, 1127835...|[Hi what does thi...|[When someone say...|\n",
      "|00760b4b943f374df...|gpt-4-1106-preview|2024-02-16 19:00:21|[{Random nintendo...|   1| English|false|   false|                NULL| United States|5386487dfc7f9ff25...|[[Random nintendo...|           [2316455]|[Random nintendo ...|    [Nintendo Yoshi]|\n",
      "|007922b94a0ab83bc...|gpt-3.5-turbo-0613|2023-11-14 11:41:10|[{blog post headl...|   9| English|false|   false|      North Carolina| United States|7159a234cedfaaf46...|[[please provide ...|[1820928, 1820992...|[please provide m...|[Step-by-Step Gui...|\n",
      "|0093dfb4c12fece13...|gpt-3.5-turbo-0613|2023-07-10 22:54:56|[{Here are the pi...|   3| English|false|   false|  Kaliningrad Oblast|        Russia|7b324efbd46690222...|[[And now for the...|[1197413, 1197334...|[And now for the ...|[To create a drum...|\n",
      "|009e825db86453f4f...|gpt-3.5-turbo-0125|2024-04-25 10:32:04|[{\\n             ...|   1| English|false|   false|             Tianjin|         China|dc56fb137093e5e35...|[[\\n             ...|           [2783784]|[\\n              ...|[/imagine prompt:...|\n",
      "|00a2b6ce75a771ff1...|gpt-4-0125-preview|2024-04-02 18:02:04|[{Generate an ets...|   1| English|false|   false|                NULL| United States|a9af025581a94a747...|[[Generate an ets...|           [2616797]|[Generate an etsy...|[\"Sparse Blossom ...|\n",
      "|00c26488bd78ff277...|gpt-4-0125-preview|2024-04-28 16:19:30|[{write me an ess...|   2| English|false|   false|    Eastern Province|  Saudi Arabia|5c2e4c265c90db6c0...|[[write me an ess...|  [2803812, 2803816]|[write me an essa...|[Title: My Best F...|\n",
      "|00d2a918346b45810...|gpt-3.5-turbo-0613|2023-08-17 12:22:05|[{Please write me...|   1| English|false|   false|             Gauteng|  South Africa|10b752a7553185ae3...|[[Please write me...|           [1396619]|[Please write me ...|[(Verse 1)\\nIn th...|\n",
      "|00d863511c13fa12e...|gpt-3.5-turbo-0613|2023-12-21 13:37:32|[{what if Naruto ...|   1| English|false|   false|              Moscow|        Russia|15b92a9d7b6b20ecb...|[[what if Naruto ...|           [2109257]|[what if Naruto n...|[If Naruto had ne...|\n",
      "|00d914e25ad46ab73...|gpt-3.5-turbo-0613|2023-09-03 15:56:14|[{I want you to d...|   1| English|false|   false|                NULL|     Singapore|08fedbfc4870ded05...|[[I want you to d...|           [1482758]|[I want you to de...|[Course Title: De...|\n",
      "|00da3acc0a43cfe48...|gpt-4-1106-preview|2023-12-31 12:08:33|[{hi, Egypt, d154...|   5| English|false|   false|   Cairo Governorate|         Egypt|d154d10238f5e8ef3...|[[can you apply t...|[2150979, 2150959...|[can you apply th...|[Certainly! Pleas...|\n",
      "|00ddd309c572400af...|gpt-3.5-turbo-0613|2023-11-26 09:00:46|[{how to write a ...|   4| English|false|   false|              Muscat|          Oman|3290943d9732a55a8...|[[difference betw...|[1910648, 1910422...|[difference betwe...|[Adverbs and adve...|\n",
      "|00e5abbd3a0c90a85...|        gpt-4-0314|2023-05-19 11:35:51|[{I need to apply...|   1| English|false|   false|             Florida| United States|a510f9bfc99301aa3...|[[I need to apply...|            [546272]|[I need to apply ...|[1) The FN FAL (F...|\n",
      "|00fdbc181240e98c3...|gpt-3.5-turbo-0613|2023-07-01 07:26:36|[{write a 2015 nb...|   1| English|false|   false|  Province of Cavite|   Philippines|21433421e430e6fac...|[[write a 2015 nb...|           [1087710]|[write a 2015 nba...|[The 2015 NBA sea...|\n",
      "|01126b39b49e215d0...|gpt-3.5-turbo-0613|2023-07-10 19:43:22|[{freedom planet ...|   1| English|false|   false|      Krasnodar Krai|        Russia|eff47ec1304940a49...|[[freedom planet ...|           [1196181]|[freedom planet C...|[As the steam fil...|\n",
      "|012a12a6a553925a5...|gpt-3.5-turbo-0613|2023-07-17 15:35:18|[{Who is chiaki n...|   6| English|false|   false|   Cairo Governorate|         Egypt|04cfc83c6c93fbf6c...|[[Describe her fi...|[1239745, 1239757...|[Describe her fig...|[Chiaki Nanami is...|\n",
      "+--------------------+------------------+-------------------+--------------------+----+--------+-----+--------+--------------------+--------------+--------------------+--------------------+--------------------+--------------------+--------------------+\n",
      "only showing top 20 rows\n",
      "\n"
     ]
    },
    {
     "name": "stderr",
     "output_type": "stream",
     "text": [
      "                                                                                \r"
     ]
    }
   ],
   "source": [
    "spark_df.show()"
   ]
  },
  {
   "cell_type": "code",
   "execution_count": 67,
   "id": "ea4943f5-6d1d-4faa-a52b-aa4f8e91d6f0",
   "metadata": {},
   "outputs": [
    {
     "name": "stderr",
     "output_type": "stream",
     "text": [
      "24/11/10 01:14:21 WARN MemoryStore: Not enough space to cache rdd_46_57 in memory! (computed 68.5 MiB so far)\n",
      "24/11/10 01:14:27 WARN MemoryStore: Not enough space to cache rdd_46_64 in memory! (computed 68.6 MiB so far)\n",
      "24/11/10 01:15:08 WARN MemoryStore: Not enough space to cache rdd_46_102 in memory! (computed 68.1 MiB so far)\n",
      "24/11/10 01:15:23 WARN MemoryStore: Not enough space to cache rdd_46_115 in memory! (computed 68.2 MiB so far)\n",
      "24/11/10 01:15:29 WARN MemoryStore: Not enough space to cache rdd_46_121 in memory! (computed 68.3 MiB so far)\n",
      "24/11/10 01:15:35 WARN MemoryStore: Not enough space to cache rdd_46_127 in memory! (computed 68.1 MiB so far)\n",
      "24/11/10 01:15:47 WARN MemoryStore: Not enough space to cache rdd_46_135 in memory! (computed 68.2 MiB so far)\n",
      "24/11/10 01:15:55 WARN MemoryStore: Not enough space to cache rdd_46_141 in memory! (computed 68.4 MiB so far)\n",
      "24/11/10 01:16:26 WARN MemoryStore: Not enough space to cache rdd_46_167 in memory! (computed 68.2 MiB so far)\n",
      "24/11/10 01:16:39 WARN MemoryStore: Not enough space to cache rdd_46_179 in memory! (computed 68.2 MiB so far)\n",
      "                                                                                \r"
     ]
    },
    {
     "data": {
      "text/plain": [
       "454931"
      ]
     },
     "execution_count": 67,
     "metadata": {},
     "output_type": "execute_result"
    }
   ],
   "source": [
    "spark_df.count()"
   ]
  },
  {
   "cell_type": "code",
   "execution_count": 69,
   "id": "66aa3111-9932-4069-98b3-ae8c006109e6",
   "metadata": {
    "scrolled": true
   },
   "outputs": [
    {
     "name": "stdout",
     "output_type": "stream",
     "text": [
      "root\n",
      " |-- conversation_hash: string (nullable = true)\n",
      " |-- model: string (nullable = true)\n",
      " |-- timestamp: timestamp (nullable = true)\n",
      " |-- conversation: array (nullable = true)\n",
      " |    |-- element: struct (containsNull = true)\n",
      " |    |    |-- content: string (nullable = true)\n",
      " |    |    |-- country: string (nullable = true)\n",
      " |    |    |-- hashed_ip: string (nullable = true)\n",
      " |    |    |-- header: struct (nullable = true)\n",
      " |    |    |    |-- accept-language: string (nullable = true)\n",
      " |    |    |    |-- user-agent: string (nullable = true)\n",
      " |    |    |-- language: string (nullable = true)\n",
      " |    |    |-- redacted: boolean (nullable = true)\n",
      " |    |    |-- role: string (nullable = true)\n",
      " |    |    |-- state: string (nullable = true)\n",
      " |    |    |-- timestamp: timestamp (nullable = true)\n",
      " |    |    |-- toxic: boolean (nullable = true)\n",
      " |    |    |-- turn_identifier: long (nullable = true)\n",
      " |-- turn: long (nullable = true)\n",
      " |-- language: string (nullable = true)\n",
      " |-- toxic: boolean (nullable = true)\n",
      " |-- redacted: boolean (nullable = true)\n",
      " |-- state: string (nullable = true)\n",
      " |-- country: string (nullable = true)\n",
      " |-- hashed_ip: string (nullable = true)\n",
      " |-- content: array (nullable = false)\n",
      " |    |-- element: array (containsNull = false)\n",
      " |    |    |-- element: string (containsNull = false)\n",
      " |-- turn_identifier: array (nullable = false)\n",
      " |    |-- element: long (containsNull = false)\n",
      " |-- userprompt: array (nullable = true)\n",
      " |    |-- element: string (containsNull = true)\n",
      " |-- botresp: array (nullable = true)\n",
      " |    |-- element: string (containsNull = true)\n",
      "\n"
     ]
    }
   ],
   "source": [
    "spark_df.printSchema()"
   ]
  },
  {
   "cell_type": "code",
   "execution_count": 71,
   "id": "7bc695b8-eb91-4614-92eb-111df8a11598",
   "metadata": {},
   "outputs": [],
   "source": [
    "#There are about 454931 records where all user prompts are majorly in English."
   ]
  },
  {
   "cell_type": "code",
   "execution_count": 73,
   "id": "2cfab0ec-ca86-45b6-944c-7b7d7942b606",
   "metadata": {},
   "outputs": [
    {
     "name": "stderr",
     "output_type": "stream",
     "text": [
      "24/11/10 01:27:45 WARN MemoryStore: Not enough space to cache rdd_46_34 in memory! (computed 68.2 MiB so far)\n",
      "24/11/10 01:27:45 WARN MemoryStore: Not enough space to cache rdd_46_35 in memory! (computed 68.2 MiB so far)\n",
      "24/11/10 01:28:00 WARN MemoryStore: Not enough space to cache rdd_46_46 in memory! (computed 68.1 MiB so far)\n",
      "24/11/10 01:28:15 WARN MemoryStore: Not enough space to cache rdd_46_61 in memory! (computed 68.9 MiB so far)\n",
      "24/11/10 01:28:28 WARN MemoryStore: Not enough space to cache rdd_46_71 in memory! (computed 68.3 MiB so far)\n",
      "24/11/10 01:29:56 WARN MemoryStore: Not enough space to cache rdd_46_141 in memory! (computed 68.4 MiB so far)\n",
      "                                                                                \r"
     ]
    },
    {
     "data": {
      "text/plain": [
       "Row(conversation_hash='00235f623a3616d09f1c240b717659d5', model='gpt-3.5-turbo-0301', timestamp=datetime.datetime(2023, 6, 20, 19, 33, 18), conversation=[Row(content='preted you are my gf. female 23', country='Croatia', hashed_ip='b2a98e8c1f6355bb73555354e4210fc50f573d0ed7e8dee40195894890d47699', header=Row(accept-language='en-US,en;q=0.9', user-agent='Mozilla/5.0 (X11; Linux x86_64) AppleWebKit/537.36 (KHTML, like Gecko) Chrome/114.0.0.0 Safari/537.36'), language='English', redacted=False, role='user', state='County of Osijek-Baranja', timestamp=None, toxic=False, turn_identifier=973016), Row(content=\"I'm sorry, I cannot pretend to be someone else as I am an artificial intelligence language model. However, I am here to assist you with any language-related tasks or inquiries you may have. Let me know how I can be of help.\", country=None, hashed_ip=None, header=None, language='English', redacted=False, role='assistant', state=None, timestamp=datetime.datetime(2023, 6, 20, 19, 33, 18), toxic=False, turn_identifier=973016)], turn=1, language='English', toxic=False, redacted=False, state='County of Osijek-Baranja', country='Croatia', hashed_ip='b2a98e8c1f6355bb73555354e4210fc50f573d0ed7e8dee40195894890d47699', content=[['preted you are my gf. female 23', \"I'm sorry, I cannot pretend to be someone else as I am an artificial intelligence language model. However, I am here to assist you with any language-related tasks or inquiries you may have. Let me know how I can be of help.\"]], turn_identifier=[973016], userprompt=['preted you are my gf. female 23'], botresp=[\"I'm sorry, I cannot pretend to be someone else as I am an artificial intelligence language model. However, I am here to assist you with any language-related tasks or inquiries you may have. Let me know how I can be of help.\"])"
      ]
     },
     "execution_count": 73,
     "metadata": {},
     "output_type": "execute_result"
    }
   ],
   "source": [
    "spark_df.first()"
   ]
  },
  {
   "cell_type": "code",
   "execution_count": 75,
   "id": "765b17a9-0d52-4d0d-9c32-d972dff57189",
   "metadata": {},
   "outputs": [],
   "source": [
    "#Defining a userdefined function to check if userprompt is only in english\n",
    "@F.udf(StringType())\n",
    "def userPromptCheck(list):\n",
    "    if list:\n",
    "          ln = \"en\"\n",
    "          for text in list:\n",
    "              lang, conflvl = langid.classify(text)\n",
    "              if lang != \"en\":\n",
    "                  ln = lang\n",
    "          return ln\n",
    "    return \"na\""
   ]
  },
  {
   "cell_type": "code",
   "execution_count": 77,
   "id": "8d27fc43-8427-45e6-8f59-3c2f35ff3f15",
   "metadata": {},
   "outputs": [
    {
     "name": "stderr",
     "output_type": "stream",
     "text": [
      "24/11/10 01:51:24 WARN MemoryStore: Not enough space to cache rdd_46_81 in memory! (computed 68.6 MiB so far)\n",
      "24/11/10 01:51:43 WARN MemoryStore: Not enough space to cache rdd_46_96 in memory! (computed 68.6 MiB so far)\n",
      "24/11/10 01:52:16 WARN MemoryStore: Not enough space to cache rdd_46_125 in memory! (computed 68.4 MiB so far)\n",
      "24/11/10 01:52:51 WARN MemoryStore: Not enough space to cache rdd_46_155 in memory! (computed 68.4 MiB so far)\n",
      "                                                                                \r"
     ]
    },
    {
     "data": {
      "text/plain": [
       "[Row(promptLanguage='en')]"
      ]
     },
     "execution_count": 77,
     "metadata": {},
     "output_type": "execute_result"
    }
   ],
   "source": [
    "spark_df.withColumn('promptLanguage', userPromptCheck(F.col('userprompt'))).select('promptLanguage').distinct().collect()"
   ]
  },
  {
   "cell_type": "code",
   "execution_count": 83,
   "id": "3722b0a3-e094-4c68-96e4-ff7c1bfc19df",
   "metadata": {},
   "outputs": [],
   "source": [
    "#There are just english prompts in the dataset and they are about 454,931 records."
   ]
  },
  {
   "cell_type": "code",
   "execution_count": 81,
   "id": "91a34b6b-2ded-432d-bc6e-cab0718bced6",
   "metadata": {},
   "outputs": [],
   "source": [
    "#Now that the dataset is updated to match the requirements, the user prompts and bot responses will be processed further to reduce their \n",
    "#length and feed them as input to NLP models."
   ]
  },
  {
   "cell_type": "code",
   "execution_count": 159,
   "id": "0dfd70d8-266e-4e5b-898d-034e243aa9b4",
   "metadata": {},
   "outputs": [],
   "source": [
    "import nltk\n",
    "from nltk.corpus import stopwords"
   ]
  },
  {
   "cell_type": "code",
   "execution_count": 161,
   "id": "e5ca219d-5bad-41c9-bca1-90a2798df912",
   "metadata": {},
   "outputs": [],
   "source": [
    "from nltk.corpus import stopwords # importing to remove all stop words that are not significant from user prompt and bot responses \n",
    "import re   # Import regular expressions "
   ]
  },
  {
   "cell_type": "code",
   "execution_count": 167,
   "id": "532e8d4a-9b58-4104-8dfa-aa2f30cfae4d",
   "metadata": {},
   "outputs": [],
   "source": [
    "stop_words  = stopwords.words('english')\n",
    "\n",
    "@F.udf(ArrayType(StringType()))\n",
    "def preprocess(content):\n",
    "    if content: \n",
    "        updated_content = []\n",
    "        for text in content :\n",
    "            text = text.lower() #setting entire text to lower case\n",
    "            text = re.sub(r'\\s{2}+', '', text).strip() #removing white spaces\n",
    "            text = re.sub(r'[^A-Za-z0-9\\s$#@?.]', '', text) #removing any other speacial characters other than ones in the square bracket\n",
    "            words = text.split()\n",
    "            #print(words , \"\\n\")\n",
    "            filtered_words = [word for word in words if len(word) > 3 or (len(word) <= 3 and word not in stop_words)]\n",
    "            #print(filtered_words)\n",
    "            text = \" \".join(filtered_words)\n",
    "            updated_content.append(text)\n",
    "        return updated_content\n",
    "    return []\n",
    "            \n",
    "            "
   ]
  },
  {
   "cell_type": "code",
   "execution_count": 165,
   "id": "e789b9ff-3b91-4ab6-9409-f473d36fd28b",
   "metadata": {},
   "outputs": [
    {
     "name": "stdout",
     "output_type": "stream",
     "text": [
      "['want visit city #excited', 'this short test.']\n"
     ]
    }
   ],
   "source": [
    "content = [\"I     want to visit the city!     #excited\", \"This is a short test.\"]\n",
    "processed_content = preprocess(content)\n",
    "print(processed_content)"
   ]
  },
  {
   "cell_type": "code",
   "execution_count": 175,
   "id": "9ae66a83-94f8-4363-8c36-393912245385",
   "metadata": {},
   "outputs": [
    {
     "name": "stderr",
     "output_type": "stream",
     "text": [
      "24/11/10 03:03:24 WARN MemoryStore: Not enough space to cache rdd_46_34 in memory! (computed 68.2 MiB so far)\n",
      "24/11/10 03:03:37 WARN MemoryStore: Not enough space to cache rdd_46_44 in memory! (computed 68.3 MiB so far)\n",
      "24/11/10 03:03:39 WARN MemoryStore: Not enough space to cache rdd_46_47 in memory! (computed 68.8 MiB so far)\n",
      "24/11/10 03:04:17 WARN MemoryStore: Not enough space to cache rdd_46_81 in memory! (computed 68.6 MiB so far)\n",
      "24/11/10 03:04:45 WARN MemoryStore: Not enough space to cache rdd_46_103 in memory! (computed 68.4 MiB so far)\n",
      "24/11/10 03:04:45 WARN MemoryStore: Not enough space to cache rdd_46_104 in memory! (computed 68.5 MiB so far)\n",
      "24/11/10 03:05:56 WARN MemoryStore: Not enough space to cache rdd_46_167 in memory! (computed 68.2 MiB so far)\n",
      "24/11/10 03:06:04 WARN MemoryStore: Not enough space to cache rdd_46_176 in memory! (computed 68.5 MiB so far)\n",
      "24/11/10 03:06:17 WARN MemoryStore: Not enough space to cache rdd_46_187 in memory! (computed 68.1 MiB so far)\n",
      "                                                                                \r"
     ]
    },
    {
     "data": {
      "text/plain": [
       "Row(conversation_hash='00235f623a3616d09f1c240b717659d5', model='gpt-3.5-turbo-0301', timestamp=datetime.datetime(2023, 6, 20, 19, 33, 18), conversation=[Row(content='preted you are my gf. female 23', country='Croatia', hashed_ip='b2a98e8c1f6355bb73555354e4210fc50f573d0ed7e8dee40195894890d47699', header=Row(accept-language='en-US,en;q=0.9', user-agent='Mozilla/5.0 (X11; Linux x86_64) AppleWebKit/537.36 (KHTML, like Gecko) Chrome/114.0.0.0 Safari/537.36'), language='English', redacted=False, role='user', state='County of Osijek-Baranja', timestamp=None, toxic=False, turn_identifier=973016), Row(content=\"I'm sorry, I cannot pretend to be someone else as I am an artificial intelligence language model. However, I am here to assist you with any language-related tasks or inquiries you may have. Let me know how I can be of help.\", country=None, hashed_ip=None, header=None, language='English', redacted=False, role='assistant', state=None, timestamp=datetime.datetime(2023, 6, 20, 19, 33, 18), toxic=False, turn_identifier=973016)], turn=1, language='English', toxic=False, redacted=False, state='County of Osijek-Baranja', country='Croatia', hashed_ip='b2a98e8c1f6355bb73555354e4210fc50f573d0ed7e8dee40195894890d47699', content=[['preted you are my gf. female 23', \"I'm sorry, I cannot pretend to be someone else as I am an artificial intelligence language model. However, I am here to assist you with any language-related tasks or inquiries you may have. Let me know how I can be of help.\"]], turn_identifier=[973016], userprompt=['preted you are my gf. female 23'], botresp=[\"I'm sorry, I cannot pretend to be someone else as I am an artificial intelligence language model. However, I am here to assist you with any language-related tasks or inquiries you may have. Let me know how I can be of help.\"], userprompt_up=['preted gf. female 23'], botresp_up=['im sorry cannot pretend someone else artificial intelligence language model. however here assist with languagerelated tasks inquiries may have. let know help.'])"
      ]
     },
     "execution_count": 175,
     "metadata": {},
     "output_type": "execute_result"
    }
   ],
   "source": [
    "spark_df.withColumn('userprompt_up', preprocess(F.col('userprompt'))).withColumn('botresp_up', preprocess(F.col('botresp'))).first()"
   ]
  },
  {
   "cell_type": "code",
   "execution_count": 177,
   "id": "9f7f8aa6-6ac2-494f-a12a-2e092382e98e",
   "metadata": {},
   "outputs": [],
   "source": [
    "spark_df = spark_df.withColumn('userprompt_up', preprocess(F.col('userprompt'))).withColumn('botresp_up', preprocess(F.col('botresp')))"
   ]
  },
  {
   "cell_type": "code",
   "execution_count": 179,
   "id": "a6fd089b-6090-49ca-81f9-accfc1d4ea09",
   "metadata": {},
   "outputs": [
    {
     "name": "stderr",
     "output_type": "stream",
     "text": [
      "24/11/10 03:09:54 WARN MemoryStore: Not enough space to cache rdd_46_52 in memory! (computed 68.2 MiB so far)\n",
      "24/11/10 03:10:21 WARN MemoryStore: Not enough space to cache rdd_46_73 in memory! (computed 68.9 MiB so far)\n",
      "24/11/10 03:10:45 WARN MemoryStore: Not enough space to cache rdd_46_93 in memory! (computed 68.2 MiB so far)\n",
      "24/11/10 03:11:10 WARN MemoryStore: Not enough space to cache rdd_46_115 in memory! (computed 68.2 MiB so far)\n",
      "24/11/10 03:12:26 WARN MemoryStore: Not enough space to cache rdd_46_179 in memory! (computed 68.2 MiB so far)\n",
      "24/11/10 03:12:37 WARN MemoryStore: Not enough space to cache rdd_46_190 in memory! (computed 68.1 MiB so far)\n",
      "[Stage 62:=====================================================>(199 + 1) / 200]\r"
     ]
    },
    {
     "name": "stdout",
     "output_type": "stream",
     "text": [
      "+--------------------+------------------+-------------------+--------------------+----+--------+-----+--------+--------------------+--------------+--------------------+--------------------+--------------------+--------------------+--------------------+--------------------+--------------------+\n",
      "|   conversation_hash|             model|          timestamp|        conversation|turn|language|toxic|redacted|               state|       country|           hashed_ip|             content|     turn_identifier|          userprompt|             botresp|       userprompt_up|          botresp_up|\n",
      "+--------------------+------------------+-------------------+--------------------+----+--------+-----+--------+--------------------+--------------+--------------------+--------------------+--------------------+--------------------+--------------------+--------------------+--------------------+\n",
      "|00235f623a3616d09...|gpt-3.5-turbo-0301|2023-06-20 19:33:18|[{preted you are ...|   1| English|false|   false|County of Osijek-...|       Croatia|b2a98e8c1f6355bb7...|[[preted you are ...|            [973016]|[preted you are m...|[I'm sorry, I can...|[preted gf. femal...|[im sorry cannot ...|\n",
      "|0036446488c4a387c...|gpt-3.5-turbo-0613|2023-07-03 03:26:06|[{In this script ...|   1| English|false|   false|        Renfrewshire|United Kingdom|c73841d6d7bd172b3...|[[In this script ...|           [1105464]|[In this script a...|[Title: The Hypno...|[this script aime...|[title hypnotic f...|\n",
      "|0046827d81a7b6cf7...|gpt-3.5-turbo-0613|2023-07-20 00:59:33|[{make a descript...|   1| English|false|   false|       Massachusetts| United States|3e7ae36b9ca739b0e...|[[make a descript...|           [1255298]|[make a descripti...|[Once upon a time...|[make descriptive...|[once upon time p...|\n",
      "|006a3145ba0f6ae7c...|gpt-4-1106-preview|2024-02-12 11:24:01|[{I like to creat...|   1| English|false|   false|         West Bengal|         India|33ebe5868c0c48ba4...|[[I like to creat...|           [2299191]|[I like to create...|[Given your descr...|[like create diff...|[given your descr...|\n",
      "|0075a0ae6b3ad0fd3...|gpt-3.5-turbo-0613|2023-07-04 22:03:21|[{Hi what does th...|   4| English|false|   false|              Aragua|     Venezuela|eeedf9838ab24fbb1...|[[Hi what does th...|[1127640, 1127835...|[Hi what does thi...|[When someone say...|[hi what does thi...|[when someone say...|\n",
      "|00760b4b943f374df...|gpt-4-1106-preview|2024-02-16 19:00:21|[{Random nintendo...|   1| English|false|   false|                NULL| United States|5386487dfc7f9ff25...|[[Random nintendo...|           [2316455]|[Random nintendo ...|    [Nintendo Yoshi]|[random nintendo ...|    [nintendo yoshi]|\n",
      "|007922b94a0ab83bc...|gpt-3.5-turbo-0613|2023-11-14 11:41:10|[{blog post headl...|   9| English|false|   false|      North Carolina| United States|7159a234cedfaaf46...|[[please provide ...|[1820928, 1820992...|[please provide m...|[Step-by-Step Gui...|[please provide s...|[stepbystep guide...|\n",
      "|0093dfb4c12fece13...|gpt-3.5-turbo-0613|2023-07-10 22:54:56|[{Here are the pi...|   3| English|false|   false|  Kaliningrad Oblast|        Russia|7b324efbd46690222...|[[And now for the...|[1197413, 1197334...|[And now for the ...|[To create a drum...|[drums, here pian...|[create drum part...|\n",
      "|009e825db86453f4f...|gpt-3.5-turbo-0125|2024-04-25 10:32:04|[{\\n             ...|   1| English|false|   false|             Tianjin|         China|dc56fb137093e5e35...|[[\\n             ...|           [2783784]|[\\n              ...|[/imagine prompt:...|[prompt generator...|[imagine prompt w...|\n",
      "|00a2b6ce75a771ff1...|gpt-4-0125-preview|2024-04-02 18:02:04|[{Generate an ets...|   1| English|false|   false|                NULL| United States|a9af025581a94a747...|[[Generate an ets...|           [2616797]|[Generate an etsy...|[\"Sparse Blossom ...|[generate etsy ti...|[sparse blossom e...|\n",
      "|00c26488bd78ff277...|gpt-4-0125-preview|2024-04-28 16:19:30|[{write me an ess...|   2| English|false|   false|    Eastern Province|  Saudi Arabia|5c2e4c265c90db6c0...|[[write me an ess...|  [2803812, 2803816]|[write me an essa...|[Title: My Best F...|[write essay abou...|[title best frien...|\n",
      "|00d2a918346b45810...|gpt-3.5-turbo-0613|2023-08-17 12:22:05|[{Please write me...|   1| English|false|   false|             Gauteng|  South Africa|10b752a7553185ae3...|[[Please write me...|           [1396619]|[Please write me ...|[(Verse 1)\\nIn th...|[please write son...|[verse 1 this got...|\n",
      "|00d863511c13fa12e...|gpt-3.5-turbo-0613|2023-12-21 13:37:32|[{what if Naruto ...|   1| English|false|   false|              Moscow|        Russia|15b92a9d7b6b20ecb...|[[what if Naruto ...|           [2109257]|[what if Naruto n...|[If Naruto had ne...|[what naruto neve...|[naruto never sto...|\n",
      "|00d914e25ad46ab73...|gpt-3.5-turbo-0613|2023-09-03 15:56:14|[{I want you to d...|   1| English|false|   false|                NULL|     Singapore|08fedbfc4870ded05...|[[I want you to d...|           [1482758]|[I want you to de...|[Course Title: De...|[want design best...|[course title dev...|\n",
      "|00da3acc0a43cfe48...|gpt-4-1106-preview|2023-12-31 12:08:33|[{hi, Egypt, d154...|   5| English|false|   false|   Cairo Governorate|         Egypt|d154d10238f5e8ef3...|[[can you apply t...|[2150979, 2150959...|[can you apply th...|[Certainly! Pleas...|[apply above fix ...|[certainly please...|\n",
      "|00ddd309c572400af...|gpt-3.5-turbo-0613|2023-11-26 09:00:46|[{how to write a ...|   4| English|false|   false|              Muscat|          Oman|3290943d9732a55a8...|[[difference betw...|[1910648, 1910422...|[difference betwe...|[Adverbs and adve...|[difference betwe...|[adverbs adverbia...|\n",
      "|00e5abbd3a0c90a85...|        gpt-4-0314|2023-05-19 11:35:51|[{I need to apply...|   1| English|false|   false|             Florida| United States|a510f9bfc99301aa3...|[[I need to apply...|            [546272]|[I need to apply ...|[1) The FN FAL (F...|[need apply canad...|[1 fn fal fusil a...|\n",
      "|00fdbc181240e98c3...|gpt-3.5-turbo-0613|2023-07-01 07:26:36|[{write a 2015 nb...|   1| English|false|   false|  Province of Cavite|   Philippines|21433421e430e6fac...|[[write a 2015 nb...|           [1087710]|[write a 2015 nba...|[The 2015 NBA sea...|[write 2015 nba s...|[2015 nba season ...|\n",
      "|01126b39b49e215d0...|gpt-3.5-turbo-0613|2023-07-10 19:43:22|[{freedom planet ...|   1| English|false|   false|      Krasnodar Krai|        Russia|eff47ec1304940a49...|[[freedom planet ...|           [1196181]|[freedom planet C...|[As the steam fil...|[freedom planet c...|[steam filled air...|\n",
      "|012a12a6a553925a5...|gpt-3.5-turbo-0613|2023-07-17 15:35:18|[{Who is chiaki n...|   6| English|false|   false|   Cairo Governorate|         Egypt|04cfc83c6c93fbf6c...|[[Describe her fi...|[1239745, 1239757...|[Describe her fig...|[Chiaki Nanami is...|[describe figure ...|[chiaki nanami ty...|\n",
      "+--------------------+------------------+-------------------+--------------------+----+--------+-----+--------+--------------------+--------------+--------------------+--------------------+--------------------+--------------------+--------------------+--------------------+--------------------+\n",
      "only showing top 20 rows\n",
      "\n"
     ]
    },
    {
     "name": "stderr",
     "output_type": "stream",
     "text": [
      "                                                                                \r"
     ]
    }
   ],
   "source": [
    "spark_df.show()"
   ]
  },
  {
   "cell_type": "code",
   "execution_count": 181,
   "id": "5d0075ba-8007-4b1c-8097-66e3c8a08614",
   "metadata": {
    "scrolled": true
   },
   "outputs": [
    {
     "name": "stderr",
     "output_type": "stream",
     "text": [
      "24/11/10 03:13:32 WARN MemoryStore: Not enough space to cache rdd_46_28 in memory! (computed 68.1 MiB so far)\n",
      "24/11/10 03:13:51 WARN MemoryStore: Not enough space to cache rdd_46_44 in memory! (computed 68.3 MiB so far)\n",
      "24/11/10 03:13:54 WARN MemoryStore: Not enough space to cache rdd_46_49 in memory! (computed 68.4 MiB so far)\n",
      "24/11/10 03:14:20 WARN MemoryStore: Not enough space to cache rdd_46_66 in memory! (computed 68.9 MiB so far)\n",
      "24/11/10 03:14:20 WARN MemoryStore: Not enough space to cache rdd_46_67 in memory! (computed 68.3 MiB so far)\n",
      "24/11/10 03:14:49 WARN MemoryStore: Not enough space to cache rdd_46_93 in memory! (computed 68.2 MiB so far)\n",
      "24/11/10 03:15:23 WARN MemoryStore: Not enough space to cache rdd_46_121 in memory! (computed 68.3 MiB so far)\n",
      "24/11/10 03:15:24 WARN MemoryStore: Not enough space to cache rdd_46_123 in memory! (computed 68.5 MiB so far)\n",
      "24/11/10 03:15:39 WARN MemoryStore: Not enough space to cache rdd_46_138 in memory! (computed 68.3 MiB so far)\n",
      "24/11/10 03:15:45 WARN MemoryStore: Not enough space to cache rdd_46_142 in memory! (computed 68.4 MiB so far)\n",
      "24/11/10 03:15:59 WARN MemoryStore: Not enough space to cache rdd_46_157 in memory! (computed 68.4 MiB so far)\n",
      "24/11/10 03:16:29 WARN MemoryStore: Not enough space to cache rdd_46_183 in memory! (computed 68.6 MiB so far)\n",
      "                                                                                \r"
     ]
    },
    {
     "data": {
      "text/plain": [
       "454931"
      ]
     },
     "execution_count": 181,
     "metadata": {},
     "output_type": "execute_result"
    }
   ],
   "source": [
    "spark_df.count()"
   ]
  },
  {
   "cell_type": "code",
   "execution_count": 183,
   "id": "1c03349a-42af-47e3-989f-ada58c867f78",
   "metadata": {},
   "outputs": [],
   "source": [
    "output_directory = \"/Users/sharan/Desktop/EnglishChats1\""
   ]
  },
  {
   "cell_type": "code",
   "execution_count": 185,
   "id": "e03c5acd-10b5-4a4c-81fc-852bfd425cb1",
   "metadata": {
    "scrolled": true
   },
   "outputs": [
    {
     "name": "stderr",
     "output_type": "stream",
     "text": [
      "24/11/10 03:17:46 WARN MemoryStore: Not enough space to cache rdd_46_25 in memory! (computed 68.3 MiB so far)\n",
      "24/11/10 03:17:58 WARN MemoryStore: Not enough space to cache rdd_46_34 in memory! (computed 68.2 MiB so far)\n",
      "24/11/10 03:18:53 WARN MemoryStore: Not enough space to cache rdd_46_72 in memory! (computed 68.2 MiB so far)\n",
      "24/11/10 03:18:53 WARN MemoryStore: Not enough space to cache rdd_46_73 in memory! (computed 68.9 MiB so far)\n",
      "24/11/10 03:18:57 WARN MemoryStore: Not enough space to cache rdd_46_75 in memory! (computed 68.7 MiB so far)\n",
      "24/11/10 03:19:10 WARN MemoryStore: Not enough space to cache rdd_46_86 in memory! (computed 69.3 MiB so far)\n",
      "24/11/10 03:19:23 WARN MemoryStore: Not enough space to cache rdd_46_97 in memory! (computed 68.5 MiB so far)\n",
      "24/11/10 03:19:57 WARN MemoryStore: Not enough space to cache rdd_46_121 in memory! (computed 68.3 MiB so far)\n",
      "24/11/10 03:19:59 WARN MemoryStore: Not enough space to cache rdd_46_122 in memory! (computed 68.1 MiB so far)\n",
      "24/11/10 03:21:47 WARN MemoryStore: Not enough space to cache rdd_46_176 in memory! (computed 68.5 MiB so far)\n",
      "                                                                                \r"
     ]
    }
   ],
   "source": [
    "spark_df.coalesce(25).write.mode('append').parquet(output_directory)"
   ]
  },
  {
   "cell_type": "code",
   "execution_count": 189,
   "id": "b2d54171-134f-43e3-b38b-4b28c1d2e802",
   "metadata": {},
   "outputs": [
    {
     "name": "stderr",
     "output_type": "stream",
     "text": [
      "24/11/10 03:34:47 WARN MemoryStore: Not enough space to cache rdd_46_157 in memory! (computed 68.4 MiB so far)\n",
      "24/11/10 03:34:58 WARN MemoryStore: Not enough space to cache rdd_46_164 in memory! (computed 68.6 MiB so far)\n",
      "24/11/10 03:35:10 WARN MemoryStore: Not enough space to cache rdd_46_174 in memory! (computed 68.6 MiB so far)\n",
      "24/11/10 03:35:32 WARN MemoryStore: Not enough space to cache rdd_46_191 in memory! (computed 68.3 MiB so far)\n",
      "[Stage 81:=====================================================>(199 + 1) / 200]\r"
     ]
    },
    {
     "name": "stdout",
     "output_type": "stream",
     "text": [
      "+---------------------------------------------------------------------------------------------------------------------------------------------------------------------------------------------------------------------------------------------------------------------------------------------------------------------------------------------------------------------------------------------------------------------------------------------------------------------------------------------------------------------------------------------------------------------------------------------------------------------------------------------------------------------------------------------------------------------------------------------------------------------------------------------------------------------------------------------------------------------------------------------------------------------------------------------------+\n",
      "|userprompt_up                                                                                                                                                                                                                                                                                                                                                                                                                                                                                                                                                                                                                                                                                                                                                                                                                                                                                                                                      |\n",
      "+---------------------------------------------------------------------------------------------------------------------------------------------------------------------------------------------------------------------------------------------------------------------------------------------------------------------------------------------------------------------------------------------------------------------------------------------------------------------------------------------------------------------------------------------------------------------------------------------------------------------------------------------------------------------------------------------------------------------------------------------------------------------------------------------------------------------------------------------------------------------------------------------------------------------------------------------------+\n",
      "|[preted gf. female 23]                                                                                                                                                                                                                                                                                                                                                                                                                                                                                                                                                                                                                                                                                                                                                                                                                                                                                                                             |\n",
      "|[this script aimed those really into feet hypnotism want details some colleagues including jan scott kirsteen gather pub after work. they chat mess about someone happens mention hypnosis nadine mockingly pretends start hypnotizing david only playing really. nobody believes could possibly really work. everyone elses surprise nadine effortlessly hypnotizes david with impromptu induction detailed induction here please. david falls into deep trance obeying nadines commands. nadine repeatedly wakes david snaps straight back into deeper trance inabilty resist amusing everyone. they tease laugh david. one point nadine even instructs david kneel before like slave then massage sweaty feet does utterly mindlessly this best part lots details please. finally nadine commands david will forget everything except that hes incredibly easy hypnotize gradually brings back full awareness. finish with everyones reactions.]|\n",
      "+---------------------------------------------------------------------------------------------------------------------------------------------------------------------------------------------------------------------------------------------------------------------------------------------------------------------------------------------------------------------------------------------------------------------------------------------------------------------------------------------------------------------------------------------------------------------------------------------------------------------------------------------------------------------------------------------------------------------------------------------------------------------------------------------------------------------------------------------------------------------------------------------------------------------------------------------------+\n",
      "\n"
     ]
    },
    {
     "name": "stderr",
     "output_type": "stream",
     "text": [
      "                                                                                \r"
     ]
    }
   ],
   "source": [
    "spark_df.select('userprompt_up').limit(2).show(truncate=False)"
   ]
  },
  {
   "cell_type": "code",
   "execution_count": 187,
   "id": "ebe52283-5eed-4ab9-bcc4-d90670fa05eb",
   "metadata": {},
   "outputs": [],
   "source": [
    "#This completes Pre-Processing of the Dataset"
   ]
  }
 ],
 "metadata": {
  "kernelspec": {
   "display_name": "Python 3 (ipykernel)",
   "language": "python",
   "name": "python3"
  },
  "language_info": {
   "codemirror_mode": {
    "name": "ipython",
    "version": 3
   },
   "file_extension": ".py",
   "mimetype": "text/x-python",
   "name": "python",
   "nbconvert_exporter": "python",
   "pygments_lexer": "ipython3",
   "version": "3.12.2"
  }
 },
 "nbformat": 4,
 "nbformat_minor": 5
}
