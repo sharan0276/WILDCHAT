{
 "cells": [
  {
   "cell_type": "code",
   "execution_count": 2,
   "id": "57ec3b52-d0e7-4354-8d90-28c5448d10ac",
   "metadata": {},
   "outputs": [],
   "source": [
    "from pyspark import SparkContext, StorageLevel\n",
    "from pyspark.sql import SparkSession\n",
    "import pyspark.sql.functions as F\n",
    "from pyspark.ml import Pipeline\n",
    "from pyspark.sql.types import ArrayType, StringType, BooleanType, IntegerType, StructType, StructField, FloatType\n",
    "from pyspark.ml.feature import Tokenizer, CountVectorizer, IDF, StopWordsRemover, Normalizer\n",
    "from transformers import pipeline\n",
    "import pandas as pd"
   ]
  },
  {
   "cell_type": "code",
   "execution_count": 3,
   "id": "cd7621f3-53f9-471d-a5a0-bc0c10c43ab6",
   "metadata": {},
   "outputs": [
    {
     "name": "stderr",
     "output_type": "stream",
     "text": [
      "24/11/24 13:26:37 WARN Utils: Your hostname, Sharans-MacBook-Pro.local resolves to a loopback address: 127.0.0.1; using 10.0.0.30 instead (on interface en0)\n",
      "24/11/24 13:26:37 WARN Utils: Set SPARK_LOCAL_IP if you need to bind to another address\n",
      "Setting default log level to \"WARN\".\n",
      "To adjust logging level use sc.setLogLevel(newLevel). For SparkR, use setLogLevel(newLevel).\n",
      "24/11/24 13:26:38 WARN NativeCodeLoader: Unable to load native-hadoop library for your platform... using builtin-java classes where applicable\n"
     ]
    },
    {
     "data": {
      "text/html": [
       "\n",
       "            <div>\n",
       "                <p><b>SparkSession - in-memory</b></p>\n",
       "                \n",
       "        <div>\n",
       "            <p><b>SparkContext</b></p>\n",
       "\n",
       "            <p><a href=\"http://10.0.0.30:4040\">Spark UI</a></p>\n",
       "\n",
       "            <dl>\n",
       "              <dt>Version</dt>\n",
       "                <dd><code>v3.5.3</code></dd>\n",
       "              <dt>Master</dt>\n",
       "                <dd><code>local[8]</code></dd>\n",
       "              <dt>AppName</dt>\n",
       "                <dd><code>WILDCHAT-1M</code></dd>\n",
       "            </dl>\n",
       "        </div>\n",
       "        \n",
       "            </div>\n",
       "        "
      ],
      "text/plain": [
       "<pyspark.sql.session.SparkSession at 0x17cefcf20>"
      ]
     },
     "execution_count": 3,
     "metadata": {},
     "output_type": "execute_result"
    }
   ],
   "source": [
    "spark = SparkSession.builder.appName(\"WILDCHAT-1M\") \\\n",
    "    .config('spark.driver.memory', '24g') \\\n",
    "    .config('spark.executor.memory', '12g') \\\n",
    "    .config('spark.sql.debug.maxToStringFields', 1000) \\\n",
    "    .config(\"spark.default.parallelism\", \"10\") \\\n",
    "    .master('local[8]') \\\n",
    "    .config(\"spark.driver.maxResultSize\", \"10g\") \\\n",
    "    .getOrCreate()\n",
    "spark"
   ]
  },
  {
   "cell_type": "code",
   "execution_count": 4,
   "id": "18ba35ce-a1de-4a7f-b511-a1bfd16c8d8a",
   "metadata": {},
   "outputs": [
    {
     "name": "stdout",
     "output_type": "stream",
     "text": [
      "+--------------------+------------------+-------------------+--------------------+----+--------+--------------------+--------------------+-----+--------+------------------+-------------+--------------------+--------------------+\n",
      "|   conversation_hash|             model|          timestamp|        conversation|turn|language|   openai_moderation| detoxify_moderation|toxic|redacted|             state|      country|           hashed_ip|              header|\n",
      "+--------------------+------------------+-------------------+--------------------+----+--------+--------------------+--------------------+-----+--------+------------------+-------------+--------------------+--------------------+\n",
      "|698e02bae74e1ca4e...|        gpt-4-0314|2023-04-08 20:01:06|[{POUVEZ VOUS ME ...|   1|  French|[{{false, false, ...|[{0.0120244864374...| true|   false|             Dakar|      Senegal|cc4eb1e4234c16afc...|{fr,fr-FR;q=0.9,e...|\n",
      "|c9ec5b440fbdd2a26...|        gpt-4-0314|2023-04-08 20:02:53|[{Hey there! Are ...|   1| English|[{{false, false, ...|[{2.0589135237969...|false|   false|             Texas|United States|22fd87ba9b98f3d37...|{en-US,en;q=0.9,e...|\n",
      "|34f1581760df304d5...|        gpt-4-0314|2023-04-08 20:03:20|[{Crea una imagen...|   2| Spanish|[{{false, false, ...|[{0.0071708634495...|false|   false|          A Coruña|        Spain|58369722cd0bdf7fc...|{es-ES,es;q=0.9,e...|\n",
      "|cf1267ca6b2f6fccc...|        gpt-4-0314|2023-04-08 20:04:52|[{Old age PT hx o...|   1| English|[{{false, false, ...|[{2.2580225777346...|false|   false|      Mecca Region| Saudi Arabia|8133108d1c433c180...|{en-US,en;q=0.9, ...|\n",
      "|72b6aa90f180f51aa...|        gpt-4-0314|2023-04-08 20:06:12|[{I want you to a...|   1| English|[{{false, false, ...|[{4.1892222361639...| true|   false|         Kyiv City|      Ukraine|f15615c3792532468...|{ru-UA,ru;q=0.9, ...|\n",
      "|7f1c97a4f873cda81...|        gpt-4-0314|2023-04-08 20:06:29|[{calcula la medi...|   1| Catalan|[{{false, false, ...|[{3.3901850110851...|false|   false|         Barcelona|        Spain|846e43fb5fbb4b8cf...|{es,es-ES;q=0.9,e...|\n",
      "|e98d3e74c57f9a652...|        gpt-4-0314|2023-04-08 20:06:49|[{Hey there! Are ...|   1| English|[{{false, false, ...|[{2.0642601884901...|false|   false|             Texas|United States|22fd87ba9b98f3d37...|{en-US,en;q=0.9,e...|\n",
      "|1a9efccc24fe6693e...|        gpt-4-0314|2023-04-08 20:07:21|[{Что может олице...|   2| Russian|[{{false, false, ...|[{0.0042142532765...|false|   false|Tatarstan Republic|       Russia|cd1eddf1b07acac2e...|{ru-RU,ru;q=0.9, ...|\n",
      "|63d2b227dface7391...|gpt-3.5-turbo-0301|2023-04-08 20:08:31|[{who is theseus ...|   1|   Latin|[{{false, false, ...|[{3.2563757849857...|false|   false|            Attica|       Greece|c894c468a17123222...|{en-US,en;q=0.5, ...|\n",
      "|2e8fd255aab694b07...|        gpt-4-0314|2023-04-08 20:08:41|[{Hey there! Are ...|   1| English|[{{false, false, ...|[{2.0836590556427...|false|   false|             Texas|United States|22fd87ba9b98f3d37...|{en-US,en;q=0.9,e...|\n",
      "|59c72510f3143025f...|gpt-3.5-turbo-0301|2023-04-08 20:10:00|[{i wanna you to ...|   1| English|[{{false, false, ...|[{7.3175295256078...|false|   false|              Giza|        Egypt|dbf18c49cf217bc34...|{en-US,en;q=0.9, ...|\n",
      "|a46dca428c5be2714...|        gpt-4-0314|2023-04-08 20:11:02|[{Hey there! Are ...|   1| English|[{{false, false, ...|[{2.2365059703588...|false|   false|             Texas|United States|22fd87ba9b98f3d37...|{en-US,en;q=0.9,e...|\n",
      "|e18230f1108ee437a...|        gpt-4-0314|2023-04-08 20:12:23|[{Hey there! Are ...|   1| English|[{{false, false, ...|[{2.2365059703588...|false|   false|             Texas|United States|22fd87ba9b98f3d37...|{en-US,en;q=0.9,e...|\n",
      "|ea99a6a4cebf14d91...|        gpt-4-0314|2023-04-08 20:13:37|[{I want you to a...|   1| English|[{{false, false, ...|[{4.1892222361639...| true|   false|         Kyiv City|      Ukraine|f15615c3792532468...|{ru-UA,ru;q=0.9, ...|\n",
      "|80976bec07e850921...|        gpt-4-0314|2023-04-08 20:14:42|[{Разработать про...|   1| Russian|[{{false, false, ...|[{0.0068996711634...|false|   false|            Almaty|   Kazakhstan|86ec3573c37756aaa...|{ru,en;q=0.9, Moz...|\n",
      "|58653738f84f20b04...|        gpt-4-0314|2023-04-08 20:15:07|[{movies 2011, Eg...|   3| English|[{{false, false, ...|[{1.4993516379036...| true|   false|              Giza|        Egypt|9ed8a863baabc42b7...|{ar,en-US;q=0.9,e...|\n",
      "|4b8016c129dfae2f0...|        gpt-4-0314|2023-04-08 20:16:10|[{Help me flesh o...|   1| English|[{{false, false, ...|[{3.6604073829948...|false|   false| Baden-Wurttemberg|      Germany|92363ac77c4d8a5a4...|{de,en-US;q=0.7,e...|\n",
      "|53950d951e788610a...|        gpt-4-0314|2023-04-08 20:17:04|[{que me recomien...|   1| Spanish|[{{false, false, ...|[{2.1947114146314...|false|   false|         Barcelona|        Spain|846e43fb5fbb4b8cf...|{es,es-ES;q=0.9,e...|\n",
      "|0a342f2a33d8486f3...|        gpt-4-0314|2023-04-08 20:17:50|[{Create boss fig...|   1| English|[{{false, false, ...|[{4.4662176514975...|false|   false| Baden-Wurttemberg|      Germany|92363ac77c4d8a5a4...|{de,en-US;q=0.7,e...|\n",
      "|583351ad01e612f60...|        gpt-4-0314|2023-04-08 20:19:22|[{Dosage colorimé...|   1|  French|[{{false, false, ...|[{0.0021904420573...|false|   false|             Saida|      Algeria|b0e2568fd5f08c8c2...|{en-US,en;q=0.9,f...|\n",
      "+--------------------+------------------+-------------------+--------------------+----+--------+--------------------+--------------------+-----+--------+------------------+-------------+--------------------+--------------------+\n",
      "only showing top 20 rows\n",
      "\n"
     ]
    }
   ],
   "source": [
    "main_df = spark.read.parquet('/Users/sharan/Desktop/IDMP Data/*.parquet')\n",
    "main_df.show()"
   ]
  },
  {
   "cell_type": "code",
   "execution_count": 5,
   "id": "a0b9ccff-daa4-4127-9a04-e25350bdbd98",
   "metadata": {},
   "outputs": [],
   "source": [
    "journalism_df = main_df"
   ]
  },
  {
   "cell_type": "code",
   "execution_count": 6,
   "id": "9e923358-7382-40e4-a104-b6253feba5e5",
   "metadata": {},
   "outputs": [
    {
     "data": {
      "text/plain": [
       "[Row(state=None)]"
      ]
     },
     "execution_count": 6,
     "metadata": {},
     "output_type": "execute_result"
    }
   ],
   "source": [
    "journalism_df.filter(F.col('country').isNull()).select('state').distinct().collect()"
   ]
  },
  {
   "cell_type": "code",
   "execution_count": 7,
   "id": "46a2946d-2435-4e52-88e0-fd593c69d4ce",
   "metadata": {},
   "outputs": [
    {
     "data": {
      "text/plain": [
       "[Row(country='Russia'),\n",
       " Row(country='Macao'),\n",
       " Row(country='Yemen'),\n",
       " Row(country='Senegal'),\n",
       " Row(country='Sweden'),\n",
       " Row(country='Cabo Verde'),\n",
       " Row(country='The Netherlands'),\n",
       " Row(country='Philippines'),\n",
       " Row(country='Singapore'),\n",
       " Row(country='Malaysia'),\n",
       " Row(country='Iraq'),\n",
       " Row(country='Germany'),\n",
       " Row(country='Rwanda'),\n",
       " Row(country='Jordan'),\n",
       " Row(country='Maldives'),\n",
       " Row(country='Ivory Coast'),\n",
       " Row(country='France'),\n",
       " Row(country='Greece'),\n",
       " Row(country='Kosovo'),\n",
       " Row(country='Sri Lanka'),\n",
       " Row(country='Taiwan'),\n",
       " Row(country='Algeria'),\n",
       " Row(country='Togo'),\n",
       " Row(country='Slovakia'),\n",
       " Row(country='Argentina'),\n",
       " Row(country='Belgium'),\n",
       " Row(country='Ecuador'),\n",
       " Row(country='Qatar'),\n",
       " Row(country='Madagascar'),\n",
       " Row(country='Finland'),\n",
       " Row(country='Türkiye'),\n",
       " Row(country='Nicaragua'),\n",
       " Row(country='Myanmar'),\n",
       " Row(country='Ghana'),\n",
       " Row(country='Peru'),\n",
       " Row(country='Benin'),\n",
       " Row(country='United States'),\n",
       " Row(country='China'),\n",
       " Row(country='India'),\n",
       " Row(country='Bahamas'),\n",
       " Row(country='Belarus'),\n",
       " Row(country='Malta'),\n",
       " Row(country='Chile'),\n",
       " Row(country='Tajikistan'),\n",
       " Row(country='Croatia'),\n",
       " Row(country='Nigeria'),\n",
       " Row(country='Bolivia'),\n",
       " Row(country='Gabon'),\n",
       " Row(country='Italy'),\n",
       " Row(country='Lithuania'),\n",
       " Row(country='Norway'),\n",
       " Row(country='Turkmenistan'),\n",
       " Row(country='Spain'),\n",
       " Row(country='Cuba'),\n",
       " Row(country='Czechia'),\n",
       " Row(country='Denmark'),\n",
       " Row(country='Bangladesh'),\n",
       " Row(country='Iran'),\n",
       " Row(country='Ireland'),\n",
       " Row(country='Thailand'),\n",
       " Row(country='Laos'),\n",
       " Row(country='Morocco'),\n",
       " Row(country='Panama'),\n",
       " Row(country='Hong Kong'),\n",
       " Row(country='Ukraine'),\n",
       " Row(country='Venezuela'),\n",
       " Row(country='Israel'),\n",
       " Row(country='Iceland'),\n",
       " Row(country='Oman'),\n",
       " Row(country='South Korea'),\n",
       " Row(country='Cyprus'),\n",
       " Row(country='Palestine'),\n",
       " Row(country='Uruguay'),\n",
       " Row(country='Mexico'),\n",
       " Row(country='Georgia'),\n",
       " Row(country='Estonia'),\n",
       " Row(country='Zimbabwe'),\n",
       " Row(country='Indonesia'),\n",
       " Row(country='Guatemala'),\n",
       " Row(country='Guam'),\n",
       " Row(country='Mongolia'),\n",
       " Row(country='Azerbaijan'),\n",
       " Row(country='Armenia'),\n",
       " Row(country='Tunisia'),\n",
       " Row(country='Syria'),\n",
       " Row(country='Trinidad and Tobago'),\n",
       " Row(country='Saudi Arabia'),\n",
       " Row(country='French Guiana'),\n",
       " Row(country='Switzerland'),\n",
       " Row(country='Zambia'),\n",
       " Row(country='Ethiopia'),\n",
       " Row(country='Latvia'),\n",
       " Row(country='Jamaica'),\n",
       " Row(country='United Arab Emirates'),\n",
       " Row(country='Canada'),\n",
       " Row(country='Kyrgyzstan'),\n",
       " Row(country='Uzbekistan'),\n",
       " Row(country='North Macedonia'),\n",
       " Row(country='Brazil'),\n",
       " Row(country='Kenya'),\n",
       " Row(country='Lebanon'),\n",
       " Row(country='Slovenia'),\n",
       " Row(country='Dominican Republic'),\n",
       " Row(country='Japan'),\n",
       " Row(country='Tanzania'),\n",
       " Row(country='Luxembourg'),\n",
       " Row(country='New Zealand'),\n",
       " Row(country='Bosnia and Herzegovina'),\n",
       " Row(country='Greenland'),\n",
       " Row(country='Poland'),\n",
       " Row(country='Portugal'),\n",
       " Row(country='Australia'),\n",
       " Row(country='Papua New Guinea'),\n",
       " Row(country='Cameroon'),\n",
       " Row(country='Romania'),\n",
       " Row(country='Bulgaria'),\n",
       " Row(country='Austria'),\n",
       " Row(country='Nepal'),\n",
       " Row(country='Egypt'),\n",
       " Row(country='Kazakhstan'),\n",
       " Row(country='Costa Rica'),\n",
       " Row(country='Serbia'),\n",
       " Row(country='South Africa'),\n",
       " Row(country='Bahrain'),\n",
       " Row(country='Colombia'),\n",
       " Row(country='Hungary'),\n",
       " Row(country='Pakistan'),\n",
       " Row(country='Mauritius'),\n",
       " Row(country='United Kingdom'),\n",
       " Row(country='Moldova'),\n",
       " Row(country='Vietnam'),\n",
       " Row(country='Paraguay'),\n",
       " Row(country='Cambodia'),\n",
       " Row(country='Afghanistan'),\n",
       " Row(country='DR Congo'),\n",
       " Row(country='Albania'),\n",
       " Row(country='New Caledonia'),\n",
       " Row(country='Kuwait'),\n",
       " Row(country='Puerto Rico'),\n",
       " Row(country='Réunion'),\n",
       " Row(country='Guadeloupe'),\n",
       " Row(country='Monaco'),\n",
       " Row(country='Gibraltar'),\n",
       " Row(country='Montenegro'),\n",
       " Row(country='Libya'),\n",
       " Row(country='Seychelles'),\n",
       " Row(country='El Salvador'),\n",
       " Row(country='Burkina Faso'),\n",
       " Row(country='Cayman Islands'),\n",
       " Row(country='Niger'),\n",
       " Row(country='Brunei'),\n",
       " Row(country='South Sudan'),\n",
       " Row(country='Botswana'),\n",
       " Row(country='Haiti'),\n",
       " Row(country='Fiji'),\n",
       " Row(country='Angola'),\n",
       " Row(country='Somalia'),\n",
       " Row(country='Honduras'),\n",
       " Row(country='Uganda'),\n",
       " Row(country='Namibia'),\n",
       " Row(country='Mozambique'),\n",
       " Row(country='Gambia'),\n",
       " Row(country='Northern Mariana Islands'),\n",
       " Row(country='Sudan'),\n",
       " Row(country='Andorra'),\n",
       " Row(country='Mauritania'),\n",
       " Row(country='St Vincent and Grenadines'),\n",
       " Row(country='Bhutan'),\n",
       " Row(country='Eswatini'),\n",
       " Row(country='Mali'),\n",
       " Row(country='Burundi'),\n",
       " Row(country='Suriname'),\n",
       " Row(country='Curaçao'),\n",
       " Row(country='Sint Maarten'),\n",
       " Row(country='Eritrea'),\n",
       " Row(country='Grenada'),\n",
       " Row(country='Guyana'),\n",
       " Row(country='Isle of Man'),\n",
       " Row(country='Samoa'),\n",
       " Row(country='Comoros'),\n",
       " Row(country='French Polynesia'),\n",
       " Row(country='Mayotte'),\n",
       " Row(country='Saint Lucia'),\n",
       " Row(country='Guinea'),\n",
       " Row(country='Cook Islands'),\n",
       " Row(country='Congo Republic'),\n",
       " Row(country='Turks and Caicos Islands'),\n",
       " Row(country='Bonaire, Sint Eustatius, and Saba'),\n",
       " Row(country='Solomon Islands'),\n",
       " Row(country='Guernsey'),\n",
       " Row(country='Liberia'),\n",
       " Row(country='Jersey'),\n",
       " Row(country='Malawi'),\n",
       " Row(country='Timor-Leste'),\n",
       " Row(country='Martinique'),\n",
       " Row(country='Wallis and Futuna'),\n",
       " Row(country='Belize'),\n",
       " Row(country='Antigua and Barbuda'),\n",
       " Row(country='Åland Islands'),\n",
       " Row(country='Djibouti'),\n",
       " Row(country='Sierra Leone'),\n",
       " Row(country='Aruba'),\n",
       " Row(country='Liechtenstein'),\n",
       " Row(country=None)]"
      ]
     },
     "execution_count": 7,
     "metadata": {},
     "output_type": "execute_result"
    }
   ],
   "source": [
    "journalism_df.select('country').distinct().collect()"
   ]
  },
  {
   "cell_type": "code",
   "execution_count": 8,
   "id": "ab190424-a712-4e7e-80a8-5c7177cf9513",
   "metadata": {},
   "outputs": [
    {
     "name": "stdout",
     "output_type": "stream",
     "text": [
      "['Norway', 'Greece', 'Åland Islands', 'Switzerland', 'Croatia', 'Iceland', 'Luxembourg', 'Hungary', 'Netherlands', 'Lithuania', 'Slovakia', 'Liechtenstein', 'Moldova', 'Italy', 'Jersey', 'Monaco', 'Belarus', 'Latvia', 'Andorra', 'France', 'Gibraltar', 'Denmark', 'North Macedonia', 'Malta', 'Czechia', 'Guernsey', 'Kosovo', 'Svalbard and Jan Mayen', 'Montenegro', 'Faroe Islands', 'Albania', 'Serbia', 'Ukraine', 'Isle of Man', 'Estonia', 'Romania', 'Bulgaria', 'Germany', 'Poland', 'United Kingdom', 'Finland', 'Sweden', 'Vatican City', 'Russia', 'Austria', 'Cyprus', 'Portugal', 'Bosnia and Herzegovina', 'Belgium', 'Spain', 'Slovenia', 'San Marino', 'Ireland', 'United States']\n"
     ]
    }
   ],
   "source": [
    "import requests\n",
    "\n",
    "response = requests.get(\"https://restcountries.com/v3.1/region/europe\")\n",
    "journalism_countries = [country[\"name\"][\"common\"] for country in response.json()]\n",
    "journalism_countries = journalism_countries + ['United States']\n",
    "print(journalism_countries)"
   ]
  },
  {
   "cell_type": "code",
   "execution_count": 9,
   "id": "c54e3822-b0e2-41cd-85fe-a09fe5c97aed",
   "metadata": {},
   "outputs": [],
   "source": [
    "journalism_df = journalism_df.drop('timestamp', 'openai_moderation', 'detoxify_moderation', 'hashed_ip', 'header')\n",
    "journalism_df = journalism_df.filter((F.col('toxic') == False) & \n",
    "                                  (F.col('language') == \"English\") & \n",
    "                                  (F.col('country').isin(journalism_countries))\n",
    "                                )\n"
   ]
  },
  {
   "cell_type": "code",
   "execution_count": 10,
   "id": "f8a02db9-f093-429c-a3d9-35419bcd7fb5",
   "metadata": {},
   "outputs": [
    {
     "data": {
      "text/plain": [
       "[Row(country='Russia'),\n",
       " Row(country='Sweden'),\n",
       " Row(country='Germany'),\n",
       " Row(country='France'),\n",
       " Row(country='Greece'),\n",
       " Row(country='Kosovo'),\n",
       " Row(country='Slovakia'),\n",
       " Row(country='Belgium'),\n",
       " Row(country='Finland'),\n",
       " Row(country='United States'),\n",
       " Row(country='Belarus'),\n",
       " Row(country='Malta'),\n",
       " Row(country='Croatia'),\n",
       " Row(country='Italy'),\n",
       " Row(country='Lithuania'),\n",
       " Row(country='Norway'),\n",
       " Row(country='Spain'),\n",
       " Row(country='Czechia'),\n",
       " Row(country='Denmark'),\n",
       " Row(country='Ireland'),\n",
       " Row(country='Ukraine'),\n",
       " Row(country='Cyprus'),\n",
       " Row(country='Estonia'),\n",
       " Row(country='Switzerland'),\n",
       " Row(country='Latvia'),\n",
       " Row(country='North Macedonia'),\n",
       " Row(country='Slovenia'),\n",
       " Row(country='Luxembourg'),\n",
       " Row(country='Bosnia and Herzegovina'),\n",
       " Row(country='Poland'),\n",
       " Row(country='Portugal'),\n",
       " Row(country='Romania'),\n",
       " Row(country='Bulgaria'),\n",
       " Row(country='Austria'),\n",
       " Row(country='Serbia'),\n",
       " Row(country='Hungary'),\n",
       " Row(country='United Kingdom'),\n",
       " Row(country='Moldova'),\n",
       " Row(country='Albania'),\n",
       " Row(country='Monaco'),\n",
       " Row(country='Iceland'),\n",
       " Row(country='Gibraltar'),\n",
       " Row(country='Montenegro'),\n",
       " Row(country='Andorra'),\n",
       " Row(country='Isle of Man'),\n",
       " Row(country='Jersey'),\n",
       " Row(country='Guernsey')]"
      ]
     },
     "execution_count": 10,
     "metadata": {},
     "output_type": "execute_result"
    }
   ],
   "source": [
    "journalism_df.select('country').distinct().collect()"
   ]
  },
  {
   "cell_type": "code",
   "execution_count": 11,
   "id": "913b5067-89a9-49db-b745-d2605730de59",
   "metadata": {},
   "outputs": [
    {
     "data": {
      "text/plain": [
       "[Row(language='English')]"
      ]
     },
     "execution_count": 11,
     "metadata": {},
     "output_type": "execute_result"
    }
   ],
   "source": [
    "journalism_df.select('language').distinct().collect()"
   ]
  },
  {
   "cell_type": "code",
   "execution_count": 12,
   "id": "55a8b612-97ba-4b07-80ce-9566fb5a78f3",
   "metadata": {},
   "outputs": [
    {
     "data": {
      "text/plain": [
       "[Row(toxic=False)]"
      ]
     },
     "execution_count": 12,
     "metadata": {},
     "output_type": "execute_result"
    }
   ],
   "source": [
    "journalism_df.select('toxic').distinct().collect()"
   ]
  },
  {
   "cell_type": "code",
   "execution_count": 13,
   "id": "10a6f741-11d1-447d-8f19-b0325146126a",
   "metadata": {},
   "outputs": [],
   "source": [
    "journalism_df = journalism_df.drop('toxic', 'language')"
   ]
  },
  {
   "cell_type": "code",
   "execution_count": 14,
   "id": "b21cf02a-3c22-4ba0-9dec-9f89ffdc00a3",
   "metadata": {},
   "outputs": [
    {
     "name": "stdout",
     "output_type": "stream",
     "text": [
      "root\n",
      " |-- conversation_hash: string (nullable = true)\n",
      " |-- model: string (nullable = true)\n",
      " |-- conversation: array (nullable = true)\n",
      " |    |-- element: struct (containsNull = true)\n",
      " |    |    |-- content: string (nullable = true)\n",
      " |    |    |-- country: string (nullable = true)\n",
      " |    |    |-- hashed_ip: string (nullable = true)\n",
      " |    |    |-- header: struct (nullable = true)\n",
      " |    |    |    |-- accept-language: string (nullable = true)\n",
      " |    |    |    |-- user-agent: string (nullable = true)\n",
      " |    |    |-- language: string (nullable = true)\n",
      " |    |    |-- redacted: boolean (nullable = true)\n",
      " |    |    |-- role: string (nullable = true)\n",
      " |    |    |-- state: string (nullable = true)\n",
      " |    |    |-- timestamp: timestamp (nullable = true)\n",
      " |    |    |-- toxic: boolean (nullable = true)\n",
      " |    |    |-- turn_identifier: long (nullable = true)\n",
      " |-- turn: long (nullable = true)\n",
      " |-- redacted: boolean (nullable = true)\n",
      " |-- state: string (nullable = true)\n",
      " |-- country: string (nullable = true)\n",
      "\n"
     ]
    }
   ],
   "source": [
    "journalism_df.printSchema()"
   ]
  },
  {
   "cell_type": "code",
   "execution_count": 15,
   "id": "b3e227cb-5bc2-41a2-8aab-6f51f8b521c6",
   "metadata": {},
   "outputs": [],
   "source": [
    "journalism_df = journalism_df.withColumn('conversation_explode', F.explode(F.col(\"conversation\"))) \\\n",
    "    .withColumn('prompt', F.col('conversation_explode.content')) \\\n",
    "    .withColumn('turn_identifier', F.col('conversation_explode.turn_identifier')) \\\n",
    "    .drop('conversation_explode')"
   ]
  },
  {
   "cell_type": "code",
   "execution_count": 16,
   "id": "042952ea-c754-4016-84e4-734dd89b21cd",
   "metadata": {},
   "outputs": [
    {
     "data": {
      "text/plain": [
       "101652"
      ]
     },
     "execution_count": 16,
     "metadata": {},
     "output_type": "execute_result"
    }
   ],
   "source": [
    "journalism_df.filter(F.col('state').isNull()).count()"
   ]
  },
  {
   "cell_type": "code",
   "execution_count": 17,
   "id": "efc48379-88f8-49e6-9dff-4c227a806de6",
   "metadata": {},
   "outputs": [
    {
     "data": {
      "text/plain": [
       "0"
      ]
     },
     "execution_count": 17,
     "metadata": {},
     "output_type": "execute_result"
    }
   ],
   "source": [
    "journalism_df = journalism_df.fillna({'state' : \" \"})\n",
    "journalism_df.filter(F.col('state').isNull()).count()"
   ]
  },
  {
   "cell_type": "code",
   "execution_count": 18,
   "id": "e4eeca1c-d040-4d92-8f18-1986047c1d86",
   "metadata": {},
   "outputs": [
    {
     "name": "stdout",
     "output_type": "stream",
     "text": [
      "root\n",
      " |-- conversation_hash: string (nullable = true)\n",
      " |-- model: string (nullable = true)\n",
      " |-- conversation: array (nullable = true)\n",
      " |    |-- element: struct (containsNull = true)\n",
      " |    |    |-- content: string (nullable = true)\n",
      " |    |    |-- country: string (nullable = true)\n",
      " |    |    |-- hashed_ip: string (nullable = true)\n",
      " |    |    |-- header: struct (nullable = true)\n",
      " |    |    |    |-- accept-language: string (nullable = true)\n",
      " |    |    |    |-- user-agent: string (nullable = true)\n",
      " |    |    |-- language: string (nullable = true)\n",
      " |    |    |-- redacted: boolean (nullable = true)\n",
      " |    |    |-- role: string (nullable = true)\n",
      " |    |    |-- state: string (nullable = true)\n",
      " |    |    |-- timestamp: timestamp (nullable = true)\n",
      " |    |    |-- toxic: boolean (nullable = true)\n",
      " |    |    |-- turn_identifier: long (nullable = true)\n",
      " |-- turn: long (nullable = true)\n",
      " |-- redacted: boolean (nullable = true)\n",
      " |-- state: string (nullable = false)\n",
      " |-- country: string (nullable = true)\n",
      " |-- prompt: string (nullable = true)\n",
      " |-- turn_identifier: long (nullable = true)\n",
      "\n"
     ]
    }
   ],
   "source": [
    "journalism_df.printSchema()"
   ]
  },
  {
   "cell_type": "code",
   "execution_count": 19,
   "id": "769e090e-251a-4ef5-a6d1-9d10fba6f0dc",
   "metadata": {},
   "outputs": [],
   "source": [
    "import re\n",
    "\n",
    "@F.udf(StringType())\n",
    "def cleanText(prompt):\n",
    "    if prompt:\n",
    "        #clean_text = re.sub('[^a-zA-Z0-9]', '', prompt)\n",
    "        #clean_text = re.sub(' \\\\-*/=:,.&|^%$@!%', r'\\1', clean_text)\n",
    "        # Remove all non-alphanumeric characters except specific ones (.-/=,:,&|^%@!%)\n",
    "        clean_text = re.sub(r'[^a-zA-Z0-9\\.\\*/=:,.&|^%@!# ]', '', prompt)\n",
    "        clean_text = clean_text.lower()\n",
    "        # Replace multiple consecutive special characters with a single one\n",
    "        clean_text = re.sub(r'([\\-*/=:,.&|^%@!]#)\\1+', r' \\1 ', clean_text)\n",
    "        clean_text = re.sub(r'(\\d)([a-z])', r'\\1 \\2', clean_text)\n",
    "        clean_text = re.sub(r'([.?])', r' \\1 ', clean_text)\n",
    "        clean_text = re.sub(r'\\s+', ' ', clean_text).strip() \n",
    "        clean_text = re.sub(r'[\\n\\t]', ' ', clean_text)\n",
    "        clean_text = clean_text.replace('/', '') \n",
    "        return clean_text\n",
    "    return ''\n",
    "\n",
    "\n",
    "journalism_df= journalism_df.withColumn('clean', cleanText(F.col('prompt')))"
   ]
  },
  {
   "cell_type": "code",
   "execution_count": 20,
   "id": "a8497a44-aa73-4d14-b9a7-6c7ce1861e0d",
   "metadata": {},
   "outputs": [],
   "source": [
    "journalism_df = journalism_df.withColumn('clean', F.trim(F.col('clean')))"
   ]
  },
  {
   "cell_type": "code",
   "execution_count": 21,
   "id": "d0b4e47c-4b68-45ef-9e74-373d51e8a810",
   "metadata": {},
   "outputs": [],
   "source": [
    "journalism_df = journalism_df.drop('conversation')"
   ]
  },
  {
   "cell_type": "code",
   "execution_count": 22,
   "id": "bdad20d5-5165-4480-841b-84059bf343e7",
   "metadata": {},
   "outputs": [],
   "source": [
    "groupCols = [col for col in journalism_df.columns if col != 'prompt' and col != 'clean']\n",
    "journalism_df = journalism_df.groupBy(groupCols).agg(F.concat_ws(' --botresp-- ', F.collect_list('prompt')).alias('full_interaction'),\n",
    "                                                   F.concat_ws(' ', F.collect_list('clean')).alias('clean_interaction')\n",
    "                                                  )"
   ]
  },
  {
   "cell_type": "code",
   "execution_count": 23,
   "id": "f534940b-5a60-4181-ba69-c7bac3b87502",
   "metadata": {},
   "outputs": [],
   "source": [
    "tk = Tokenizer(inputCol = 'clean_interaction', outputCol = 'tokenized_clean')\n",
    "custom_stop_words = StopWordsRemover.loadDefaultStopWords(\"english\") + [\"\\n\", \"\\t\", \"\"]\n",
    "swr = StopWordsRemover(inputCol = 'tokenized_clean', outputCol = 'swr_clean_tokens', stopWords=custom_stop_words)\n",
    "cv = CountVectorizer(inputCol = 'swr_clean_tokens', outputCol = 'raw_features', vocabSize=10000000, maxDF =0.7)\n",
    "idf = IDF(inputCol = 'raw_features', outputCol = 'tfidf_features')\n",
    "normalizer = Normalizer(inputCol=\"tfidf_features\", outputCol=\"normalized_tfidf\", p=2.0)"
   ]
  },
  {
   "cell_type": "code",
   "execution_count": 24,
   "id": "25174652-cb3d-4b5e-9e43-933abeb0aaa0",
   "metadata": {},
   "outputs": [
    {
     "name": "stderr",
     "output_type": "stream",
     "text": [
      "24/11/24 13:26:51 WARN GarbageCollectionMetrics: To enable non-built-in garbage collector(s) List(G1 Concurrent GC), users should configure it(them) to spark.eventLog.gcMetrics.youngGenerationGarbageCollectors or spark.eventLog.gcMetrics.oldGenerationGarbageCollectors\n",
      "24/11/24 13:28:32 WARN DAGScheduler: Broadcasting large task binary with size 46.6 MiB\n",
      "24/11/24 13:29:14 WARN DAGScheduler: Broadcasting large task binary with size 46.6 MiB\n",
      "                                                                                \r"
     ]
    }
   ],
   "source": [
    "pipeline = Pipeline(stages=[tk, swr, cv, idf, normalizer])\n",
    "\n",
    "pipeline_model = pipeline.fit(journalism_df)\n",
    "\n",
    "processed_journalism_data = pipeline_model.transform(journalism_df)"
   ]
  },
  {
   "cell_type": "code",
   "execution_count": 25,
   "id": "7ccab3e5-d800-47b2-955e-17e3c60b904e",
   "metadata": {},
   "outputs": [
    {
     "name": "stderr",
     "output_type": "stream",
     "text": [
      "24/11/24 13:29:54 WARN DAGScheduler: Broadcasting large task binary with size 94.5 MiB\n",
      "[Stage 37:>                                                         (0 + 1) / 1]\r"
     ]
    },
    {
     "name": "stdout",
     "output_type": "stream",
     "text": [
      "+--------------------+------------------+----+--------+--------------------+--------------+---------------+--------------------+--------------------+--------------------+--------------------+--------------------+--------------------+--------------------+--------------------+--------------------+\n",
      "|   conversation_hash|             model|turn|redacted|               state|       country|turn_identifier|    full_interaction|   clean_interaction|     tokenized_clean|    swr_clean_tokens|        raw_features|      tfidf_features|    normalized_tfidf|      frequent_terms|          rare_terms|\n",
      "+--------------------+------------------+----+--------+--------------------+--------------+---------------+--------------------+--------------------+--------------------+--------------------+--------------------+--------------------+--------------------+--------------------+--------------------+\n",
      "|0002cbb456c406ec3...|gpt-3.5-turbo-0613|   5|   false|          California| United States|        1866564|Find the inverse ...|find the inverse ...|[find, the, inver...|[find, inverse, f...|(3138135,[0,8,13,...|(3138135,[0,8,13,...|(3138135,[0,8,13,...|[y^2, fx, xstep, ...|[using, x0, rearr...|\n",
      "|000434aef19c5c506...|gpt-3.5-turbo-0301|   2|   false|            Colorado| United States|         506154|What did he do --...|what did he do ma...|[what, did, he, d...|[mansa, musa, med...|(3138135,[15,23,1...|(3138135,[15,23,1...|(3138135,[15,23,1...|[musa, timbuktu, ...|[wealth, trade, p...|\n",
      "|000897e34784c48de...|gpt-4-0125-preview|   1|   false|                    | United States|        2564503|Generate an etsy ...|generate an etsy ...|[generate, an, et...|[generate, etsy, ...|(3138135,[27,42,6...|(3138135,[27,42,6...|(3138135,[27,42,6...|[flower, art, sho...|[name, unique, wo...|\n",
      "|000d6f1b03bc29a79...|gpt-4-0125-preview|   7|   false|          California| United States|        2578056|How’s this for an...|hows this for an ...|[hows, this, for,...|[hows, antihero, ...|(3138135,[1,2,4,7...|(3138135,[1,2,4,7...|(3138135,[1,2,4,7...|[dick, slade, sla...|[chose, possibili...|\n",
      "|000f768960ba9bdd8...|gpt-3.5-turbo-0301|   2|   false|      Krasnodar Krai|        Russia|        1003407|Freedom planet ch...|freedom planet ch...|[freedom, planet,...|[freedom, planet,...|(3138135,[1,4,14,...|(3138135,[1,4,14,...|(3138135,[1,4,14,...|[naruto, characte...|[began, led, naru...|\n",
      "|00183ce586b46292f...|        gpt-4-0314|   3|   false|               Paris|        France|         326075|Dis-moi quel prom...|dismoi quel promp...|[dismoi, quel, pr...|[dismoi, quel, pr...|(3138135,[77,82,4...|(3138135,[77,82,4...|(3138135,[77,82,4...|[ciel, dessinez, ...|[les, le, du, pou...|\n",
      "|0019e557b59efb271...|gpt-3.5-turbo-0301|   6|   false|      North Carolina| United States|         335064|1. Increases cust...|1 . increases cus...|[1, ., increases,...|[1, ., increases,...|(3138135,[2,3,8,9...|(3138135,[2,3,8,9...|(3138135,[2,3,8,9...|[b,, increases, a...|[c12, preferences...|\n",
      "|001c6e41d60de4390...|gpt-3.5-turbo-0301|   2|   false|    Stockholm County|        Sweden|         621272|In c++, when prin...|in c, when printi...|[in, c,, when, pr...|[c,, printing, un...|(3138135,[18,20,2...|(3138135,[18,20,2...|(3138135,[18,20,2...|[table, hash, ins...|[using, specific,...|\n",
      "|001f193801e1f33d3...|gpt-3.5-turbo-0613|   1|   false|          California| United States|        2310796|\\n               ...|as a prompt gener...|[as, a, prompt, g...|[prompt, generato...|(3138135,[0,2,3,4...|(3138135,[0,2,3,4...|(3138135,[0,2,3,4...|[prompt:, mans, v...|[versatile, delic...|\n",
      "|00209186bc1ee32cb...|gpt-3.5-turbo-0613|   1|   false|               Texas| United States|        1979699|can you check the...|can you check the...|[can, you, check,...|[check, internet,...|(3138135,[10,12,2...|(3138135,[10,12,2...|(3138135,[10,12,2...|[uptodate, check,...|[dont, informatio...|\n",
      "|002260aabfeec33b5...|gpt-3.5-turbo-0613|   2|   false|             Tallinn|       Estonia|        1454395|I mean the type u...|i mean the type u...|[i, mean, the, ty...|[mean, type, used...|(3138135,[1,2,8,9...|(3138135,[1,2,8,9...|(3138135,[1,2,8,9...| [attackers, ransom]|[victim, attacks,...|\n",
      "|00238cda063b2ae57...|gpt-3.5-turbo-0613|   1|   false|      Krasnodar Krai|        Russia|        1551494|Freedom Planet Av...|freedom planet av...|[freedom, planet,...|[freedom, planet,...|(3138135,[19,21,2...|(3138135,[19,21,2...|(3138135,[19,21,2...|     [avalice, hank]|[journey, wanted,...|\n",
      "|00264e4894e101157...|        gpt-4-0314|   7|   false|             Hackney|United Kingdom|         185540|% Parameters\\nL =...|% parametersl = 1...|[%, parametersl, ...|[%, parametersl, ...|(3138135,[0,1,2,3...|(3138135,[0,1,2,3...|(3138135,[0,1,2,3...|                  []|[*1, 10, xsteady,...|\n",
      "|002c5eab08eaf42aa...|gpt-4-1106-preview|   1|   false|            Michigan| United States|        2162616|(In the school li...|in the school lit...|[in, the, school,...|[school, literatu...|(3138135,[1,7,11,...|(3138135,[1,7,11,...|(3138135,[1,7,11,...|              [poem]|[passionate, anyt...|\n",
      "|002d3ca9346bcfeb1...|gpt-3.5-turbo-0613|   1|   false|            Michigan| United States|        1561722|(In the clubroom…...|in the clubroommo...|[in, the, clubroo...|[clubroommonika:,...|(3138135,[4,12,14...|(3138135,[4,12,14...|(3138135,[4,12,14...|[natsuki:, sayori...|[spend, natsuki, ...|\n",
      "|00348b5c98f91c4c3...|gpt-3.5-turbo-0301|   1|   false|       Massachusetts| United States|         854830|Make an immaculat...|make an immaculat...|[make, an, immacu...|[make, immaculate...|(3138135,[1,4,11,...|(3138135,[1,4,11,...|(3138135,[1,4,11,...|[patriots, jones:...|[macs, ah,, oops!...|\n",
      "|00393107193f78ebc...|gpt-3.5-turbo-0301|   8|   false|Bashkortostan Rep...|        Russia|         698151|Which software is...|which software is...|[which, software,...|[software, used, ...|(3138135,[10,14,1...|(3138135,[10,14,1...|(3138135,[10,14,1...|[pca, brazilian, ...|[digital, specifi...|\n",
      "|003aa43b86e8e2d1a...|gpt-3.5-turbo-0301|   7|   false|      Capital Region|       Denmark|        1039209|great stuff mate ...|great stuff mate ...|[great, stuff, ma...|[great, stuff, ma...|(3138135,[14,28,2...|(3138135,[14,28,2...|(3138135,[14,28,2...|[assist, welcome!...|                  []|\n",
      "|003aa43b86e8e2d1a...|gpt-3.5-turbo-0301|   7|   false|      Capital Region|       Denmark|        1039215|can you write the...|can you write the...|[can, you, write,...|[write, code, add...|(3138135,[4,10,19...|(3138135,[4,10,19...|(3138135,[4,10,19...|[threadcompatible...|[recommended, imp...|\n",
      "|003be5d9974c78522...|gpt-3.5-turbo-0301|   1|   false|             Georgia| United States|         718319|Tommy Oliver/Gree...|tommy olivergreen...|[tommy, olivergre...|[tommy, olivergre...|(3138135,[4,11,26...|(3138135,[4,11,26...|(3138135,[4,11,26...|[tommy, drakkon, ...|[capability, icon...|\n",
      "+--------------------+------------------+----+--------+--------------------+--------------+---------------+--------------------+--------------------+--------------------+--------------------+--------------------+--------------------+--------------------+--------------------+--------------------+\n",
      "only showing top 20 rows\n",
      "\n"
     ]
    },
    {
     "name": "stderr",
     "output_type": "stream",
     "text": [
      "                                                                                \r"
     ]
    }
   ],
   "source": [
    "#Extract vocabulary from CountVectorizer\n",
    "vocab = pipeline_model.stages[2].vocabulary\n",
    "\n",
    "# Function to extract frequent terms from the TF-IDF vector\n",
    "def extract_frequent_terms(tfidf_vector, vocab, threshold=0.2):\n",
    "    # Convert the sparse vector to indices and values\n",
    "    indices = tfidf_vector.indices.tolist()\n",
    "    values = tfidf_vector.values.tolist()\n",
    "    \n",
    "    # Map indices to terms and filter by threshold\n",
    "    terms = [vocab[i] for i, val in zip(indices, values) if val >= threshold if len(vocab[i]) > 1]\n",
    "    return list(set(terms))\n",
    "\n",
    "def extract_rare_terms(tfidf_vector, vocab, threshold=0.1):\n",
    "    # Convert the sparse vector to indices and values\n",
    "    indices = tfidf_vector.indices.tolist()\n",
    "    values = tfidf_vector.values.tolist()\n",
    "    \n",
    "    # Map indices to terms and filter by threshold\n",
    "    terms = [vocab[i] for i, val in zip(indices, values) if val <= threshold if len(vocab[i]) > 1]\n",
    "    return list(set(terms))\n",
    "\n",
    "\n",
    "# Broadcast the vocabulary to avoid repeated serialization\n",
    "broadcast_vocab = spark.sparkContext.broadcast(vocab)\n",
    "\n",
    "# Define UDF with a helper function\n",
    "def frequent_terms_udf(tfidf_vector):\n",
    "    return extract_frequent_terms(tfidf_vector, broadcast_vocab.value)\n",
    "\n",
    "def rare_terms_udf(tfidf_vector):\n",
    "    return extract_rare_terms(tfidf_vector, broadcast_vocab.value)\n",
    "\n",
    "# Register the UDF\n",
    "frequent_terms_udf = F.udf(frequent_terms_udf, ArrayType(StringType()))\n",
    "rare_terms_udf = F.udf(rare_terms_udf, ArrayType(StringType()))\n",
    "\n",
    "# Apply UDF to the DataFrame\n",
    "processed_journalism_data = processed_journalism_data.withColumn(\n",
    "    \"frequent_terms\",\n",
    "    frequent_terms_udf(F.col(\"normalized_tfidf\"))\n",
    ").withColumn(\"rare_terms\", rare_terms_udf(F.col(\"normalized_tfidf\")))\n",
    "\n",
    "processed_journalism_data.show()"
   ]
  },
  {
   "cell_type": "code",
   "execution_count": 26,
   "id": "963c2361-2bcc-43be-bbd0-b2953aba67c1",
   "metadata": {
    "scrolled": true
   },
   "outputs": [
    {
     "name": "stderr",
     "output_type": "stream",
     "text": [
      "24/11/24 13:30:35 WARN DAGScheduler: Broadcasting large task binary with size 94.5 MiB\n",
      "                                                                                \r"
     ]
    },
    {
     "data": {
      "text/plain": [
       "Row(conversation_hash='00393107193f78ebc59bca3804e8b34e', model='gpt-3.5-turbo-0301', turn=8, redacted=False, state='Bashkortostan Republic', country='Russia', turn_identifier=698151, full_interaction='Which software is used in Brazil for pca? --botresp-- I\\'m not aware of any specific software used for post-clearance audit (PCA) in Brazil. The Brazilian government provides a digital platform called \"Siscomex\" to manage customs processes, including PCA. Siscomex provides various modules to streamline customs procedures, including a module for risk analysis that identifies high-risk shipments to be selected for PCA. \\n\\nCustoms officials in Brazil may also use other software solutions to help with PCA, such as data analytics tools to analyze large amounts of data and identify anomalies in the import or export process. However, the specific software used may vary depending on the customs authority or department within the Brazilian government.', clean_interaction='which software is used in brazil for pca im not aware of any specific software used for postclearance audit pca in brazil . the brazilian government provides a digital platform called siscomex to manage customs processes, including pca . siscomex provides various modules to streamline customs procedures, including a module for risk analysis that identifies highrisk shipments to be selected for pca . customs officials in brazil may also use other software solutions to help with pca, such as data analytics tools to analyze large amounts of data and identify anomalies in the import or export process . however, the specific software used may vary depending on the customs authority or department within the brazilian government .', tokenized_clean=['which', 'software', 'is', 'used', 'in', 'brazil', 'for', 'pca', 'im', 'not', 'aware', 'of', 'any', 'specific', 'software', 'used', 'for', 'postclearance', 'audit', 'pca', 'in', 'brazil', '.', 'the', 'brazilian', 'government', 'provides', 'a', 'digital', 'platform', 'called', 'siscomex', 'to', 'manage', 'customs', 'processes,', 'including', 'pca', '.', 'siscomex', 'provides', 'various', 'modules', 'to', 'streamline', 'customs', 'procedures,', 'including', 'a', 'module', 'for', 'risk', 'analysis', 'that', 'identifies', 'highrisk', 'shipments', 'to', 'be', 'selected', 'for', 'pca', '.', 'customs', 'officials', 'in', 'brazil', 'may', 'also', 'use', 'other', 'software', 'solutions', 'to', 'help', 'with', 'pca,', 'such', 'as', 'data', 'analytics', 'tools', 'to', 'analyze', 'large', 'amounts', 'of', 'data', 'and', 'identify', 'anomalies', 'in', 'the', 'import', 'or', 'export', 'process', '.', 'however,', 'the', 'specific', 'software', 'used', 'may', 'vary', 'depending', 'on', 'the', 'customs', 'authority', 'or', 'department', 'within', 'the', 'brazilian', 'government', '.'], swr_clean_tokens=['software', 'used', 'brazil', 'pca', 'im', 'aware', 'specific', 'software', 'used', 'postclearance', 'audit', 'pca', 'brazil', '.', 'brazilian', 'government', 'provides', 'digital', 'platform', 'called', 'siscomex', 'manage', 'customs', 'processes,', 'including', 'pca', '.', 'siscomex', 'provides', 'various', 'modules', 'streamline', 'customs', 'procedures,', 'including', 'module', 'risk', 'analysis', 'identifies', 'highrisk', 'shipments', 'selected', 'pca', '.', 'customs', 'officials', 'brazil', 'may', 'also', 'use', 'software', 'solutions', 'help', 'pca,', 'data', 'analytics', 'tools', 'analyze', 'large', 'amounts', 'data', 'identify', 'anomalies', 'import', 'export', 'process', '.', 'however,', 'specific', 'software', 'used', 'may', 'vary', 'depending', 'customs', 'authority', 'department', 'within', 'brazilian', 'government', '.'], raw_features=SparseVector(3138135, {10: 1.0, 14: 1.0, 15: 1.0, 18: 2.0, 21: 1.0, 24: 2.0, 27: 1.0, 50: 2.0, 55: 1.0, 61: 3.0, 108: 1.0, 110: 2.0, 148: 1.0, 228: 1.0, 274: 1.0, 499: 1.0, 527: 1.0, 532: 1.0, 549: 2.0, 757: 1.0, 792: 4.0, 851: 1.0, 875: 2.0, 983: 1.0, 991: 1.0, 1153: 1.0, 1227: 1.0, 1354: 1.0, 1433: 1.0, 1773: 1.0, 1858: 1.0, 1930: 1.0, 2312: 1.0, 2444: 1.0, 2584: 1.0, 4165: 1.0, 4824: 1.0, 4829: 1.0, 4919: 1.0, 6134: 1.0, 7411: 1.0, 7624: 4.0, 8438: 1.0, 8829: 1.0, 9361: 1.0, 10397: 3.0, 10993: 1.0, 11440: 1.0, 15283: 2.0, 21090: 1.0, 26921: 4.0, 41566: 1.0, 81071: 1.0, 82718: 1.0, 142001: 2.0}), tfidf_features=SparseVector(3138135, {10: 1.4585, 14: 1.8199, 15: 1.4875, 18: 3.3174, 21: 1.7146, 24: 4.8728, 27: 1.8498, 50: 3.6653, 55: 1.7699, 61: 6.299, 108: 2.1367, 110: 4.3818, 148: 2.5537, 228: 2.8633, 274: 2.5216, 499: 3.7132, 527: 3.1536, 532: 3.5075, 549: 6.1466, 757: 3.5202, 792: 15.3996, 851: 3.7176, 875: 7.8209, 983: 3.3339, 991: 3.5461, 1153: 3.9085, 1227: 3.5713, 1354: 3.5819, 1433: 3.9307, 1773: 3.9422, 1858: 3.9299, 1930: 4.6707, 2312: 4.5191, 2444: 4.3884, 2584: 4.7773, 4165: 4.9103, 4824: 5.3465, 4829: 5.3727, 4919: 5.018, 6134: 5.6743, 7411: 5.7699, 7624: 23.576, 8438: 5.597, 8829: 6.442, 9361: 6.016, 10397: 19.4175, 10993: 5.9826, 11440: 6.0758, 15283: 14.0894, 21090: 7.0856, 26921: 32.781, 41566: 8.3539, 81071: 10.1614, 82718: 9.1115, 142001: 22.52}), normalized_tfidf=SparseVector(3138135, {10: 0.0227, 14: 0.0284, 15: 0.0232, 18: 0.0517, 21: 0.0267, 24: 0.0759, 27: 0.0288, 50: 0.0571, 55: 0.0276, 61: 0.0982, 108: 0.0333, 110: 0.0683, 148: 0.0398, 228: 0.0446, 274: 0.0393, 499: 0.0579, 527: 0.0492, 532: 0.0547, 549: 0.0958, 757: 0.0549, 792: 0.24, 851: 0.0579, 875: 0.1219, 983: 0.052, 991: 0.0553, 1153: 0.0609, 1227: 0.0557, 1354: 0.0558, 1433: 0.0613, 1773: 0.0614, 1858: 0.0612, 1930: 0.0728, 2312: 0.0704, 2444: 0.0684, 2584: 0.0745, 4165: 0.0765, 4824: 0.0833, 4829: 0.0837, 4919: 0.0782, 6134: 0.0884, 7411: 0.0899, 7624: 0.3674, 8438: 0.0872, 8829: 0.1004, 9361: 0.0938, 10397: 0.3026, 10993: 0.0932, 11440: 0.0947, 15283: 0.2196, 21090: 0.1104, 26921: 0.5109, 41566: 0.1302, 81071: 0.1584, 82718: 0.142, 142001: 0.351}), frequent_terms=['pca', 'brazilian', 'siscomex', 'customs', 'software', 'brazil'], rare_terms=['digital', 'specific', 'identify', 'procedures,', 'called', 'department', 'officials', 'processes,', 'analyze', 'various', 'data', 'aware', 'depending', 'export', 'vary', 'risk', 'identifies', 'streamline', 'modules', 'authority', 'also', 'module', 'large', 'analytics', 'manage', 'provides', 'import', 'use', 'help', 'amounts', 'used', 'including', 'platform', 'im', 'selected', 'solutions', 'however,', 'tools', 'analysis', 'within', 'anomalies', 'process', 'may'])"
      ]
     },
     "execution_count": 26,
     "metadata": {},
     "output_type": "execute_result"
    }
   ],
   "source": [
    "processed_journalism_data.filter(F.array_contains(F.col('frequent_terms'), 'software') | F.array_contains(F.col('rare_terms'), 'software')).first()\n"
   ]
  },
  {
   "cell_type": "code",
   "execution_count": 27,
   "id": "b450c645-dd05-46bb-8a96-c6a5b77e2bc3",
   "metadata": {},
   "outputs": [
    {
     "name": "stdout",
     "output_type": "stream",
     "text": [
      "root\n",
      " |-- conversation_hash: string (nullable = true)\n",
      " |-- model: string (nullable = true)\n",
      " |-- turn: long (nullable = true)\n",
      " |-- redacted: boolean (nullable = true)\n",
      " |-- state: string (nullable = false)\n",
      " |-- country: string (nullable = true)\n",
      " |-- turn_identifier: long (nullable = true)\n",
      " |-- full_interaction: string (nullable = false)\n",
      " |-- clean_interaction: string (nullable = false)\n",
      " |-- tokenized_clean: array (nullable = true)\n",
      " |    |-- element: string (containsNull = true)\n",
      " |-- swr_clean_tokens: array (nullable = true)\n",
      " |    |-- element: string (containsNull = true)\n",
      " |-- raw_features: vector (nullable = true)\n",
      " |-- tfidf_features: vector (nullable = true)\n",
      " |-- normalized_tfidf: vector (nullable = true)\n",
      " |-- frequent_terms: array (nullable = true)\n",
      " |    |-- element: string (containsNull = true)\n",
      " |-- rare_terms: array (nullable = true)\n",
      " |    |-- element: string (containsNull = true)\n",
      "\n"
     ]
    }
   ],
   "source": [
    "processed_journalism_data.printSchema()"
   ]
  },
  {
   "cell_type": "code",
   "execution_count": 28,
   "id": "92440848-c89b-4dd2-a932-96191ad44d68",
   "metadata": {},
   "outputs": [],
   "source": [
    "processed_journalism_data = processed_journalism_data.drop('tokenized_clean','swr_clean_tokens','raw_features', 'tfidf_features', 'normalized_tfidf')"
   ]
  },
  {
   "cell_type": "code",
   "execution_count": 29,
   "id": "0c6136f0-659f-43c0-9609-51208637ccf8",
   "metadata": {},
   "outputs": [
    {
     "name": "stderr",
     "output_type": "stream",
     "text": [
      "24/11/24 13:30:41 WARN DAGScheduler: Broadcasting large task binary with size 94.5 MiB\n",
      "[Stage 43:>                                                         (0 + 1) / 1]\r"
     ]
    },
    {
     "name": "stdout",
     "output_type": "stream",
     "text": [
      "+--------------------+------------------+----+--------+--------------------+-------+---------------+--------------------+--------------------+--------------------+--------------------+\n",
      "|   conversation_hash|             model|turn|redacted|               state|country|turn_identifier|    full_interaction|   clean_interaction|      frequent_terms|          rare_terms|\n",
      "+--------------------+------------------+----+--------+--------------------+-------+---------------+--------------------+--------------------+--------------------+--------------------+\n",
      "|00393107193f78ebc...|gpt-3.5-turbo-0301|   8|   false|Bashkortostan Rep...| Russia|         698151|Which software is...|which software is...|[pca, brazilian, ...|[digital, specifi...|\n",
      "|00393107193f78ebc...|gpt-3.5-turbo-0301|   8|   false|Bashkortostan Rep...| Russia|         698059|Provide me with a...|provide me with a...|[038, monteiro,, ...|[machine, hope, f...|\n",
      "|00393107193f78ebc...|gpt-3.5-turbo-0301|   8|   false|Bashkortostan Rep...| Russia|         697946|Please now find a...|please now find a...|[audit, avalara, ...|[system, enhance,...|\n",
      "|00393107193f78ebc...|gpt-3.5-turbo-0301|   8|   false|Bashkortostan Rep...| Russia|         698082|Webpage source I ...|webpage source i ...|[journals, webpag...|[provided, langua...|\n",
      "|00393107193f78ebc...|gpt-3.5-turbo-0301|   8|   false|Bashkortostan Rep...| Russia|         698041|Who is Sofia Cost...|who is sofia cost...|[sofia, costa, de...|[machine, details...|\n",
      "|00393107193f78ebc...|gpt-3.5-turbo-0301|   8|   false|Bashkortostan Rep...| Russia|         697954|I mean scientific...|i mean scientific...|[audit, link:, po...|[assisting, trade...|\n",
      "|00393107193f78ebc...|gpt-3.5-turbo-0301|   8|   false|Bashkortostan Rep...| Russia|         698024|You should admit ...|you should admit ...|[de, audits, post...|[transit, trade, ...|\n",
      "|00393107193f78ebc...|gpt-3.5-turbo-0301|   8|   false|Bashkortostan Rep...| Russia|         697988|You needn't give ...|you neednt give m...|[audit, postclear...|[assisting, trade...|\n",
      "+--------------------+------------------+----+--------+--------------------+-------+---------------+--------------------+--------------------+--------------------+--------------------+\n",
      "\n"
     ]
    },
    {
     "name": "stderr",
     "output_type": "stream",
     "text": [
      "                                                                                \r"
     ]
    }
   ],
   "source": [
    "processed_journalism_data.filter(F.col('conversation_hash') == '00393107193f78ebc59bca3804e8b34e').show()"
   ]
  },
  {
   "cell_type": "code",
   "execution_count": 56,
   "id": "0faa9e55-6138-44ee-9d96-57da19a0bda4",
   "metadata": {},
   "outputs": [
    {
     "name": "stderr",
     "output_type": "stream",
     "text": [
      "24/11/24 02:53:29 WARN DAGScheduler: Broadcasting large task binary with size 94.7 MiB\n",
      "                                                                                \r"
     ]
    }
   ],
   "source": [
    "output_directory = \"/Users/sharan/Desktop/JournalismChats\"\n",
    "processed_journalism_data.coalesce(15).write.mode('append').parquet(output_directory)"
   ]
  }
 ],
 "metadata": {
  "kernelspec": {
   "display_name": "Python 3 (ipykernel)",
   "language": "python",
   "name": "python3"
  },
  "language_info": {
   "codemirror_mode": {
    "name": "ipython",
    "version": 3
   },
   "file_extension": ".py",
   "mimetype": "text/x-python",
   "name": "python",
   "nbconvert_exporter": "python",
   "pygments_lexer": "ipython3",
   "version": "3.12.2"
  }
 },
 "nbformat": 4,
 "nbformat_minor": 5
}
